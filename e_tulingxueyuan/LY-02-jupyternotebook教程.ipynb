{
 "cells": [
  {
   "cell_type": "markdown",
   "metadata": {},
   "source": [
    "# 笔记本两个模式\n",
    "- 输入模式：允许用户输入\n",
    "- 命令模式: 允许用户通过命令操作笔记本\n",
    "- 模式的转换： 回车to输入， ESC键to命令模式\n",
    "\n",
    "# 两种输入模式\n",
    "- python代码模式: python代码可以直接运行，输入\n",
    "- Markdown模式： 允许使用markdown语法\n",
    "- https://www.jianshu.com/p/7bd23251da0a\n",
    "- https://www.zhihu.com/question/20409634\n",
    "\n",
    "# 执行快捷键\n",
    "- Alt+Enter： 执行代码，并再下面生成一个新的输入框\n",
    "- Shift+Enter： 执行代码\n",
    "- Ctrl+Enter: 执行代码\n",
    "\n",
    "# Jupyter notebook教程\n",
    "- https://blog.csdn.net/red_stone1/article/details/72858962\n"
   ]
  },
  {
   "cell_type": "code",
   "execution_count": 4,
   "metadata": {},
   "outputs": [
    {
     "name": "stdout",
     "output_type": "stream",
     "text": [
      "Hello world\n"
     ]
    }
   ],
   "source": [
    "print(\"Hello world\")"
   ]
  },
  {
   "cell_type": "code",
   "execution_count": null,
   "metadata": {},
   "outputs": [],
   "source": []
  }
 ],
 "metadata": {
  "kernelspec": {
   "display_name": "Python 3",
   "language": "python",
   "name": "python3"
  },
  "language_info": {
   "codemirror_mode": {
    "name": "ipython",
    "version": 3
   },
   "file_extension": ".py",
   "mimetype": "text/x-python",
   "name": "python",
   "nbconvert_exporter": "python",
   "pygments_lexer": "ipython3",
   "version": "3.6.4"
  }
 },
 "nbformat": 4,
 "nbformat_minor": 2
}
