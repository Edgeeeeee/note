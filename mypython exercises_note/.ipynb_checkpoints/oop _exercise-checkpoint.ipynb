{
 "cells": [
  {
   "cell_type": "markdown",
   "metadata": {},
   "source": [
    "###  定义一个学生类，有下面的属性"
   ]
  },
  {
   "cell_type": "markdown",
   "metadata": {},
   "source": [
    "- 姓名\n",
    "- 年龄\n",
    "- 成绩（语文，数学，英语）每科成绩类型为证书类方法\n",
    "- 获取学生的姓名：get_name() 返回类型：str\n",
    "- 获取学生的年纪：get_age() 返回类型： int\n",
    "- 返回3门科目中最高的分数，get_course() 返回类型 ：int"
   ]
  },
  {
   "cell_type": "code",
   "execution_count": 8,
   "metadata": {},
   "outputs": [
    {
     "name": "stdout",
     "output_type": "stream",
     "text": [
      "100\n"
     ]
    }
   ],
   "source": [
    "# ans\n",
    "class Student(object):\n",
    "    def __init__(self,name,age,scorse):\n",
    "        self.name = name \n",
    "        self.age = age\n",
    "        self.scorse = scorse\n",
    "        \n",
    "    def get_name(self):\n",
    "        return self.name\n",
    "    def get_age(self):\n",
    "        return self.age\n",
    "    def get_course(self):\n",
    "        return  max(self.scorse)\n",
    "    \n",
    "    \n",
    "stu  =  Student(\"xmn\",18,[100,99,90])\n",
    "print(stu.get_course())"
   ]
  },
  {
   "cell_type": "markdown",
   "metadata": {},
   "source": [
    "### 定义一个字典类：DictClass，完成如下功能\n",
    "- 删除某个key del_dict(key)\n",
    "- 判断某个健是否在字典里，如果在，返回键对应值，不在则返回not found\n",
    "- 返回键组成的列表，返回类型： list   get_key()\n",
    "- 合并字典，并返回合并后的values组成的列表，返回类型：update_dict()\n"
   ]
  },
  {
   "cell_type": "code",
   "execution_count": 35,
   "metadata": {},
   "outputs": [
    {
     "name": "stdout",
     "output_type": "stream",
     "text": [
      "dict_keys(['a', 'b', '12'])\n",
      "2\n",
      "[1, 3]\n"
     ]
    }
   ],
   "source": [
    "class Dictclass(object):\n",
    "    def __init__(self,dict):\n",
    "        self.dict = dict\n",
    "        \n",
    "    def del_dict(self,key):\n",
    "        # 判断key是否在字典里\n",
    "        # if key in self.dict.keys():\n",
    "        a = self.dict.pop(key,\"key不在字典里！\")\n",
    "        print(a)\n",
    "        \n",
    "        '''\n",
    "        else:\n",
    "            return \"key不在字典里\"\n",
    "        '''\n",
    "    def listget_dict(self):\n",
    "        a = list()\n",
    "        for i in self.dict.values():\n",
    "            a.append(i)\n",
    "        return a \n",
    "        \n",
    "d = Dictclass({'a':1,'b':2,\"12\":3,})\n",
    "print(d.dict.keys()) # 直接返回列表\n",
    "d.del_dict('b')\n",
    "b = d.listget_dict()\n",
    "print(b)"
   ]
  },
  {
   "cell_type": "code",
   "execution_count": 11,
   "metadata": {},
   "outputs": [
    {
     "name": "stdout",
     "output_type": "stream",
     "text": [
      "Help on method_descriptor:\n",
      "\n",
      "pop(...)\n",
      "    D.pop(k[,d]) -> v, remove specified key and return the corresponding value.\n",
      "    If key is not found, d is returned if given, otherwise KeyError is raised\n",
      "\n"
     ]
    }
   ],
   "source": [
    "help(dict.pop)"
   ]
  },
  {
   "cell_type": "markdown",
   "metadata": {},
   "source": [
    "### 定义一个列表的操作类ListInfo\n",
    "- 列表元素添加 add_key()\n",
    "- 列表元素取值 get_key()\n",
    "- 列表合并 updata_list(list)\n",
    "- 删除并返回最后一个元素：del_key()"
   ]
  },
  {
   "cell_type": "code",
   "execution_count": 49,
   "metadata": {},
   "outputs": [
    {
     "name": "stdout",
     "output_type": "stream",
     "text": [
      "你输入的太多了,想太多了\n",
      "1\n",
      "5\n",
      "4\n"
     ]
    }
   ],
   "source": [
    "class ListInfo(object):\n",
    "    def __init__(self,list_val):\n",
    "        self.list = list_val\n",
    "        \n",
    "    def add_key(self,key):\n",
    "        self.list.append(key_name)\n",
    "        return \"ok\"\n",
    "    \n",
    "    #查找\n",
    "    def get_key(self,index):\n",
    "        # 判断索引是否超出列表\n",
    "        if index >= 0 and index < len(self.list):\n",
    "            return self.list[index]\n",
    "        else:\n",
    "            return  \"你输入的太多了,想太多了\"\n",
    "        \n",
    "    # 列表合并\n",
    "    def updata_list(self,new_list):\n",
    "        return self.list.extend(new_list)\n",
    "    \n",
    "    # 删除并且返回最后一个元素\n",
    "    def del_key(self):\n",
    "        # 首先判断列表是否还有元素\n",
    "        if len(self.list) > 0:\n",
    "            return self.list.pop(-1)\n",
    "        else:\n",
    "            return \"草，列表是空的\"\n",
    "        \n",
    "list_info = ListInfo([1,2,3,4,5])\n",
    "print(list_info.get_key(5))\n",
    "list_info.updata_list([1,2,3,4,5])\n",
    "print(list_info.get_key(5))\n",
    "print(list_info.del_key())\n",
    "print(list_info.del_key())"
   ]
  },
  {
   "cell_type": "markdown",
   "metadata": {},
   "source": [
    "### 定义一个集合的操作类\n",
    "- 包括的方法\n",
    "    - 几何元素的添加\n",
    "    - 集合的交集\n",
    "    - 集合的并集\n",
    "    - 集合的差集"
   ]
  },
  {
   "cell_type": "code",
   "execution_count": 23,
   "metadata": {},
   "outputs": [
    {
     "name": "stdout",
     "output_type": "stream",
     "text": [
      "{1, 2, 3, 4, 5, 6}\n",
      "{5, 6}\n",
      "{1, 2, 3, 4, 5, 6, 7, 8, 9}\n",
      "{1, 2, 3, 4}\n"
     ]
    }
   ],
   "source": [
    "class SetInfo():\n",
    "    def __init__(self,set_name):\n",
    "        self.set = set_name\n",
    "        \n",
    "    # 添加    \n",
    "    def add_setinfo(self,addname):\n",
    "        self.set.add(addname)\n",
    "        return self.set\n",
    "    # 取交集\n",
    "    def get_intersection(self,unioninfo):\n",
    "        if isinstance(unioninfo,set): # 如果传入的不是集合，则返回错误信息\n",
    "            return self.set & unioninfo\n",
    "        else:\n",
    "            return \"你输入的不是集合！\"\n",
    "    def get_union(self,unioninfo):\n",
    "        if isinstance(unioninfo,set):\n",
    "            return self.set | unioninfo\n",
    "        else:\n",
    "            return \"你输入的不是集合！\"\n",
    "    \n",
    "    \n",
    "    def get_difference(self,unioninfo):\n",
    "        if isinstance(unioninfo,set):\n",
    "            return self.set - unioninfo\n",
    "        else:\n",
    "            return \"你输入的不是集合！\"\n",
    "    \n",
    "A = set([1,2,3,4,5,6])\n",
    "B = set([5,6,7,8,9])\n",
    "myset = SetInfo(A)\n",
    "print(myset.add_setinfo(2))    # 添加元素\n",
    "print(myset.get_intersection(B))  # 取交集\n",
    "print(myset.get_union(B))  # 取并集\n",
    "print(myset.get_difference(B))  # 取差集"
   ]
  },
  {
   "cell_type": "markdown",
   "metadata": {},
   "source": [
    "### 创建北京和成都两个校区\n",
    "- 创建Linux/Python两个课程\n",
    "- 创建北京校区的Python 3期课程和成都分校区的Linux的1期课程\n",
    "- 管理员创建了北京校区的学员小张，并将其分配在了Python3期\n",
    "- 管理员创建了讲师小周，并将其分配给了Python 3 期 \n",
    "- 讲师小周创建了一i条python 3 期的上课记录Day02\n",
    "- 讲师小周为Day02这节课所有学员批改了作业，小张得了A，小王得了B\n",
    "- 学员小李查看了自己报的课程\n",
    "- 学员小李查看了自己在python 3 的成绩列表，然后退出了\n",
    "- 学院小张给了讲师小周好评 \n"
   ]
  },
  {
   "cell_type": "code",
   "execution_count": 3,
   "metadata": {},
   "outputs": [],
   "source": [
    "Course_list = []\n",
    "class School(object):\n",
    "    def __init__(self,school_name):\n",
    "        self.school_name = school_name\n",
    "        self.student_list = []\n",
    "        self,teachers_list = []\n",
    "        \n",
    "        global Course_list\n",
    "        \n",
    "    def hire(self,obj):\n",
    "        self.teachers_list.append(obj.name)\n",
    "        print(\"我们聘请了一个新老师{0}\".format(obj.name))\n",
    "        \n",
    "    def enroll(self,obj):\n",
    "        self.student_list.append(obj.name)\n",
    "        print(\"我们又有了一个新学院{0}\".format(obj.name))\n",
    "        \n",
    "class Grade(School): # 年级 \n",
    "    def __init__(self,school_name,grade_code,grade_course):\n",
    "        super().__init__(school_name)\n",
    "        self.code = grade_code\n",
    "        self.course = grade_course\n",
    "        self.members = []\n",
    "        Course_list.append(self.course)\n",
    "        \n",
    "        print(\"我们有了{0}的{}的{}\".format(self.school_name,self.code,self.course))\n",
    "        \n",
    "        \n",
    "    def course_info(self):\n",
    "        print()"
   ]
  },
  {
   "cell_type": "code",
   "execution_count": null,
   "metadata": {},
   "outputs": [],
   "source": []
  }
 ],
 "metadata": {
  "kernelspec": {
   "display_name": "Python 3",
   "language": "python",
   "name": "python3"
  },
  "language_info": {
   "codemirror_mode": {
    "name": "ipython",
    "version": 3
   },
   "file_extension": ".py",
   "mimetype": "text/x-python",
   "name": "python",
   "nbconvert_exporter": "python",
   "pygments_lexer": "ipython3",
   "version": "3.7.0"
  }
 },
 "nbformat": 4,
 "nbformat_minor": 2
}
