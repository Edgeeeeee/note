{
 "cells": [
  {
   "cell_type": "code",
   "execution_count": 8,
   "metadata": {},
   "outputs": [
    {
     "name": "stdout",
     "output_type": "stream",
     "text": [
      "* \n",
      "* * \n",
      "* * * \n",
      "* * * * \n",
      "* * * * * \n",
      "1\n",
      "2\n",
      "3\n",
      "4\n",
      "5\n"
     ]
    }
   ],
   "source": [
    "# 打印三角形\n",
    "for i in range(1,6):\n",
    "    print(\"* \"* i )\n",
    "    \n",
    "l = range(1,6)\n",
    "for i in l:\n",
    "    print(i)"
   ]
  },
  {
   "cell_type": "code",
   "execution_count": 9,
   "metadata": {},
   "outputs": [
    {
     "name": "stdout",
     "output_type": "stream",
     "text": [
      "* * * * * \n",
      "* * * * \n",
      "* * * \n",
      "* * \n",
      "* \n"
     ]
    }
   ],
   "source": [
    "for i in range(5):\n",
    "    for j in range(5-i):\n",
    "        print(\"* \",end = \"\")\n",
    "    print()"
   ]
  },
  {
   "cell_type": "code",
   "execution_count": 13,
   "metadata": {},
   "outputs": [
    {
     "name": "stdout",
     "output_type": "stream",
     "text": [
      "* * * * * \n",
      "*     * \n",
      "*   * \n",
      "* * \n",
      "* \n"
     ]
    }
   ],
   "source": [
    "for i in range(5):\n",
    "    for j in range(5 - i):\n",
    "        if i == 0 :\n",
    "            print(\"*\",end = \" \")\n",
    "            continue\n",
    "                \n",
    "            \n",
    "        if j == 0 or j == 5 - i - 1:\n",
    "            print(\"* \",end = \"\")\n",
    "        else:\n",
    "            print(\"  \",end = \"\")\n",
    "    print()\n",
    "        "
   ]
  },
  {
   "cell_type": "code",
   "execution_count": 16,
   "metadata": {},
   "outputs": [
    {
     "name": "stdout",
     "output_type": "stream",
     "text": [
      "      * \n",
      "     * * \n",
      "    * * * \n",
      "   * * * * \n",
      "  * * * * * \n",
      " * * * * * * \n"
     ]
    }
   ],
   "source": [
    "# 打印三角形，正三角形\n",
    "# 总体思路是先打印一行空格，代表每一行星星前的空格\n",
    "for i in range(6):\n",
    "    for j in range (6-i):\n",
    "        print(\" \",end = \"\")\n",
    "    for m in range(i + 1):\n",
    "        print(\"* \",end = \"\")\n",
    "    print()\n",
    "        "
   ]
  },
  {
   "cell_type": "code",
   "execution_count": 27,
   "metadata": {},
   "outputs": [
    {
     "name": "stdout",
     "output_type": "stream",
     "text": [
      "      * \n",
      "     * * \n",
      "    *   * \n",
      "   *     * \n",
      "  *       * \n",
      " * * * * * * \n"
     ]
    }
   ],
   "source": [
    "# 打印空三角\n",
    "for i in range(6):\n",
    "    for j in range (6 - i):\n",
    "        print(\" \",end = \"\")\n",
    "    for m in range(i + 1):\n",
    "        if i == 5:\n",
    "            print(\"* \",end = \"\")\n",
    "            continue\n",
    "        if m == 0 or m == i :\n",
    "            print(\"* \",end = \"\")\n",
    "        else:\n",
    "            print(\"  \",end = \"\")\n",
    "    print()"
   ]
  },
  {
   "cell_type": "code",
   "execution_count": 36,
   "metadata": {},
   "outputs": [
    {
     "name": "stdout",
     "output_type": "stream",
     "text": [
      "    * \n",
      "   * * \n",
      "  *   * \n",
      " *     * \n",
      "* * * * * \n"
     ]
    }
   ],
   "source": [
    "# 打印空心三角,\n",
    "for i in range(1,6):\n",
    "    # 打印第i行空格\n",
    "    for k in range(1,6-i):\n",
    "        print(\" \",end = \"\")\n",
    "    # 打印第i行星星\n",
    "    for m in range(6-i,6):\n",
    "        if i == 5 or m == 5 or m == 6 - i:\n",
    "            print(\"*\",end = \" \")\n",
    "        else:\n",
    "            print(\"  \",end = \"\")\n",
    "    print()\n"
   ]
  },
  {
   "cell_type": "code",
   "execution_count": null,
   "metadata": {},
   "outputs": [],
   "source": []
  }
 ],
 "metadata": {
  "kernelspec": {
   "display_name": "Python 3",
   "language": "python",
   "name": "python3"
  },
  "language_info": {
   "codemirror_mode": {
    "name": "ipython",
    "version": 3
   },
   "file_extension": ".py",
   "mimetype": "text/x-python",
   "name": "python",
   "nbconvert_exporter": "python",
   "pygments_lexer": "ipython3",
   "version": "3.7.0"
  }
 },
 "nbformat": 4,
 "nbformat_minor": 2
}
