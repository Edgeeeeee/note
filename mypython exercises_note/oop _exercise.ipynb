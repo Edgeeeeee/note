{
 "cells": [
  {
   "cell_type": "markdown",
   "metadata": {},
   "source": [
    "###  定义一个学生类，有下面的属性"
   ]
  },
  {
   "cell_type": "markdown",
   "metadata": {},
   "source": [
    "- 姓名\n",
    "- 年龄\n",
    "- 成绩（语文，数学，英语）每科成绩类型为证书类方法\n",
    "- 获取学生的姓名：get_name() 返回类型：str\n",
    "- 获取学生的年纪：get_age() 返回类型： int\n",
    "- 返回3门科目中最高的分数，get_course() 返回类型 ：int"
   ]
  },
  {
   "cell_type": "code",
   "execution_count": 8,
   "metadata": {},
   "outputs": [
    {
     "name": "stdout",
     "output_type": "stream",
     "text": [
      "100\n"
     ]
    }
   ],
   "source": [
    "# ans\n",
    "class Student(object):\n",
    "    def __init__(self,name,age,scorse):\n",
    "        self.name = name \n",
    "        self.age = age\n",
    "        self.scorse = scorse\n",
    "        \n",
    "    def get_name(self):\n",
    "        return self.name\n",
    "    def get_age(self):\n",
    "        return self.age\n",
    "    def get_course(self):\n",
    "        return  max(self.scorse)\n",
    "    \n",
    "    \n",
    "stu  =  Student(\"xmn\",18,[100,99,90])\n",
    "print(stu.get_course())"
   ]
  },
  {
   "cell_type": "markdown",
   "metadata": {},
   "source": [
    "### 定义一个字典类：DictClass，完成如下功能\n",
    "- 删除某个key del_dict(key)\n",
    "- 判断某个健是否在字典里，如果在，返回键对应值，不在则返回not found\n",
    "- 返回键组成的列表，返回类型： list   get_key()\n",
    "- 合并字典，并返回合并后的values组成的列表，返回类型：update_dict()\n"
   ]
  },
  {
   "cell_type": "code",
   "execution_count": 35,
   "metadata": {},
   "outputs": [
    {
     "name": "stdout",
     "output_type": "stream",
     "text": [
      "dict_keys(['a', 'b', '12'])\n",
      "2\n",
      "[1, 3]\n"
     ]
    }
   ],
   "source": [
    "class Dictclass(object):\n",
    "    def __init__(self,dict):\n",
    "        self.dict = dict\n",
    "        \n",
    "    def del_dict(self,key):\n",
    "        # 判断key是否在字典里\n",
    "        # if key in self.dict.keys():\n",
    "        a = self.dict.pop(key,\"key不在字典里！\")\n",
    "        print(a)\n",
    "        \n",
    "        '''\n",
    "        else:\n",
    "            return \"key不在字典里\"\n",
    "        '''\n",
    "    def listget_dict(self):\n",
    "        a = list()\n",
    "        for i in self.dict.values():\n",
    "            a.append(i)\n",
    "        return a \n",
    "        \n",
    "d = Dictclass({'a':1,'b':2,\"12\":3,})\n",
    "print(d.dict.keys()) # 直接返回列表\n",
    "d.del_dict('b')\n",
    "b = d.listget_dict()\n",
    "print(b)"
   ]
  },
  {
   "cell_type": "code",
   "execution_count": 11,
   "metadata": {},
   "outputs": [
    {
     "name": "stdout",
     "output_type": "stream",
     "text": [
      "Help on method_descriptor:\n",
      "\n",
      "pop(...)\n",
      "    D.pop(k[,d]) -> v, remove specified key and return the corresponding value.\n",
      "    If key is not found, d is returned if given, otherwise KeyError is raised\n",
      "\n"
     ]
    }
   ],
   "source": [
    "help(dict.pop)"
   ]
  },
  {
   "cell_type": "markdown",
   "metadata": {},
   "source": [
    "### 定义一个列表的操作类ListInfo\n",
    "- 列表元素添加 add_key()\n",
    "- 列表元素取值 get_key()\n",
    "- 列表合并 updata_list(list)\n",
    "- 删除并返回最后一个元素：del_key()"
   ]
  },
  {
   "cell_type": "code",
   "execution_count": 49,
   "metadata": {},
   "outputs": [
    {
     "name": "stdout",
     "output_type": "stream",
     "text": [
      "你输入的太多了,想太多了\n",
      "1\n",
      "5\n",
      "4\n"
     ]
    }
   ],
   "source": [
    "class ListInfo(object):\n",
    "    def __init__(self,list_val):\n",
    "        self.list = list_val\n",
    "        \n",
    "    def add_key(self,key):\n",
    "        self.list.append(key_name)\n",
    "        return \"ok\"\n",
    "    \n",
    "    #查找\n",
    "    def get_key(self,index):\n",
    "        # 判断索引是否超出列表\n",
    "        if index >= 0 and index < len(self.list):\n",
    "            return self.list[index]\n",
    "        else:\n",
    "            return  \"你输入的太多了,想太多了\"\n",
    "        \n",
    "    # 列表合并\n",
    "    def updata_list(self,new_list):\n",
    "        return self.list.extend(new_list)\n",
    "    \n",
    "    # 删除并且返回最后一个元素\n",
    "    def del_key(self):\n",
    "        # 首先判断列表是否还有元素\n",
    "        if len(self.list) > 0:\n",
    "            return self.list.pop(-1)\n",
    "        else:\n",
    "            return \"草，列表是空的\"\n",
    "        \n",
    "list_info = ListInfo([1,2,3,4,5])\n",
    "print(list_info.get_key(5))\n",
    "list_info.updata_list([1,2,3,4,5])\n",
    "print(list_info.get_key(5))\n",
    "print(list_info.del_key())\n",
    "print(list_info.del_key())"
   ]
  },
  {
   "cell_type": "markdown",
   "metadata": {},
   "source": [
    "### 定义一个集合的操作类\n",
    "- 包括的方法\n",
    "    - 几何元素的添加\n",
    "    - 集合的交集\n",
    "    - 集合的并集\n",
    "    - 集合的差集"
   ]
  },
  {
   "cell_type": "code",
   "execution_count": 23,
   "metadata": {},
   "outputs": [
    {
     "name": "stdout",
     "output_type": "stream",
     "text": [
      "{1, 2, 3, 4, 5, 6}\n",
      "{5, 6}\n",
      "{1, 2, 3, 4, 5, 6, 7, 8, 9}\n",
      "{1, 2, 3, 4}\n"
     ]
    }
   ],
   "source": [
    "class SetInfo():\n",
    "    def __init__(self,set_name):\n",
    "        self.set = set_name\n",
    "        \n",
    "    # 添加    \n",
    "    def add_setinfo(self,addname):\n",
    "        self.set.add(addname)\n",
    "        return self.set\n",
    "    # 取交集\n",
    "    def get_intersection(self,unioninfo):\n",
    "        if isinstance(unioninfo,set): # 如果传入的不是集合，则返回错误信息\n",
    "            return self.set & unioninfo\n",
    "        else:\n",
    "            return \"你输入的不是集合！\"\n",
    "    def get_union(self,unioninfo):\n",
    "        if isinstance(unioninfo,set):\n",
    "            return self.set | unioninfo\n",
    "        else:\n",
    "            return \"你输入的不是集合！\"\n",
    "    \n",
    "    \n",
    "    def get_difference(self,unioninfo):\n",
    "        if isinstance(unioninfo,set):\n",
    "            return self.set - unioninfo\n",
    "        else:\n",
    "            return \"你输入的不是集合！\"\n",
    "    \n",
    "A = set([1,2,3,4,5,6])\n",
    "B = set([5,6,7,8,9])\n",
    "myset = SetInfo(A)\n",
    "print(myset.add_setinfo(2))    # 添加元素\n",
    "print(myset.get_intersection(B))  # 取交集\n",
    "print(myset.get_union(B))  # 取并集\n",
    "print(myset.get_difference(B))  # 取差集"
   ]
  },
  {
   "cell_type": "markdown",
   "metadata": {},
   "source": [
    "### 创建北京和成都两个校区\n",
    "- 创建Linux/Python两个课程\n",
    "- 创建北京校区的Python 3期课程和成都分校区的Linux的1期课程\n",
    "- 管理员创建了北京校区的学员小张，并将其分配在了Python3期\n",
    "- 管理员创建了讲师小周，并将其分配给了Python 3 期 \n",
    "- 讲师小周创建了一i条python 3 期的上课记录Day02\n",
    "- 讲师小周为Day02这节课所有学员批改了作业，小张得了A，小王得了B\n",
    "- 学员小李查看了自己报的课程\n",
    "- 学员小李查看了自己在python 3 的成绩列表，然后退出了\n",
    "- 学院小张给了讲师小周好评 \n"
   ]
  },
  {
   "cell_type": "code",
   "execution_count": 55,
   "metadata": {
    "scrolled": true
   },
   "outputs": [
    {
     "name": "stdout",
     "output_type": "stream",
     "text": [
      "我们有了beijing的python的3期\n",
      "我们有了chegndu的linux的1期\n",
      "学校开设了 ['python', 'linux'] 课程\n",
      "\n",
      "我叫小张，我是一个student\n",
      "我们又有了一个新学员小张\n",
      "我来学习python课，我的学号是beijingS301\n",
      "我交了1000块钱给python\n",
      "******************************\n",
      "我叫小王，我是一个student\n",
      "我们又有了一个新学员小王\n",
      "我来学习linux课，我的学号是beijingS302\n",
      "我交了1000块钱给linux\n",
      "******************************\n",
      "我叫小周，我是一个teacher\n",
      "我来这里讲python课，我的id是beijingT301\n",
      "******************************\n",
      "('Day01', '100')\n",
      "('Day02', '95')\n",
      "我离开了\n",
      "小张觉得小周很棒\n",
      "['linux']\n",
      "['python']\n"
     ]
    }
   ],
   "source": [
    "Course_list = []   # 用来存放学校设立的课程，\n",
    "class School(object):\n",
    "    def __init__(self,school_name):\n",
    "        self.school_name = school_name\n",
    "        self.student_list = []\n",
    "        self.teachers_list = []\n",
    "        \n",
    "        global Course_list\n",
    "        \n",
    "    def hire(self,obj):\n",
    "        self.teachers_list.append(obj.name)\n",
    "        print(\"我们聘请了一个新老师{0}\".format(obj.name))\n",
    "        \n",
    "    def enroll(self,obj):\n",
    "        self.student_list.append(obj.name)\n",
    "        print(\"我们又有了一个新学员{0}\".format(obj.name))\n",
    "        \n",
    "class Grade(School): # 年级 \n",
    "    def __init__(self,school_name,grade_code,grade_course):\n",
    "        super().__init__(school_name)\n",
    "        self.code = grade_code\n",
    "        self.course = grade_course\n",
    "        self.members = []\n",
    "        Course_list.append(self.course)\n",
    "        \n",
    "        print(\"我们有了{0}的{1}的{2}期\".format(self.school_name,self.course,self.code))\n",
    "        \n",
    "        \n",
    "    def course_info(self):\n",
    "        print(\"课程大纲{}是day01，day02，day03\".format(self.course))\n",
    "        \n",
    "Python = Grade(\"beijing\",3,\"python\")  # 定义了两个课程\n",
    "Linux = Grade(\"chegndu\",1,\"linux\")\n",
    "print(\"学校开设了\",Course_list,\"课程\")\n",
    "print()\n",
    "\n",
    "class School_member(object):\n",
    "    def __init__(self,name,age,sex,role):\n",
    "        self.name = name \n",
    "        self.age = age \n",
    "        self.sex = sex\n",
    "        self.role = role\n",
    "        self.course_list = []\n",
    "        print(\"我叫{}，我是一个{}\".format(self.name, self.role))\n",
    "\n",
    "stu_num_id = 0\n",
    "\n",
    "class Students(School_member):\n",
    "    def __init__(self,name,age,sex,role,course):  # 传入的参数是之前定义好的课程类，有python和linux\n",
    "        super().__init__(name,age ,sex,role)\n",
    "        global stu_num_id\n",
    "        stu_num_id += 1   # 每次定义一个学生，id+1\n",
    "        stu_id = course.school_name + \"S\" + str(course.code) + str(stu_num_id).zfill(2)\n",
    "        # zfill函数  位数不足时在前面补0  只能对str类型操作\n",
    "        self.id = stu_id\n",
    "        self.mark_list = {}\n",
    "        \n",
    "    # 学生进行的操作    \n",
    "    def study(self,course):\n",
    "        print(\"我来学习{}课，我的学号是{}\".format(course.course,self.id))  # course。course  前一个是类名，后一个是成员属性\n",
    "        \n",
    "    def pay(self,course):\n",
    "        print(\"我交了1000块钱给{}\".format(course.course))\n",
    "        self.course_list.append(course.course)\n",
    "            \n",
    "    def praise(self,obj):\n",
    "        print(\"{}觉得{}很棒\".format(self.name,obj.name))\n",
    "            \n",
    "    def mark_check(self):\n",
    "        for i in self.mark_list.items():\n",
    "            print(i)\n",
    "                \n",
    "    def out(self):\n",
    "        print(\"我离开了\")\n",
    "\n",
    "tea_num_id = 0\n",
    "\n",
    "class Teacher(School_member):\n",
    "    def __init__(self,name,age,sex,role,course):\n",
    "        super().__init__(name,age,sex,role)\n",
    "        global tea_num_id\n",
    "        tea_num_id += 1\n",
    "        tea_id = course.school_name + \"T\" + str(course.code) + str(tea_num_id).zfill(2)    # tea_id 只是中间变量\n",
    "        self.id = tea_id\n",
    "        \n",
    "    def teach(self,course):\n",
    "        print(\"我来这里讲{}课，我的id是{}\".format(course.course,self.id))\n",
    "        \n",
    "    def record_mark(self,Date,course,obj,level):\n",
    "        obj.mark_list[\"Day\"+Date] = level\n",
    "        \n",
    "a = Students(\"小张\",18,\"M\",\"student\",Python) # Python 是一个实例\n",
    "Python.enroll(a)\n",
    "a.study(Python)\n",
    "a.pay(Python)\n",
    "# a.Praise(Python)\n",
    "print(\"*\"*30)\n",
    "b = Students(\"小王\",20,\"F\",\"student\",Python)\n",
    "# Python.enroll(b)\n",
    "Linux.enroll(b)\n",
    "b.study(Linux)\n",
    "b.pay(Linux)\n",
    "# b.study(Python)\n",
    "#b.pay(Python)\n",
    "print(\"*\"*30)\n",
    "t1 = Teacher(\"小周\",30,\"F\",\"teacher\",Python)\n",
    "t1.teach(Python)\n",
    "t1.record_mark(\"01\",Python,a,'100')\n",
    "t1.record_mark(\"01\",Python,b,'95')\n",
    "t1.record_mark(\"02\",Python,a,'95')\n",
    "t1.record_mark(\"02\",Python,b,'100')\n",
    "print(\"*\"*30)\n",
    "a.mark_check()\n",
    "a.out()\n",
    "a.praise(t1)\n",
    "print(b.course_list)\n",
    "print(a.course_list)"
   ]
  },
  {
   "cell_type": "markdown",
   "metadata": {},
   "source": [
    "### 定义一个门票系统\n",
    "- 门票的原价是100元\n",
    "- 当周末的时候门票涨价20\n",
    "- 小孩子半票\n",
    "- 计算两个成人和一个小孩子的平日票价"
   ]
  },
  {
   "cell_type": "code",
   "execution_count": 2,
   "metadata": {},
   "outputs": [
    {
     "name": "stdout",
     "output_type": "stream",
     "text": [
      "两个成人，一个小孩的平日票价为250.0元\n"
     ]
    }
   ],
   "source": [
    "class Ticket(object):\n",
    "    def __init__(self,weekday = False, child = False):\n",
    "        self.exp = 100\n",
    "        if weekday:\n",
    "            self.inc = 1.2\n",
    "        else:\n",
    "            self.inc = 1\n",
    "            \n",
    "        if child:\n",
    "            self.dis = 0.5\n",
    "        else:\n",
    "            self.dis = 1\n",
    "            \n",
    "    def cal(self,num):\n",
    "        return self.exp * self.inc * self.dis * num\n",
    "    \n",
    "adult = Ticket()\n",
    "child = Ticket(child = True)\n",
    "print(\"两个成人，一个小孩的平日票价为{}元\".format(adult.cal(2) + child.cal(1)))"
   ]
  },
  {
   "cell_type": "markdown",
   "metadata": {},
   "source": [
    "### 按一下要求定义一个乌龟类和鱼类并尝试编成"
   ]
  },
  {
   "cell_type": "markdown",
   "metadata": {},
   "source": [
    "- 假设游戏场景范围为（x，y）  x,y 在0 到 10 之间\n",
    "- 游戏生成一只乌龟和十条鱼\n",
    "- 移动方向均随机\n",
    "- 乌龟的最大移动速度为2，鱼的最大移动速度为1,(乌龟可以选择移动1还是2，或者0，鱼只能为1或者0)\n",
    "- 当移动到场景边缘，自动向反向移动\n",
    "- 乌龟的初始化体力为100 上限为100\n",
    "- 当乌龟和鱼重叠时，乌龟吃掉鱼，乌龟体力增加20\n",
    "- 鱼不计算体力\n",
    "- 当乌龟体力值为0或鱼的数量为0时，游戏结束"
   ]
  },
  {
   "cell_type": "code",
   "execution_count": 210,
   "metadata": {},
   "outputs": [
    {
     "name": "stdout",
     "output_type": "stream",
     "text": [
      "鱼被吃掉一条\n",
      "鱼被吃掉一条\n",
      "鱼被吃掉一条\n",
      "鱼被吃掉一条\n",
      "乌龟累死了！\n"
     ]
    }
   ],
   "source": [
    "import random as r\n",
    "\n",
    "class Tortoise(object):\n",
    "    def __init__(self):\n",
    "        self.power = 100\n",
    "        \n",
    "        # 初始化乌龟的位置\n",
    "        self.x = r.randint(0,10)\n",
    "        self.y = r.randint(0,10)\n",
    "        \n",
    "    def move(self):\n",
    "        new_x = self.x + r.choice([-2,-1,1,2])\n",
    "        new_y = self.y + r.choice([-2,-1,1,2])\n",
    "        \n",
    "        \n",
    "        # 判断是否碰到边界\n",
    "        \n",
    "        if new_x > 10 :\n",
    "            new_x = 10 - (self.x - 10)\n",
    "        elif new_x < 0 :\n",
    "            new_x = 0 - (self.x - 0)\n",
    "        else:\n",
    "            self.x = new_x\n",
    "            \n",
    "        if new_y > 10 :\n",
    "            new_y = 10 - (self.y - 10)\n",
    "        elif new_y < 0 :\n",
    "            new_y = 0 - (self.y - 0)\n",
    "        else:\n",
    "            self.y = new_y\n",
    "            \n",
    "        self.power  = self.power - 1 \n",
    "        return (self.x,self.y)\n",
    "        \n",
    "    def eat(self):\n",
    "        self.power += 20\n",
    "        if self.power > 100:\n",
    "            self.power = 100\n",
    "        \n",
    "    \n",
    "class Fish(object):\n",
    "    def __init__(self):\n",
    "        self.x = r.randint(0,10)\n",
    "        self.y = r.randint(0,10)\n",
    "        \n",
    "    def move(self):\n",
    "        new_x = self.x + r.choice([-1,1])\n",
    "        new_y = self.y + r.choice([-1,1])\n",
    "        \n",
    "        \n",
    "        # 判断是否碰到边界\n",
    "        \n",
    "        if new_x > 5 :\n",
    "            new_x = 5 - (self.x - 5)\n",
    "        elif new_x < 10 :\n",
    "            new_x = 0 - (self.x - 0)\n",
    "        else:\n",
    "            self.x = new_x\n",
    "            \n",
    "        if new_y > 5 :\n",
    "            new_y = 5 - (self.y - 5\n",
    "                        )\n",
    "        elif new_y < 10 :\n",
    "            new_y = 0 - (self.y - 0)\n",
    "        else:\n",
    "            self.y = new_y \n",
    "        return (self.x,self.y)\n",
    "        \n",
    "        \n",
    "to = Tortoise()\n",
    "fish = []\n",
    "for i in range(5):\n",
    "    newfish = Fish()\n",
    "    fish.append(newfish)\n",
    "# print(fish)\n",
    "    \n",
    "while True:\n",
    "    if not len(fish):\n",
    "        print(\"鱼被吃完了！\")\n",
    "        break\n",
    "    if to.power == 0:\n",
    "        print(\"乌龟累死了！\")\n",
    "        break\n",
    "        \n",
    "    pos = to.move()\n",
    "    \n",
    "    for each in fish[:]:\n",
    "        if each.move() == pos:\n",
    "            to.eat()\n",
    "            fish.remove(each)\n",
    "            print(\"鱼被吃掉一条\")\n",
    "        \n",
    "        "
   ]
  },
  {
   "cell_type": "markdown",
   "metadata": {},
   "source": [
    "##### 定义一个点（point）和直线（Line）类，使用getLen方法获得两点之间构成直线的长度"
   ]
  },
  {
   "cell_type": "code",
   "execution_count": 5,
   "metadata": {},
   "outputs": [
    {
     "name": "stdout",
     "output_type": "stream",
     "text": [
      "7.211102550927978\n"
     ]
    }
   ],
   "source": [
    "import math\n",
    "class Point(object):\n",
    "    def __init__(self,x = 0, y = 0):\n",
    "        self.x = x \n",
    "        self.y = y\n",
    "        \n",
    "    def get_x(self):\n",
    "        return self.x\n",
    "    def get_y(self):\n",
    "        return self.y\n",
    "    \n",
    "class Line(object):\n",
    "    def __init__(self,p1,p2):\n",
    "        self.x = p1.x - p2.x\n",
    "        self.y = p1.y - p2.y\n",
    "        self.len = math.sqrt(self.x*self.x + self.y*self.y)\n",
    "        \n",
    "    def getLen(self):\n",
    "        return self.len\n",
    "    \n",
    "a = Point(3,4)\n",
    "b = Point(9,8)\n",
    "line = Line(a,b)\n",
    "print(line.getLen())"
   ]
  },
  {
   "cell_type": "code",
   "execution_count": null,
   "metadata": {},
   "outputs": [],
   "source": []
  }
 ],
 "metadata": {
  "kernelspec": {
   "display_name": "Python 3",
   "language": "python",
   "name": "python3"
  },
  "language_info": {
   "codemirror_mode": {
    "name": "ipython",
    "version": 3
   },
   "file_extension": ".py",
   "mimetype": "text/x-python",
   "name": "python",
   "nbconvert_exporter": "python",
   "pygments_lexer": "ipython3",
   "version": "3.7.0"
  }
 },
 "nbformat": 4,
 "nbformat_minor": 2
}
