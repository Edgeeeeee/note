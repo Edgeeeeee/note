{
 "cells": [
  {
   "cell_type": "code",
   "execution_count": 6,
   "metadata": {},
   "outputs": [
    {
     "name": "stdout",
     "output_type": "stream",
     "text": [
      "请输入数字123\n",
      "123 是数字\n"
     ]
    }
   ],
   "source": [
    "#S.isdigit() 判断字符串S是否都是数字\n",
    "temp = input(\"请输入数字\")\n",
    "if temp.isdigit():\n",
    "    print(temp,\"是数字\")\n",
    "else:\n",
    "    print(\"不是数字\")"
   ]
  },
  {
   "cell_type": "code",
   "execution_count": 9,
   "metadata": {},
   "outputs": [
    {
     "name": "stdout",
     "output_type": "stream",
     "text": [
      "输入1到100的整数ada\n",
      "error\n"
     ]
    }
   ],
   "source": [
    "#编写程序,要求用户输入1到100的整数\n",
    "temp = input(\"输入1到100的整数\")\n",
    "if temp.isdigit():\n",
    "    temp = int(temp)\n",
    "    if temp >= 1 and temp <= 100:\n",
    "        print(\"True\")\n",
    "    else:\n",
    "        print(\"Fasle\")\n",
    "else:\n",
    "    print(\"error\")"
   ]
  },
  {
   "cell_type": "code",
   "execution_count": 12,
   "metadata": {},
   "outputs": [
    {
     "name": "stdout",
     "output_type": "stream",
     "text": [
      "True\n",
      "True\n"
     ]
    }
   ],
   "source": [
    "# 写出 10 < cost < 50 的等价表达式\n",
    "cost = 23\n",
    "print((10 < cost) and (cost < 50))\n",
    "print(10 < cost < 50)"
   ]
  },
  {
   "cell_type": "code",
   "execution_count": 22,
   "metadata": {},
   "outputs": [
    {
     "name": "stdout",
     "output_type": "stream",
     "text": [
      "3e+26\n",
      "299999999999999997114318848\n",
      "-3000000000.146\n",
      "-3000000000\n"
     ]
    }
   ],
   "source": [
    "# 将小数转化成整数，结果是向下取整还是向上取整\n",
    "# ans ： 向 0 取整\n",
    "tem = 300000000000000000000000000.14\n",
    "print(tem)\n",
    "tem =int(tem)\n",
    "print(tem)\n",
    "\n",
    "tem = -3000000000.14555\n",
    "print(round(tem,3)) #四舍五入，保留三位小数\n",
    "tem =int(tem)\n",
    "print(tem)"
   ]
  },
  {
   "cell_type": "code",
   "execution_count": 24,
   "metadata": {},
   "outputs": [
    {
     "name": "stdout",
     "output_type": "stream",
     "text": [
      "请输入年份：\n",
      "adasd\n",
      "error\n"
     ]
    }
   ],
   "source": [
    "# 判断给定年份是否为闰年\n",
    "year = input(\"请输入年份：\\n\")\n",
    "if year.isdigit():\n",
    "    year = int(year)\n",
    "    if year % 4 == 0:\n",
    "        print(\"yes\")\n",
    "    else:\n",
    "        print(\"no\")\n",
    "else:\n",
    "    print(\"error\")"
   ]
  },
  {
   "cell_type": "code",
   "execution_count": 5,
   "metadata": {},
   "outputs": [
    {
     "name": "stdout",
     "output_type": "stream",
     "text": [
      "输入你的猜测，你只有3次机会123\n",
      "<class 'int'>\n",
      "<class 'int'>\n",
      "猜的太大了\n",
      "输入你的猜测，你只有2次机会ans\n",
      "请输入密码123456\n",
      "答案是 27\n",
      "输入你的猜测，你只有2次机会27\n",
      "<class 'int'>\n",
      "<class 'int'>\n",
      "nice!\n"
     ]
    }
   ],
   "source": [
    "# 给用户三次机会，猜想程序生成的数字a，每次猜想过后提示猜想数字是大于a 还是小于a，\n",
    "# 机会用尽后输掉游戏\n",
    "import random\n",
    "sec = random.randint(1,100) #生成1到100的随机数\n",
    "times = 3\n",
    "while times:\n",
    "    tem = input(\"输入你的猜测，你只有{}次机会\".format(times))\n",
    "    if tem.isdigit():\n",
    "        tem = int(tem)\n",
    "        # print(type(sec))\n",
    "        # print(type(tem))\n",
    "        if tem < sec:\n",
    "            print(\"猜的太小了\")\n",
    "            times -= 1\n",
    "        elif tem > sec: \n",
    "            print(\"猜的太大了\")\n",
    "            times -= 1\n",
    "        else:\n",
    "            print(\"nice!\")\n",
    "            break\n",
    "    elif tem == \"ans\":\n",
    "        code = input(\"请输入密码\")\n",
    "        if code == \"123456\":\n",
    "            print(\"答案是\",sec)\n",
    "           #break\n",
    "        else:\n",
    "            print(\"error\")\n",
    "            break\n",
    "    else:\n",
    "        print(\"error\")\n",
    "        break\n",
    "else:\n",
    "    print(\"gameover！\")\n",
    "            \n"
   ]
  },
  {
   "cell_type": "code",
   "execution_count": 10,
   "metadata": {},
   "outputs": [
    {
     "name": "stdout",
     "output_type": "stream",
     "text": [
      "1413428412112 \n",
      "\n",
      "100\n",
      "140728018991968 \n",
      "140728018991968\n",
      "50000\n",
      "100\n",
      "1413428631696\n",
      "140728018991968 \n",
      "\n",
      "101\n",
      "140728018992000 \n",
      "140728018991968\n",
      "50000\n",
      "100\n",
      "1413428631696\n",
      "140728018991968 \n",
      "\n",
      "102\n",
      "140728018992032 \n",
      "140728018991968\n",
      "50000\n",
      "100\n",
      "1413428631696\n",
      "140728018991968 \n",
      "\n",
      "103\n",
      "140728018992064 \n",
      "140728018991968\n",
      "50000\n",
      "100\n",
      "1413428631696\n",
      "140728018991968 \n",
      "\n",
      "104\n",
      "140728018992096 \n",
      "140728018991968\n",
      "50000\n",
      "100\n",
      "1413428631696\n",
      "140728018991968 \n",
      "\n",
      "105\n",
      "140728018992128 \n",
      "140728018991968\n",
      "50000\n",
      "100\n",
      "1413428631696\n",
      "140728018991968 \n",
      "\n",
      "106\n",
      "140728018992160 \n",
      "140728018991968\n",
      "50000\n",
      "100\n",
      "1413428631696\n",
      "140728018991968 \n",
      "\n",
      "107\n",
      "140728018992192 \n",
      "140728018991968\n",
      "50000\n",
      "100\n",
      "1413428631696\n",
      "140728018991968 \n",
      "\n",
      "108\n",
      "140728018992224 \n",
      "140728018991968\n",
      "50000\n",
      "100\n",
      "1413428631696\n",
      "140728018991968 \n",
      "\n",
      "109\n",
      "140728018992256 \n",
      "140728018991968\n",
      "50000\n",
      "100\n",
      "1413428631696\n",
      "140728018991968 \n",
      "\n",
      "100\n",
      "101\n",
      "102\n",
      "103\n",
      "104\n",
      "105\n",
      "106\n",
      "107\n",
      "108\n",
      "109\n"
     ]
    }
   ],
   "source": [
    "# 编写一个程序，写出0到100所有的奇数\n",
    "'''\n",
    "ls = range(1,101)\n",
    "for i in ls if i % 2 == 1:\n",
    "    print(i)\n",
    "'''\n",
    "ls = range(100,110)\n",
    "print(id(ls),\"\\n\")\n",
    "for i in ls:  #值传递 对i的任何操作都不影响ls 也不影响循环。     id相同 ？？？？？？？\n",
    "    print(i)\n",
    "    print(id(i),\"\")\n",
    "    print(id(ls[0]))\n",
    "    i = 50000\n",
    "    print(i)\n",
    "    print(ls[0])\n",
    "    print(id(i))\n",
    "    print(id(ls[0]),\"\\n\") #系统又偷懒了！ 只是把i贴在上一个分配好的地址上了\n",
    "    \n",
    "for i in ls:\n",
    "    print(i)"
   ]
  },
  {
   "cell_type": "code",
   "execution_count": 11,
   "metadata": {},
   "outputs": [
    {
     "name": "stdout",
     "output_type": "stream",
     "text": [
      "The \"for\" statement\n",
      "*******************\n",
      "\n",
      "The \"for\" statement is used to iterate over the elements of a sequence\n",
      "(such as a string, tuple or list) or other iterable object:\n",
      "\n",
      "   for_stmt ::= \"for\" target_list \"in\" expression_list \":\" suite\n",
      "                [\"else\" \":\" suite]\n",
      "\n",
      "The expression list is evaluated once; it should yield an iterable\n",
      "object.  An iterator is created for the result of the\n",
      "\"expression_list\".  The suite is then executed once for each item\n",
      "provided by the iterator, in the order returned by the iterator.  Each\n",
      "item in turn is assigned to the target list using the standard rules\n",
      "for assignments (see Assignment statements), and then the suite is\n",
      "executed.  When the items are exhausted (which is immediately when the\n",
      "sequence is empty or an iterator raises a \"StopIteration\" exception),\n",
      "the suite in the \"else\" clause, if present, is executed, and the loop\n",
      "terminates.\n",
      "\n",
      "A \"break\" statement executed in the first suite terminates the loop\n",
      "without executing the \"else\" clause’s suite.  A \"continue\" statement\n",
      "executed in the first suite skips the rest of the suite and continues\n",
      "with the next item, or with the \"else\" clause if there is no next\n",
      "item.\n",
      "\n",
      "The for-loop makes assignments to the variables(s) in the target list.\n",
      "This overwrites all previous assignments to those variables including\n",
      "those made in the suite of the for-loop:\n",
      "\n",
      "   for i in range(10):\n",
      "       print(i)\n",
      "       i = 5             # this will not affect the for-loop\n",
      "                         # because i will be overwritten with the next\n",
      "                         # index in the range\n",
      "\n",
      "Names in the target list are not deleted when the loop is finished,\n",
      "but if the sequence is empty, they will not have been assigned to at\n",
      "all by the loop.  Hint: the built-in function \"range()\" returns an\n",
      "iterator of integers suitable to emulate the effect of Pascal’s \"for i\n",
      ":= a to b do\"; e.g., \"list(range(3))\" returns the list \"[0, 1, 2]\".\n",
      "\n",
      "Note: There is a subtlety when the sequence is being modified by the\n",
      "  loop (this can only occur for mutable sequences, i.e. lists).  An\n",
      "  internal counter is used to keep track of which item is used next,\n",
      "  and this is incremented on each iteration.  When this counter has\n",
      "  reached the length of the sequence the loop terminates.  This means\n",
      "  that if the suite deletes the current (or a previous) item from the\n",
      "  sequence, the next item will be skipped (since it gets the index of\n",
      "  the current item which has already been treated).  Likewise, if the\n",
      "  suite inserts an item in the sequence before the current item, the\n",
      "  current item will be treated again the next time through the loop.\n",
      "  This can lead to nasty bugs that can be avoided by making a\n",
      "  temporary copy using a slice of the whole sequence, e.g.,\n",
      "\n",
      "     for x in a[:]:\n",
      "         if x < 0: a.remove(x)\n",
      "\n",
      "Related help topics: break, continue, while\n",
      "\n"
     ]
    }
   ],
   "source": [
    "help(\"for\")"
   ]
  },
  {
   "cell_type": "markdown",
   "metadata": {},
   "source": [
    "- 表达式列表评估一次;它应该产生一个可迭代的\n",
    "宾语。为结果创建一个迭代器\n",
    "“expression_list”。然后为每个项目执行一次套件\n",
    "由迭代器提供，按迭代器返回的顺序提供。每\n",
    "依次使用标准规则将项目分配给目标列表\n",
    "对于赋值（参见赋值语句），然后是套件\n",
    "执行。当物品耗尽时（这是当时的物品）\n",
    "sequence为空或迭代器引发“StopIteration”异常），\n",
    "“else”子句中的套件（如果存在）被执行，并且循环\n",
    "终止。\n",
    "\n",
    "在第一个套件中执行的“break”语句终止循环\n",
    "不执行“else”子句的套件。一个“继续”的声明\n",
    "在第一个套件中执行，跳过套件的其余部分并继续\n",
    "如果没有下一个项目，则使用下一个项目，或使用“else”子句\n",
    "项目。\n",
    "\n",
    "for循环对目标列表中的变量进行赋值。\n",
    "这会覆盖以前对这些变量的所有分配，包括\n",
    "在for-loop套件中制作的：\n",
    "\n",
    "   我在范围内（10）：\n",
    "       打印（I）\n",
    "       i = 5＃这不会影响for循环\n",
    "                         ＃因为我将被下一个覆盖\n",
    "                          该范围内的指数\n",
    "\n",
    "循环结束时，不会删除目标列表中的名称，\n",
    "但如果序列为空，则不会将它们分配给\n",
    "所有的循环。提示：内置函数“range（）”返回一个\n",
    "整数的迭代器适合模仿Pascal的“对我的影响”\n",
    "：= a到b do“;例如，”list（range（3））“返回列表”[0,1,2]“。\n",
    "\n",
    "注意：当序列被修改时，有一个微妙的\n",
    "  循环（这只能发生在可变序列，即列表中）。一个\n",
    "  内部计数器用于跟踪下一个使用的项目，\n",
    "  并且这在每次迭代时递增。当这个柜台有\n",
    "  达到循环终止的序列长度。这意味着\n",
    "  如果套件删除了当前（或前一个）项目\n",
    "  序列，将跳过下一个项目（因为它获得索引）\n",
    "  已经处理过的当前项目）。同样，如果\n",
    "  套件在当前项目之前的序列中插入项目\n",
    "  下一次循环将再次处理当前项目。\n",
    "  这可能导致令人讨厌的错误，可以通过制作一个\n",
    "  使用整个序列的切片进行临时复制，例如，\n",
    "\n",
    "     对于[：]中的x：\n",
    "         如果x <0：a.remove（x）\n",
    "\n",
    "相关帮助主题：break，continue，while"
   ]
  },
  {
   "cell_type": "code",
   "execution_count": 2,
   "metadata": {},
   "outputs": [
    {
     "name": "stdout",
     "output_type": "stream",
     "text": [
      "119\n"
     ]
    }
   ],
   "source": [
    "# 爱因斯坦阶梯问题\n",
    "# 爱因斯坦曾今出国这样一个数学题: 有一个长阶梯，若每次上两阶，最后剩余一阶；若每步上三阶，则最后剩余两阶；若没每步上五阶，最后剩四阶，若每步上\n",
    "# 七阶，最后刚好一阶不剩，求阶数。\n",
    "x = 1\n",
    "while(x):   \n",
    "    s = 7*x\n",
    "    if (s % 2 == 1) \\\n",
    "    and(s % 3 == 2) \\\n",
    "    and(s % 5 == 4):\n",
    "        print(x * 7)\n",
    "        break\n",
    "    else:\n",
    "        x += 1\n",
    "        \n",
    "    \n"
   ]
  },
  {
   "cell_type": "markdown",
   "metadata": {},
   "source": [
    "###### if not 为 if的去反  即条件不成立时执行语句"
   ]
  },
  {
   "cell_type": "code",
   "execution_count": 9,
   "metadata": {},
   "outputs": [
    {
     "name": "stdout",
     "output_type": "stream",
     "text": [
      "1 2 3\n",
      "3 1 2\n"
     ]
    }
   ],
   "source": [
    "# 假设有x = 1，y = 2， z = 3，如何快速将三个变量的值交换\n",
    "x,y,z = 1,2,3\n",
    "print(x,y,z)\n",
    "x,y,z = z,x,y #不需担心先后顺序带来的影响\n",
    "print(x,y,z)"
   ]
  },
  {
   "cell_type": "code",
   "execution_count": 16,
   "metadata": {},
   "outputs": [
    {
     "name": "stdout",
     "output_type": "stream",
     "text": [
      "<class 'range'>\n",
      "0\n",
      "2\n",
      "4\n",
      "6\n",
      "8\n",
      "10\n",
      "12\n",
      "14\n",
      "16\n",
      "18\n",
      "20\n"
     ]
    }
   ],
   "source": [
    "ls = range(0,21,2) #第三位不常用参数可以控制增长幅度，默认为1\n",
    "print(type(ls))\n",
    "for i in ls:\n",
    "    print(i)"
   ]
  },
  {
   "cell_type": "code",
   "execution_count": 2,
   "metadata": {},
   "outputs": [
    {
     "name": "stdout",
     "output_type": "stream",
     "text": [
      "2\n",
      "4\n"
     ]
    }
   ],
   "source": [
    "while 1:\n",
    "    while 1:\n",
    "        break  #break 只跳过当前的一层循环\n",
    "        print(\"1\")\n",
    "    print(\"2\")\n",
    "    break\n",
    "    print(\"3\")\n",
    "print(\"4\")"
   ]
  },
  {
   "cell_type": "code",
   "execution_count": 3,
   "metadata": {},
   "outputs": [
    {
     "name": "stdout",
     "output_type": "stream",
     "text": [
      "0\n",
      "1\n",
      "2\n",
      "3\n",
      "4\n",
      "5\n",
      "6\n",
      "7\n",
      "8\n",
      "9\n",
      "10\n",
      "11\n",
      "12\n"
     ]
    }
   ],
   "source": [
    "i = 0\n",
    "string = \"i love python\"\n",
    "while i < len(string):  # len重复使用很多次 ，应该调用len得到长度，按后将数值作为条件\n",
    "    print(i)\n",
    "    i += 1"
   ]
  },
  {
   "cell_type": "code",
   "execution_count": 2,
   "metadata": {},
   "outputs": [
    {
     "name": "stdout",
     "output_type": "stream",
     "text": [
      "153\n",
      "370\n",
      "371\n",
      "407\n"
     ]
    }
   ],
   "source": [
    "#水仙花数\n",
    "#如果一个三位数，其每一位的立方和与其本身相等，则为水仙花数100 到 999\n",
    "l = range (100,1000)\n",
    "for i in l:\n",
    "    tem = str(i)\n",
    "    if int(tem[0]) ** 3 + int(tem[1]) ** 3 + int(tem[2]) ** 3 == i:\n",
    "        print(i)"
   ]
  },
  {
   "cell_type": "code",
   "execution_count": 4,
   "metadata": {},
   "outputs": [
    {
     "name": "stdout",
     "output_type": "stream",
     "text": [
      "yellow-- 2\n",
      "red-- 0\n",
      "blue-- 6\n",
      "\n",
      "yellow-- 3\n",
      "red-- 0\n",
      "blue-- 5\n",
      "\n",
      "yellow-- 1\n",
      "red-- 1\n",
      "blue-- 6\n",
      "\n",
      "yellow-- 2\n",
      "red-- 1\n",
      "blue-- 5\n",
      "\n",
      "yellow-- 3\n",
      "red-- 1\n",
      "blue-- 4\n",
      "\n",
      "yellow-- 0\n",
      "red-- 2\n",
      "blue-- 6\n",
      "\n",
      "yellow-- 1\n",
      "red-- 2\n",
      "blue-- 5\n",
      "\n",
      "yellow-- 2\n",
      "red-- 2\n",
      "blue-- 4\n",
      "\n",
      "yellow-- 3\n",
      "red-- 2\n",
      "blue-- 3\n",
      "\n",
      "yellow-- 0\n",
      "red-- 3\n",
      "blue-- 5\n",
      "\n",
      "yellow-- 1\n",
      "red-- 3\n",
      "blue-- 4\n",
      "\n",
      "yellow-- 2\n",
      "red-- 3\n",
      "blue-- 3\n",
      "\n",
      "yellow-- 3\n",
      "red-- 3\n",
      "blue-- 2\n",
      "\n"
     ]
    }
   ],
   "source": [
    "# 三色球问题： 又红，黄，蓝三种颜色的球，其中红球3个，黄球3个，蓝球6个。先将这12个球混合放在一个盒子中，从中任意摸出八个球，\n",
    "# 变成计算各种颜色球的搭配\n",
    "for red in range(0,4):\n",
    "    for yellow in range(0,4):\n",
    "        for blue in range(2,7):\n",
    "            if red + blue + yellow == 8:\n",
    "                print(\"yellow--\",yellow)\n",
    "                print(\"red--\",red)\n",
    "                print(\"blue--\",blue)\n",
    "                print()"
   ]
  },
  {
   "cell_type": "code",
   "execution_count": 5,
   "metadata": {},
   "outputs": [
    {
     "name": "stdout",
     "output_type": "stream",
     "text": [
      "[1, 2, 3, 4, 5, [6, 7, 8]]\n",
      "[1, 2, 3, 4, 5, 6, 7, 8]\n",
      "[1, 2, 3, 99, 4, 5]\n"
     ]
    }
   ],
   "source": [
    "# append(),extend(),insert()用法\n",
    "a = [1,2,3,4,5]\n",
    "a.append([6,7,8])\n",
    "print(a)\n",
    "\n",
    "b = [1,2,3,4,5]\n",
    "b.extend([6,7,8])\n",
    "print(b)\n",
    "\n",
    "c = [1,2,3,4,5]\n",
    "c.insert(3,99) #在原列表三号之前插入，即修改后被插入元素为3号。\n",
    "print(c)"
   ]
  },
  {
   "cell_type": "code",
   "execution_count": 7,
   "metadata": {},
   "outputs": [
    {
     "name": "stdout",
     "output_type": "stream",
     "text": [
      "[1, 2, 3, [1233, 4435, 53, ['i', 'am', 'learning', 'python'], 45, 53, 34, 553], 4, 5, 3]\n"
     ]
    }
   ],
   "source": [
    "#把下列列表中的java改为python\n",
    "ls = [1,2,3,[1233,4435,53,[\"i\",\"am\",\"learning\",\"java\"],45,53,34,553,],4,5,3]\n",
    "ls[3][3][3] = \"python\"\n",
    "print(ls)"
   ]
  },
  {
   "cell_type": "code",
   "execution_count": 12,
   "metadata": {},
   "outputs": [
    {
     "name": "stdout",
     "output_type": "stream",
     "text": [
      "[(0, 1), (0, 3), (0, 5), (0, 7), (0, 9), (2, 1), (2, 3), (2, 5), (2, 7), (2, 9), (4, 1), (4, 3), (4, 5), (4, 7), (4, 9), (6, 1), (6, 3), (6, 5), (6, 7), (6, 9), (8, 1), (8, 3), (8, 5), (8, 7), (8, 9)]\n"
     ]
    }
   ],
   "source": [
    "# 嵌套循环的简写。`·1\n",
    "ls = [(x,y) for x in range(10) for y in range(10) if x % 2 == 0 if y % 2 != 0]\n",
    "print(ls)"
   ]
  },
  {
   "cell_type": "code",
   "execution_count": 14,
   "metadata": {},
   "outputs": [
    {
     "name": "stdout",
     "output_type": "stream",
     "text": [
      "[(0, 1), (0, 3), (0, 5), (0, 7), (0, 9), (2, 1), (2, 3), (2, 5), (2, 7), (2, 9), (4, 1), (4, 3), (4, 5), (4, 7), (4, 9), (6, 1), (6, 3), (6, 5), (6, 7), (6, 9), (8, 1), (8, 3), (8, 5), (8, 7), (8, 9)]\n"
     ]
    }
   ],
   "source": [
    "ls = []\n",
    "for x in range(10):\n",
    "    for y in range(10):\n",
    "        if x % 2 == 0 and y % 2 != 0:\n",
    "            ls.append((x,y))\n",
    "print(ls)"
   ]
  },
  {
   "cell_type": "code",
   "execution_count": 1,
   "metadata": {},
   "outputs": [
    {
     "name": "stdout",
     "output_type": "stream",
     "text": [
      "(1,)\n",
      "<class 'tuple'>\n"
     ]
    }
   ],
   "source": [
    "# 定义单个元组加逗号\n",
    "t = (1,)\n",
    "print(t)\n",
    "print(type(t))"
   ]
  },
  {
   "cell_type": "markdown",
   "metadata": {},
   "source": [
    "#### 列表元组的区别是是否可以修改，安实际情况使用"
   ]
  },
  {
   "cell_type": "code",
   "execution_count": 3,
   "metadata": {},
   "outputs": [
    {
     "name": "stdout",
     "output_type": "stream",
     "text": [
      "\n",
      "我在学习python\n",
      "我在做习题\n",
      "没啥好说的了\n",
      "告辞\n",
      "\n"
     ]
    }
   ],
   "source": [
    "geshi = \"\"\"\n",
    "我在学习python\n",
    "我在做习题\n",
    "没啥好说的了\n",
    "告辞\n",
    "\"\"\"\n",
    "\n",
    "print(geshi)"
   ]
  },
  {
   "cell_type": "code",
   "execution_count": null,
   "metadata": {},
   "outputs": [],
   "source": []
  }
 ],
 "metadata": {
  "kernelspec": {
   "display_name": "Python 3",
   "language": "python",
   "name": "python3"
  },
  "language_info": {
   "codemirror_mode": {
    "name": "ipython",
    "version": 3
   },
   "file_extension": ".py",
   "mimetype": "text/x-python",
   "name": "python",
   "nbconvert_exporter": "python",
   "pygments_lexer": "ipython3",
   "version": "3.7.0"
  }
 },
 "nbformat": 4,
 "nbformat_minor": 2
}
