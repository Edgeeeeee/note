{
 "cells": [
  {
   "cell_type": "markdown",
   "metadata": {},
   "source": [
    "# Python语言的高级特性"
   ]
  },
  {
   "cell_type": "markdown",
   "metadata": {},
   "source": [
    "## 函数式编程（FunctionalProgramming）\n",
    "- 基于lambda演算的一种编程方式\n",
    "    - 程序中只有函数\n",
    "    - 函数可以作为参数，同样可以作为返回值\n",
    "    - 纯函数式编程语言：LISP，Haskell\n",
    "- Python函数式编程只是借鉴函数式编程的一些特点，可以理解为一半函数式，一半Python\n",
    "- 需要讲述\n",
    "    - 高阶函数\n",
    "    - 返回函数\n",
    "    - 匿名函数\n",
    "    - 装饰器\n",
    "    - 偏函数"
   ]
  },
  {
   "cell_type": "markdown",
   "metadata": {},
   "source": [
    "### lambda表达式\n",
    "- 函数：最大程度的复用代码\n",
    "    - 存在问题：如果函数很小，很短，反而会麻烦\n",
    "    - 如果函数被调用次数少，则会造成浪费\n",
    "    - 对于阅读者来说，造成阅读流程的被迫中断\n",
    "- lambda表达式(匿名函数):\n",
    "    - 一个表达式，函数体相对简单\n",
    "    - 不是一个代码块，仅仅是一个表达式\n",
    "    - 可以有参数，多个参数用逗号隔开"
   ]
  },
  {
   "cell_type": "code",
   "execution_count": 2,
   "metadata": {},
   "outputs": [
    {
     "data": {
      "text/plain": [
       "100"
      ]
     },
     "execution_count": 2,
     "metadata": {},
     "output_type": "execute_result"
    }
   ],
   "source": [
    "# lambda表达式的用法\n",
    "# 1. 以lambda开头\n",
    "# 2. 紧跟一定的参数（如果参数存在）\n",
    "# 3. 参数后用冒号和表达式主题隔开\n",
    "# 4. 只是一个表达式，所以没有return\n",
    "\n",
    "# 计算一个数字的100倍\n",
    "stm = lambda x: 100 * x\n",
    "# 当作函数来用,使用上和函数一样\n",
    "stm(1)"
   ]
  },
  {
   "cell_type": "code",
   "execution_count": 4,
   "metadata": {},
   "outputs": [
    {
     "data": {
      "text/plain": [
       "6"
      ]
     },
     "execution_count": 4,
     "metadata": {},
     "output_type": "execute_result"
    }
   ],
   "source": [
    "stm2 = lambda x,y,z: x + y + z\n",
    "stm2(1,2,3)"
   ]
  },
  {
   "cell_type": "markdown",
   "metadata": {},
   "source": [
    "### 高阶函数\n",
    "- 把函数作为参数使用的函数，叫高阶函数"
   ]
  },
  {
   "cell_type": "code",
   "execution_count": 6,
   "metadata": {},
   "outputs": [],
   "source": [
    "# 变量可以赋值\n",
    "a = 100 \n",
    "b = a "
   ]
  },
  {
   "cell_type": "code",
   "execution_count": 18,
   "metadata": {},
   "outputs": [
    {
     "name": "stdout",
     "output_type": "stream",
     "text": [
      "<class 'function'>\n",
      "<function funA at 0x000001FA81C7EE18>\n",
      "<function funA at 0x000001FA81C7EE18>\n",
      "i am funA\n"
     ]
    }
   ],
   "source": [
    "# 函数名称就是一个变量 \n",
    "def funA():\n",
    "    print(\"i am funA\")\n",
    "    \n",
    "print(type(funA))\n",
    "print(funA)\n",
    "funB = funA\n",
    "print(funB)\n",
    "funB()"
   ]
  },
  {
   "cell_type": "markdown",
   "metadata": {},
   "source": [
    "### 以上代码得出的结论\n",
    "- 函数名称是变量\n",
    "- funA和funB只是名称不一样而已\n",
    "- 既然函数名称是变量，则应该可以被当作参数传入另一个函数"
   ]
  },
  {
   "cell_type": "code",
   "execution_count": 4,
   "metadata": {},
   "outputs": [
    {
     "name": "stdout",
     "output_type": "stream",
     "text": [
      "300\n",
      "300\n"
     ]
    }
   ],
   "source": [
    "# 高级函数举例 \n",
    "# funA是普通函数，返回传入数字的100倍\n",
    "def funA(n):\n",
    "    return n * 100\n",
    "# 再写一个函数，把传入的参数乘300，利用高阶函数\n",
    "def funB(n):\n",
    "    return funA(n) * 3\n",
    "\n",
    "print(funB(1))\n",
    "\n",
    "# 写一个高阶函数\n",
    "# 与上面效果一样\n",
    "def funC(n,f):  # f作为一个函数名\n",
    "    return f(n) * 3\n",
    "\n",
    "print(funC(1,funA))\n",
    "\n",
    "# 需求变更，把n放大30倍，此时funB则无法实现\n",
    "# 对于funC只需要在调用函数时候把参数funA换成另一个函数即可"
   ]
  },
  {
   "cell_type": "markdown",
   "metadata": {},
   "source": [
    "### 系统高阶函数-map\n",
    "- 原意就是映射，即把集合或者列表里的元素每一个元素按照一定规则操作，生成一个新的列表或集合\n",
    "- map函数是系统提供的具有映射功能的函数，返回值是一个迭代对象"
   ]
  },
  {
   "cell_type": "code",
   "execution_count": 31,
   "metadata": {},
   "outputs": [
    {
     "name": "stdout",
     "output_type": "stream",
     "text": [
      "[0, 1, 2, 3, 4, 5, 6, 7, 8, 9]\n",
      "[0, 10, 20, 30, 40, 50, 60, 70, 80, 90]\n",
      "<map object at 0x000002E51E74B400>\n",
      "[0, 1, 2, 3, 4, 5, 6, 7, 8, 9]\n",
      "0 10 20 30 40 50 60 70 80 90 \n",
      "[]\n",
      "[]\n"
     ]
    }
   ],
   "source": [
    "# map举例\n",
    "# 有一个列表，相对列表里的每一个元素乘以10，并得到一个新的列表\n",
    "l1 = [i for i in range(10)]\n",
    "l2 = [i*10 for i in l1 ]\n",
    "print(l1)\n",
    "print(l2)\n",
    "\n",
    "# help(map)\n",
    "# 利用map实现\n",
    "def Multen(n):\n",
    "    return 10*n\n",
    "l3 = map(Multen,l1)  # 返回值是map类型的，可迭代\n",
    "print(l3)\n",
    "print(l1)\n",
    "for i in l3 :  # l3 是可迭代的对象,可以使用for循环来遍历\n",
    "    print(i,end = ' ')\n",
    "print()\n",
    "    \n",
    "    \n",
    "l = list(l3)\n",
    "print(l)\n",
    "\n",
    "# 以下的列表生成式得到的结果为空，Why？   百度！\n",
    "l4 = [i for i in l3]\n",
    "print(l4)\n"
   ]
  },
  {
   "cell_type": "markdown",
   "metadata": {},
   "source": [
    "### reduce\n",
    "- 原意是归并，缩减\n",
    "- 把一个可迭代对象最后归并成一个结果\n",
    "- 对于作为参数的函数要求：必须有两个参数，必须返回结果\n",
    "- reduce(\\[1,2,3,4,5\\])实际上就是 f(f(f(f(1,2),3),4),5)\n",
    "- reduce 需要导入functools包"
   ]
  },
  {
   "cell_type": "code",
   "execution_count": 38,
   "metadata": {},
   "outputs": [
    {
     "name": "stdout",
     "output_type": "stream",
     "text": [
      "21\n",
      "<class 'int'>\n"
     ]
    }
   ],
   "source": [
    "from functools import reduce \n",
    "\n",
    "# 定义一个操作函数\n",
    "# 加入操作函数只是相加\n",
    "def myAdd(x,y):\n",
    "    return x + y\n",
    "\n",
    "n = reduce (myAdd,[1,2,3,4,5,6])\n",
    "print(n)\n",
    "print(type(n))"
   ]
  },
  {
   "cell_type": "markdown",
   "metadata": {},
   "source": [
    "### filter函数\n",
    "- 过滤函数：对一组数据进行过滤，符合条件的数据会生成一个新的列表并返回\n",
    "- 与map的比较：\n",
    "    - 相同：都对列表的每一个元素逐一进行操作\n",
    "    - 不同：\n",
    "        - map生成一个跟原来数据相对应的新队列\n",
    "        - filter不一定，只有符合条件的才会进入新的数据集合\n",
    "    - filter函数怎么写\n",
    "        - 利用给定函数进行判断，函数的返回值必须是布尔值\n",
    "        - 调用格式： filter(f,data),f是过滤函数，data是数据"
   ]
  },
  {
   "cell_type": "code",
   "execution_count": 45,
   "metadata": {},
   "outputs": [
    {
     "name": "stdout",
     "output_type": "stream",
     "text": [
      "<filter object at 0x000002E51E6F7DA0>\n",
      "[2, 44, 34, 656, 12]\n"
     ]
    }
   ],
   "source": [
    "# filter案例,对于一个列表对其进行过滤，偶数组成一个新列表\n",
    "\n",
    "# 需要定义过滤函数\n",
    "# 过滤函数要求有输入，返回布尔值\n",
    "def isEven(a):\n",
    "    return a % 2 == 0\n",
    "\n",
    "l = [1,2,3,33,44,34,555,656,12]\n",
    "\n",
    "rst = filter(isEven,l)\n",
    "print(rst) # 返回filter对象，可迭代对象,\n",
    "print(list(rst))"
   ]
  },
  {
   "cell_type": "markdown",
   "metadata": {},
   "source": [
    "### 高阶函数-排序\n",
    "- 把一个序列按照给定算法排序\n",
    "- key: 在排序前对每一个元素进行key函数运算，可以理解为按照key函数定义的逻辑进行排序\n",
    "- python2和python3 中相差巨大 "
   ]
  },
  {
   "cell_type": "code",
   "execution_count": 54,
   "metadata": {},
   "outputs": [
    {
     "name": "stdout",
     "output_type": "stream",
     "text": [
      "[232, 67, 45, 34, 6, 6, 5, 3, 2, 1, 0]\n"
     ]
    }
   ],
   "source": [
    "# help(sorted)\n",
    "# 排序的案例\n",
    "\n",
    "a = [1,232,45,3,2,5,6,34,6,67,0]\n",
    "a1 = sorted(a,reverse = True)\n",
    "print(a1)"
   ]
  },
  {
   "cell_type": "code",
   "execution_count": 55,
   "metadata": {},
   "outputs": [
    {
     "name": "stdout",
     "output_type": "stream",
     "text": [
      "[677, -399, 213, 123, -23, 5, 5, -1]\n"
     ]
    }
   ],
   "source": [
    "# 排序案例2\n",
    "a = [123,5,213,5,677,-1,-23,-399]\n",
    "\n",
    "# 按照绝对值排序\n",
    "# abs是绝对值的意思\n",
    "al = sorted(a,key = abs,reverse = True)\n",
    "print(al)"
   ]
  },
  {
   "cell_type": "code",
   "execution_count": 57,
   "metadata": {},
   "outputs": [
    {
     "name": "stdout",
     "output_type": "stream",
     "text": [
      "['PYTHON', 'XMN1', 'python1', 'xmn']\n",
      "['PYTHON', 'python1', 'xmn', 'XMN1']\n"
     ]
    }
   ],
   "source": [
    "# 排序案例3 \n",
    "\n",
    "astr = ['xmn','python1','XMN1','PYTHON']\n",
    "str1 = sorted(astr)\n",
    "print(str1)\n",
    "str2 = sorted(astr,key = str.lower)\n",
    "print(str2)"
   ]
  },
  {
   "cell_type": "markdown",
   "metadata": {},
   "source": [
    "## 返回函数\n",
    "- 函数可以返回具体的值\n",
    "- 也可以返回一个函数作为结果\n"
   ]
  },
  {
   "cell_type": "code",
   "execution_count": 58,
   "metadata": {},
   "outputs": [
    {
     "name": "stdout",
     "output_type": "stream",
     "text": [
      "8\n",
      "None\n"
     ]
    }
   ],
   "source": [
    "# 定义一个普通的函数\n",
    "def myFunc(a):\n",
    "    print(a)\n",
    "    return None\n",
    "a = myFunc(8)\n",
    "print(a)"
   ]
  },
  {
   "cell_type": "code",
   "execution_count": 60,
   "metadata": {},
   "outputs": [
    {
     "name": "stdout",
     "output_type": "stream",
     "text": [
      "i am func3\n"
     ]
    },
    {
     "data": {
      "text/plain": [
       "3"
      ]
     },
     "execution_count": 60,
     "metadata": {},
     "output_type": "execute_result"
    }
   ],
   "source": [
    "# 函数作为返回值返回，被返回的函数在函数体内定义\n",
    "\n",
    "def myF2():\n",
    "        \n",
    "    def myF3():\n",
    "        print(\"i am func3\")\n",
    "        return 3 \n",
    "    return myF3\n",
    "\n",
    "# 调用myF2  ，返回一个函数myF3\n",
    "f = myF2()\n",
    "f()"
   ]
  },
  {
   "cell_type": "code",
   "execution_count": 4,
   "metadata": {},
   "outputs": [],
   "source": [
    "# 复杂一点的例子\n",
    "# args:参数列表\n",
    "# myF4定义函数，返回内部函数myF5\n",
    "# myF5使用了外部变量，myF4的参数\n",
    "\n",
    "def myF4( *args):\n",
    "    def myF5():\n",
    "        rst = 0\n",
    "        for i in args:\n",
    "            rst += i\n",
    "        return rst\n",
    "    return myF5"
   ]
  },
  {
   "cell_type": "code",
   "execution_count": 7,
   "metadata": {},
   "outputs": [],
   "source": [
    "# 通过向myF4中传入不同的参数，可以规定返回函数的不同的行为"
   ]
  },
  {
   "cell_type": "code",
   "execution_count": 8,
   "metadata": {},
   "outputs": [
    {
     "data": {
      "text/plain": [
       "45"
      ]
     },
     "execution_count": 8,
     "metadata": {},
     "output_type": "execute_result"
    }
   ],
   "source": [
    "f5 = myF4(1,2,3,4,5,6,7,8,9)\n",
    "f5()"
   ]
  },
  {
   "cell_type": "code",
   "execution_count": 9,
   "metadata": {},
   "outputs": [
    {
     "data": {
      "text/plain": [
       "150"
      ]
     },
     "execution_count": 9,
     "metadata": {},
     "output_type": "execute_result"
    }
   ],
   "source": [
    "f6 = myF4(10,20,30,40,50)\n",
    "f6()"
   ]
  },
  {
   "cell_type": "markdown",
   "metadata": {},
   "source": [
    "## 闭包(closure)\n",
    "- 当一个函数在内部定义函数，并且内部的函数应用外部函数的参数或者局部变量，当内部函数作为返回值的时候，相关参数和变量保存在返回的函数中，这种结果，叫闭包\n",
    "- myF4是一个标准的闭包函数"
   ]
  },
  {
   "cell_type": "markdown",
   "metadata": {},
   "source": [
    "### 闭包函数常见的坑！"
   ]
  },
  {
   "cell_type": "code",
   "execution_count": null,
   "metadata": {},
   "outputs": [],
   "source": [
    "# 坑1\n",
    "def count():\n",
    "    # 定义列表，列表里存放的是定义的函数\n",
    "    fs = []\n",
    "    for i in range(1,4):\n",
    "        # 定义了一个函数f\n",
    "        # f是一个闭包结构\n",
    "        def f():\n",
    "            return i*i\n",
    "        fs.append(f)\n",
    "    return fs"
   ]
  },
  {
   "cell_type": "code",
   "execution_count": 15,
   "metadata": {},
   "outputs": [
    {
     "name": "stdout",
     "output_type": "stream",
     "text": [
      "9\n",
      "9\n",
      "9\n"
     ]
    }
   ],
   "source": [
    "f1,f2,f3 = count()\n",
    "print(f1())\n",
    "print(f2())\n",
    "print(f3())"
   ]
  },
  {
   "cell_type": "markdown",
   "metadata": {},
   "source": [
    "#### 出现的问题\n",
    "- 造成上述的原因是，返回函数引用了变量i，i并非立即执行，而是等到三个函数都返回的时候才统一调用，此时i变成了3，最终调用的时候，返回的都是3*3\n",
    "- 此问题描述成: 返回闭包时，返回函数不能引用任何循环变量\n",
    "- 解决方案：在创建一个函数，用该函数的参数绑定循环变量的当前指，无论该循环以后如何改变，已经绑定的函数参数值不在改变"
   ]
  },
  {
   "cell_type": "code",
   "execution_count": 19,
   "metadata": {},
   "outputs": [
    {
     "name": "stdout",
     "output_type": "stream",
     "text": [
      "1\n",
      "4\n",
      "9\n"
     ]
    }
   ],
   "source": [
    "'''\n",
    "之前的\n",
    "def count():\n",
    "    fs = []\n",
    "    for i in range(1,4): \n",
    "        def f():\n",
    "            return i*i i为局部变量\n",
    "        fs.append(f)\n",
    "    return fs\n",
    "'''\n",
    "# 改：\n",
    "def count1():\n",
    "    def f(j):\n",
    "        def g():\n",
    "            return j*j  # j 为参数\n",
    "        return g\n",
    "    fs = []\n",
    "    for n in range(1,4):\n",
    "        fs.append(f(n))\n",
    "    return fs\n",
    "f4,f5,f6 = count1()\n",
    "print(f4())\n",
    "print(f5())\n",
    "print(f6())"
   ]
  },
  {
   "cell_type": "markdown",
   "metadata": {},
   "source": [
    "### 装饰器"
   ]
  },
  {
   "cell_type": "code",
   "execution_count": 28,
   "metadata": {},
   "outputs": [
    {
     "name": "stdout",
     "output_type": "stream",
     "text": [
      "Hello world\n"
     ]
    }
   ],
   "source": [
    "def hello():\n",
    "    print('Hello world')\n",
    "    \n",
    "hello()"
   ]
  },
  {
   "cell_type": "code",
   "execution_count": 29,
   "metadata": {},
   "outputs": [
    {
     "name": "stdout",
     "output_type": "stream",
     "text": [
      "Hello world\n"
     ]
    }
   ],
   "source": [
    "f = hello\n",
    "f()"
   ]
  },
  {
   "cell_type": "code",
   "execution_count": 30,
   "metadata": {},
   "outputs": [
    {
     "data": {
      "text/plain": [
       "True"
      ]
     },
     "execution_count": 30,
     "metadata": {},
     "output_type": "execute_result"
    }
   ],
   "source": [
    "id(f) == id(hello)"
   ]
  },
  {
   "cell_type": "code",
   "execution_count": 31,
   "metadata": {},
   "outputs": [
    {
     "name": "stdout",
     "output_type": "stream",
     "text": [
      "hello\n",
      "hello\n"
     ]
    }
   ],
   "source": [
    "print(f.__name__)\n",
    "print(hello.__name__)"
   ]
  },
  {
   "cell_type": "code",
   "execution_count": 33,
   "metadata": {},
   "outputs": [],
   "source": [
    "# 现在有新的需求\n",
    "# 对hello有新的需求，每次打印hello之前打印系统当前时间\n",
    "# 而实现这个功能又不能改动现有代码\n",
    "# 可以使用装饰器完成"
   ]
  },
  {
   "cell_type": "markdown",
   "metadata": {},
   "source": [
    "### 装饰器（decrator）\n",
    "- 再不改动函数代码的基础上无限制扩展函数功能的一种机制，本质上讲，装饰器就是一个返回函数的高阶函数\n",
    "- 装饰器的使用：使用@语法，即在每次要扩展的函数定义前使用@+函数名"
   ]
  },
  {
   "cell_type": "code",
   "execution_count": 35,
   "metadata": {},
   "outputs": [],
   "source": [
    "# 任务 ：\n",
    "# 对hello函数进行功能扩展，每次执行hello前打印当前时间\n",
    "import time\n",
    "\n",
    "# 高阶函数,以函数作为参数\n",
    "def printTime(f):  # f为被修饰的函数\n",
    "    def wrapper(*args,**kwargs):  # 参数格式很固定，可以先背下来\n",
    "        print(\"Time:\",time.ctime())  # 这是要添加功能的部分\n",
    "        return f(*args,**kwargs)  # 执行要修饰的函数\n",
    "    return wrapper"
   ]
  },
  {
   "cell_type": "code",
   "execution_count": 38,
   "metadata": {},
   "outputs": [
    {
     "name": "stdout",
     "output_type": "stream",
     "text": [
      "Time: Sun May 12 14:55:14 2019\n",
      "hello world\n"
     ]
    }
   ],
   "source": [
    "# 上面定义了一个装饰器，使用的时候要用到@，此符号时python的语法糖\n",
    "# 装饰器的功能一旦确定，在执行原函数之前都要先执行装饰器的功能\n",
    "@printTime\n",
    "def hello():\n",
    "    print(\"hello world\")\n",
    "    \n",
    "hello()"
   ]
  },
  {
   "cell_type": "code",
   "execution_count": 41,
   "metadata": {},
   "outputs": [
    {
     "name": "stdout",
     "output_type": "stream",
     "text": [
      "Time: Sun May 12 14:58:57 2019\n",
      "hello world\n",
      "hello world 天\n"
     ]
    }
   ],
   "source": [
    "# 装饰器的好处是，一点定义，则可以装饰任意函数\n",
    "# 一旦被其装饰，则把装饰器的功能直接添加到定义函数的功能上（没有改变源代码）\n",
    "\n",
    "@printTime # 定义好的装饰器，直接使用到任何函数上\n",
    "def hello2():\n",
    "    print(\"hello world\")\n",
    "    print(\"hello world 天\")\n",
    "hello2()"
   ]
  },
  {
   "cell_type": "code",
   "execution_count": 50,
   "metadata": {},
   "outputs": [
    {
     "name": "stdout",
     "output_type": "stream",
     "text": [
      "我是手动执行的\n",
      "wrapper\n",
      "Time: Sun May 12 15:11:36 2019\n",
      "我是手动执行的\n",
      "Time: Sun May 12 15:11:36 2019\n",
      "Time: Sun May 12 15:11:36 2019\n",
      "我是手动执行的\n",
      "Time: Sun May 12 15:11:36 2019\n",
      "Time: Sun May 12 15:11:36 2019\n",
      "Time: Sun May 12 15:11:36 2019\n",
      "我是手动执行的\n"
     ]
    }
   ],
   "source": [
    "# 上面对函数的装饰使用了系统定义的语法糖\n",
    "# 下面开始手动执行下装饰器\n",
    "\n",
    "# 定义函数\n",
    "def hello3():\n",
    "    print('我是手动执行的')\n",
    "    \n",
    "hello3()\n",
    "hello3 = printTime(hello3) # 此时hello3就是装饰器中返回的wrapper\n",
    "print(hello3.__name__)\n",
    "hello3()\n",
    "f = printTime(hello3)  # 在装饰一次（在装饰好的基础上） \n",
    "f()\n",
    "f = printTime(f)  # 在装饰一次\n",
    "f()"
   ]
  },
  {
   "cell_type": "markdown",
   "metadata": {},
   "source": [
    "### 偏函数\n"
   ]
  },
  {
   "cell_type": "code",
   "execution_count": 72,
   "metadata": {},
   "outputs": [
    {
     "name": "stdout",
     "output_type": "stream",
     "text": [
      "12345\n",
      "5349\n",
      "74565\n"
     ]
    }
   ],
   "source": [
    "# 把字符串转化为十进制数字\n",
    "print(int('12345'))\n",
    "# base参数的值n，是指把字符串当作n进制，转化成10进制\n",
    "print(int('12345',base = 8))\n",
    "print(int('12345',base = 16))"
   ]
  },
  {
   "cell_type": "code",
   "execution_count": 83,
   "metadata": {},
   "outputs": [
    {
     "data": {
      "text/plain": [
       "74565"
      ]
     },
     "execution_count": 83,
     "metadata": {},
     "output_type": "execute_result"
    }
   ],
   "source": [
    "# 新建一个函数，此函数是默认输入的字符串是16进制的数字\n",
    "# 把此字符串返回十进制数字\n",
    "def int16(x,base = 16):\n",
    "    return int(x,base)\n",
    "\n",
    "int16('12345',16)"
   ]
  },
  {
   "cell_type": "markdown",
   "metadata": {},
   "source": [
    "### 偏函数\n",
    "- 参数固定的函数，相当于一个由特定参数的函数体\n",
    "- functools.partial的作用是，把一个函数的某些参数固定，返回一个新函数(偏函数)"
   ]
  },
  {
   "cell_type": "code",
   "execution_count": 89,
   "metadata": {},
   "outputs": [
    {
     "data": {
      "text/plain": [
       "74565"
      ]
     },
     "execution_count": 89,
     "metadata": {},
     "output_type": "execute_result"
    }
   ],
   "source": [
    "import functools\n",
    "# 实现上面int16的功能\n",
    "int17 = functools.partial(int,base = 16)\n",
    "int17('12345')"
   ]
  },
  {
   "cell_type": "code",
   "execution_count": null,
   "metadata": {},
   "outputs": [],
   "source": []
  }
 ],
 "metadata": {
  "kernelspec": {
   "display_name": "Python 3",
   "language": "python",
   "name": "python3"
  },
  "language_info": {
   "codemirror_mode": {
    "name": "ipython",
    "version": 3
   },
   "file_extension": ".py",
   "mimetype": "text/x-python",
   "name": "python",
   "nbconvert_exporter": "python",
   "pygments_lexer": "ipython3",
   "version": "3.7.0"
  }
 },
 "nbformat": 4,
 "nbformat_minor": 2
}
