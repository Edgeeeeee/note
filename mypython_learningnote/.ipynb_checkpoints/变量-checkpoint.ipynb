{
 "cells": [
  {
   "cell_type": "markdown",
   "metadata": {
    "collapsed": true
   },
   "source": [
    "# 坚持写笔记"
   ]
  },
  {
   "cell_type": "markdown",
   "metadata": {},
   "source": [
    "## 变量赋值易错点\n",
    "- 中文 英文逗号\n",
    "- 中文 英文双引号"
   ]
  },
  {
   "cell_type": "markdown",
   "metadata": {},
   "source": [
    "# 变量类型\n",
    "- 严格意义上，python只有一个类型\n",
    "- 标准数据类型有六种\n",
    "    - 数字Number\n",
    "    - 字符串类型str\n",
    "    - 列表list\n",
    "    - 元祖tuple\n",
    "    - 字典dict\n",
    "    - 集合set\n",
    "    "
   ]
  },
  {
   "cell_type": "markdown",
   "metadata": {},
   "source": [
    "# 数字类型 Number\n",
    "- python中的数字没有大小限制\n",
    "# 常见的数字分类\n",
    "## 整数\n",
    "    - 二进制\n",
    "        - 以0b开头的01串\n",
    "    - 八进制\n",
    "        - 以0o开头构成的只有0到7的串\n",
    "    - 十进制\n",
    "    - 十六进制\n",
    "        - 以0x开头组成的串\n",
    "- 浮点数\n",
    "- 科学计数法\n",
    "- 复数\n"
   ]
  },
  {
   "cell_type": "code",
   "execution_count": 1,
   "metadata": {},
   "outputs": [
    {
     "name": "stdout",
     "output_type": "stream",
     "text": [
      "7\n"
     ]
    }
   ],
   "source": [
    "a1 = 0b111\n",
    "print(a1)"
   ]
  },
  {
   "cell_type": "markdown",
   "metadata": {},
   "source": [
    "## 浮点数\n",
    "- 通俗意义山的小数\n",
    "    - 3.14159\n",
    "    - 1.0\n",
    "    - 4.\n",
    "## 科学计数法\n",
    "    - 定义与数学定义相同\n",
    "    - e的后面根整数表示10的指数\n",
    "    "
   ]
  },
  {
   "cell_type": "code",
   "execution_count": 2,
   "metadata": {},
   "outputs": [
    {
     "name": "stdout",
     "output_type": "stream",
     "text": [
      "1830.0\n"
     ]
    }
   ],
   "source": [
    "a=1.83e3\n",
    "print(a)"
   ]
  },
  {
   "cell_type": "markdown",
   "metadata": {},
   "source": [
    "# 复数complex\n",
    "- 与数学上的定义一致\n",
    "- 复数的虚部用j/J表示\n",
    "- 例如\n",
    "    - 5+4j\n",
    "    - 4j"
   ]
  },
  {
   "cell_type": "code",
   "execution_count": 3,
   "metadata": {},
   "outputs": [
    {
     "name": "stdout",
     "output_type": "stream",
     "text": [
      "(5+4j)\n"
     ]
    }
   ],
   "source": [
    "a = 5 + 4j\n",
    "print(a)"
   ]
  },
  {
   "cell_type": "markdown",
   "metadata": {},
   "source": [
    "# 布尔值\n",
    "- 布尔值就是用来表示真假的值\n",
    "- 只有两个值: True/False\n",
    "    - 在python种，布尔值可以当数字使用，True=1，False=0\n",
    "    - 数字当做布尔值使用，0为False，其他为真"
   ]
  },
  {
   "cell_type": "code",
   "execution_count": 4,
   "metadata": {},
   "outputs": [
    {
     "name": "stdout",
     "output_type": "stream",
     "text": [
      "负数是真\n"
     ]
    }
   ],
   "source": [
    "a = -1\n",
    "if a:\n",
    "    print(\"负数是真\")\n",
    "else:\n",
    "    print(\"负数是假\")"
   ]
  },
  {
   "cell_type": "markdown",
   "metadata": {},
   "source": [
    "# 字符串\n",
    "- 表达文字信息的内容\n",
    "- 形式上引号引起来的一段内容\n",
    "- 引号包括\n",
    "    - 单引号\n",
    "    - 双引号\n",
    "    - 三引号，可以用来表示多行信息\n",
    "- 双引号和单引号含义一致"
   ]
  },
  {
   "cell_type": "code",
   "execution_count": 5,
   "metadata": {},
   "outputs": [
    {
     "name": "stdout",
     "output_type": "stream",
     "text": [
      "\n",
      "i \n",
      "love\n",
      "you\n",
      "like snow\n",
      "\n"
     ]
    }
   ],
   "source": [
    "love = \"\"\"\n",
    "i \n",
    "love\n",
    "you\n",
    "like snow\n",
    "\"\"\"\n",
    "print(love)"
   ]
  },
  {
   "cell_type": "markdown",
   "metadata": {},
   "source": [
    "# None类型\n",
    "- 表示没有，用来占位\n",
    "- 返回时，用来表示一个空"
   ]
  }
 ],
 "metadata": {
  "kernelspec": {
   "display_name": "Python 3",
   "language": "python",
   "name": "python3"
  },
  "language_info": {
   "codemirror_mode": {
    "name": "ipython",
    "version": 3
   },
   "file_extension": ".py",
   "mimetype": "text/x-python",
   "name": "python",
   "nbconvert_exporter": "python",
   "pygments_lexer": "ipython3",
   "version": "3.6.3"
  }
 },
 "nbformat": 4,
 "nbformat_minor": 2
}
