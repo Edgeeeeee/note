{
 "cells": [
  {
   "cell_type": "markdown",
   "metadata": {},
   "source": [
    "# 变量作用域\n",
    "- 变量有范围限制\n",
    "- 分类：按照作用域分类\n",
    "    - 全局(global):在函数外部定义\n",
    "    - 局部(local): 在函数内部定义\n",
    "- 变量的作用范围:\n",
    "    - 全局：在整个全局范围内有效\n",
    "    - 全局变量在局部可以使用\n",
    "    - 局部变量在局部范围可以使用\n",
    "    - 局部变量在全局范围不能使用\n",
    "- LEGB原则\n",
    "    - L(local) 局部作用域\n",
    "    - E 外部嵌套函数作用\n",
    "    - G 函数定义所在模块作用域\n",
    "    - B python内置模块作用域"
   ]
  },
  {
   "cell_type": "markdown",
   "metadata": {},
   "source": [
    "## 提升局部变量为全局变量\n",
    "- 使用global\n",
    "- 案例如下"
   ]
  },
  {
   "cell_type": "code",
   "execution_count": 5,
   "metadata": {},
   "outputs": [
    {
     "ename": "NameError",
     "evalue": "name 'b1' is not defined",
     "output_type": "error",
     "traceback": [
      "\u001b[1;31m---------------------------------------------------------------------------\u001b[0m",
      "\u001b[1;31mNameError\u001b[0m                                 Traceback (most recent call last)",
      "\u001b[1;32m<ipython-input-5-81f5bb82c7e3>\u001b[0m in \u001b[0;36m<module>\u001b[1;34m()\u001b[0m\n\u001b[0;32m      7\u001b[0m     \u001b[0mprint\u001b[0m\u001b[1;33m(\u001b[0m\u001b[0mb2\u001b[0m\u001b[1;33m)\u001b[0m\u001b[1;33m\u001b[0m\u001b[0m\n\u001b[0;32m      8\u001b[0m \u001b[1;33m\u001b[0m\u001b[0m\n\u001b[1;32m----> 9\u001b[1;33m \u001b[0mprint\u001b[0m\u001b[1;33m(\u001b[0m\u001b[0mb1\u001b[0m\u001b[1;33m)\u001b[0m\u001b[1;33m\u001b[0m\u001b[0m\n\u001b[0m\u001b[0;32m     10\u001b[0m \u001b[1;31m#print(b2)\u001b[0m\u001b[1;33m\u001b[0m\u001b[1;33m\u001b[0m\u001b[0m\n",
      "\u001b[1;31mNameError\u001b[0m: name 'b1' is not defined"
     ]
    }
   ],
   "source": [
    "#  未解决！\n",
    "def fun():\n",
    "    global b1\n",
    "    b1 = 100\n",
    "    print(b1)\n",
    "    print(\"i am a man\")\n",
    "    b2 = 99\n",
    "    print(b2)\n",
    "\n",
    "print(b1)\n",
    "#print(b2)"
   ]
  },
  {
   "cell_type": "code",
   "execution_count": 3,
   "metadata": {},
   "outputs": [
    {
     "ename": "SyntaxError",
     "evalue": "invalid syntax (<ipython-input-3-b6e22358971e>, line 2)",
     "output_type": "error",
     "traceback": [
      "\u001b[1;36m  File \u001b[1;32m\"<ipython-input-3-b6e22358971e>\"\u001b[1;36m, line \u001b[1;32m2\u001b[0m\n\u001b[1;33m    global b1 = 100\u001b[0m\n\u001b[1;37m              ^\u001b[0m\n\u001b[1;31mSyntaxError\u001b[0m\u001b[1;31m:\u001b[0m invalid syntax\n"
     ]
    }
   ],
   "source": []
  },
  {
   "cell_type": "markdown",
   "metadata": {},
   "source": [
    "# globas，locals函数\n",
    "- 可以通过globals和locals显示出局部变量和全局变量\n",
    "- 案例"
   ]
  },
  {
   "cell_type": "code",
   "execution_count": 8,
   "metadata": {},
   "outputs": [
    {
     "name": "stdout",
     "output_type": "stream",
     "text": [
      "locals = {'c': 100, 'd': 200, 'e': 111} \n",
      "globals = {'__name__': '__main__', '__doc__': 'Automatically created module for IPython interactive environment', '__package__': None, '__loader__': None, '__spec__': None, '__builtin__': <module 'builtins' (built-in)>, '__builtins__': <module 'builtins' (built-in)>, '_ih': ['', 'def fun():\\n    print(b1)\\n    print(\"i am a man\")\\n    b2 = 99\\n    print(b2)\\n\\nprint(b1)\\nprint(b2)', 'def fun():\\n    global print(b1)\\n    print(\"i am a man\")\\n    b2 = 99\\n    print(b2)\\n\\nprint(b1)\\nprint(b2)', 'def fun():\\n    global b1 = 100 \\n    print(b1)\\n    print(\"i am a man\")\\n    b2 = 99\\n    print(b2)\\n\\nprint(b1)\\nprint(b2)', 'def fun():\\n    global b1\\n    b1 = 100\\n    print(b1)\\n    print(\"i am a man\")\\n    b2 = 99\\n    print(b2)\\n\\nprint(b1)\\nprint(b2)', 'def fun():\\n    global b1\\n    b1 = 100\\n    print(b1)\\n    print(\"i am a man\")\\n    b2 = 99\\n    print(b2)\\n\\nprint(b1)\\n#print(b2)', '# globals 和 locals\\na = 1\\nb = 2\\ndef fun(c,d)\\n    e = 111\\n    print(\"locals = {} \".format(locals()))\\n    print(\"globals = {}\".format(globals()))\\nfun(100,200)', '# globals 和 locals\\na = 1\\nb = 2\\ndef fun(c,d):\\n    e = 111\\n    print(\"locals = {} \".format(locals()))\\n    print(\"globals = {}\".format(globals()))\\nfun(100,200)', '# globals 和 locals\\n#python默认定义好了一些全局变量供我们使用\\na = 1\\nb = 2\\ndef fun(c,d):\\n    e = 111\\n    print(\"locals = {} \".format(locals()))\\n    print(\"globals = {}\".format(globals()))\\nfun(100,200)'], '_oh': {}, '_dh': ['C:\\\\Users\\\\qaz\\\\python 网课笔记'], 'In': ['', 'def fun():\\n    print(b1)\\n    print(\"i am a man\")\\n    b2 = 99\\n    print(b2)\\n\\nprint(b1)\\nprint(b2)', 'def fun():\\n    global print(b1)\\n    print(\"i am a man\")\\n    b2 = 99\\n    print(b2)\\n\\nprint(b1)\\nprint(b2)', 'def fun():\\n    global b1 = 100 \\n    print(b1)\\n    print(\"i am a man\")\\n    b2 = 99\\n    print(b2)\\n\\nprint(b1)\\nprint(b2)', 'def fun():\\n    global b1\\n    b1 = 100\\n    print(b1)\\n    print(\"i am a man\")\\n    b2 = 99\\n    print(b2)\\n\\nprint(b1)\\nprint(b2)', 'def fun():\\n    global b1\\n    b1 = 100\\n    print(b1)\\n    print(\"i am a man\")\\n    b2 = 99\\n    print(b2)\\n\\nprint(b1)\\n#print(b2)', '# globals 和 locals\\na = 1\\nb = 2\\ndef fun(c,d)\\n    e = 111\\n    print(\"locals = {} \".format(locals()))\\n    print(\"globals = {}\".format(globals()))\\nfun(100,200)', '# globals 和 locals\\na = 1\\nb = 2\\ndef fun(c,d):\\n    e = 111\\n    print(\"locals = {} \".format(locals()))\\n    print(\"globals = {}\".format(globals()))\\nfun(100,200)', '# globals 和 locals\\n#python默认定义好了一些全局变量供我们使用\\na = 1\\nb = 2\\ndef fun(c,d):\\n    e = 111\\n    print(\"locals = {} \".format(locals()))\\n    print(\"globals = {}\".format(globals()))\\nfun(100,200)'], 'Out': {}, 'get_ipython': <bound method InteractiveShell.get_ipython of <ipykernel.zmqshell.ZMQInteractiveShell object at 0x0000020393ACFDD8>>, 'exit': <IPython.core.autocall.ZMQExitAutocall object at 0x000002039434D908>, 'quit': <IPython.core.autocall.ZMQExitAutocall object at 0x000002039434D908>, '_': '', '__': '', '___': '', '_i': '# globals 和 locals\\na = 1\\nb = 2\\ndef fun(c,d):\\n    e = 111\\n    print(\"locals = {} \".format(locals()))\\n    print(\"globals = {}\".format(globals()))\\nfun(100,200)', '_ii': '# globals 和 locals\\na = 1\\nb = 2\\ndef fun(c,d)\\n    e = 111\\n    print(\"locals = {} \".format(locals()))\\n    print(\"globals = {}\".format(globals()))\\nfun(100,200)', '_iii': 'def fun():\\n    global b1\\n    b1 = 100\\n    print(b1)\\n    print(\"i am a man\")\\n    b2 = 99\\n    print(b2)\\n\\nprint(b1)\\n#print(b2)', '_i1': 'def fun():\\n    print(b1)\\n    print(\"i am a man\")\\n    b2 = 99\\n    print(b2)\\n\\nprint(b1)\\nprint(b2)', 'fun': <function fun at 0x00000203944DA9D8>, '_i2': 'def fun():\\n    global print(b1)\\n    print(\"i am a man\")\\n    b2 = 99\\n    print(b2)\\n\\nprint(b1)\\nprint(b2)', '_i3': 'def fun():\\n    global b1 = 100 \\n    print(b1)\\n    print(\"i am a man\")\\n    b2 = 99\\n    print(b2)\\n\\nprint(b1)\\nprint(b2)', '_i4': 'def fun():\\n    global b1\\n    b1 = 100\\n    print(b1)\\n    print(\"i am a man\")\\n    b2 = 99\\n    print(b2)\\n\\nprint(b1)\\nprint(b2)', '_i5': 'def fun():\\n    global b1\\n    b1 = 100\\n    print(b1)\\n    print(\"i am a man\")\\n    b2 = 99\\n    print(b2)\\n\\nprint(b1)\\n#print(b2)', '_i6': '# globals 和 locals\\na = 1\\nb = 2\\ndef fun(c,d)\\n    e = 111\\n    print(\"locals = {} \".format(locals()))\\n    print(\"globals = {}\".format(globals()))\\nfun(100,200)', '_i7': '# globals 和 locals\\na = 1\\nb = 2\\ndef fun(c,d):\\n    e = 111\\n    print(\"locals = {} \".format(locals()))\\n    print(\"globals = {}\".format(globals()))\\nfun(100,200)', 'a': 1, 'b': 2, '_i8': '# globals 和 locals\\n#python默认定义好了一些全局变量供我们使用\\na = 1\\nb = 2\\ndef fun(c,d):\\n    e = 111\\n    print(\"locals = {} \".format(locals()))\\n    print(\"globals = {}\".format(globals()))\\nfun(100,200)'}\n"
     ]
    }
   ],
   "source": [
    "# globals 和 locals\n",
    "#python默认定义好了一些全局变量供我们使用\n",
    "a = 1\n",
    "b = 2\n",
    "def fun(c,d):\n",
    "    e = 111\n",
    "    print(\"locals = {} \".format(locals()))\n",
    "    print(\"globals = {}\".format(globals()))\n",
    "fun(100,200)"
   ]
  },
  {
   "cell_type": "markdown",
   "metadata": {},
   "source": [
    "# eval()函数\n",
    "- 把一个字符串当成一个代码来执行，返回表达式执行后的结果\n",
    "- 语法 \n",
    "            eval(string_code,globals = none,locals = none)\n",
    " \n",
    "# exec()函数\n",
    "- 与eval功能类似，但是不返回结果\n",
    "- 语法\n",
    "            exec(string_code,globals = none,locals = none)"
   ]
  },
  {
   "cell_type": "code",
   "execution_count": 16,
   "metadata": {},
   "outputs": [
    {
     "name": "stdout",
     "output_type": "stream",
     "text": [
      "300\n",
      "x + y = 300\n",
      "None\n"
     ]
    }
   ],
   "source": [
    "x = 100\n",
    "y = 200\n",
    "# 执行x + y\n",
    "z = eval(\"x+y\")\n",
    "print(z)\n",
    "z = exec(\"print('x + y =',x + y)\")\n",
    "print(z)"
   ]
  },
  {
   "cell_type": "markdown",
   "metadata": {},
   "source": [
    "# 内置数据结构\n",
    "- list\n",
    "- set\n",
    "- dict\n",
    "- tuple\n",
    "## list(列表)\n",
    "- 一组有 **顺序** 的数据的组合\n",
    "- 创建列表\n",
    "    - 空列表"
   ]
  },
  {
   "cell_type": "code",
   "execution_count": 19,
   "metadata": {},
   "outputs": [
    {
     "name": "stdout",
     "output_type": "stream",
     "text": [
      "<class 'list'>\n",
      "[]\n",
      "<class 'list'>\n",
      "[100]\n"
     ]
    }
   ],
   "source": [
    "l1 = []\n",
    "print(type(l1))\n",
    "print(l1)\n",
    "l2 = [100]\n",
    "print(type(l2))\n",
    "print(l2)\n"
   ]
  },
  {
   "cell_type": "markdown",
   "metadata": {},
   "source": [
    "## 列表操作\n",
    "- 列表访问\n",
    "    - 使用下标操作（索引）\n",
    "    - 列表的位置是从零开始\n",
    "- 分片操作\n",
    "    - 对列表进行任意一段的截取\n",
    "    - list[ : ]   \n",
    "      冒号左右可以为空 ，左不写为0 ，右不写为最大序号加1（到结束）\n",
    "      **左闭右开**"
   ]
  },
  {
   "cell_type": "code",
   "execution_count": 26,
   "metadata": {},
   "outputs": [
    {
     "name": "stdout",
     "output_type": "stream",
     "text": [
      "4\n",
      "[2, 3]\n",
      "[2, 3, 4, 5, 6, 7, 8, 9]\n",
      "[1, 2, 3]\n",
      "[2, 3, 4, 5, 6, 7, 8, 9]\n"
     ]
    }
   ],
   "source": [
    "# 下标访问操作\n",
    "l = [1,2,3,4,5,6,7,8,9]\n",
    "print(l[3])\n",
    "print(l[1:3])\n",
    "print(l[1:])\n",
    "print(l[:3])\n",
    "print(l[1:20]) # 可以超出长度"
   ]
  },
  {
   "cell_type": "code",
   "execution_count": 43,
   "metadata": {},
   "outputs": [
    {
     "name": "stdout",
     "output_type": "stream",
     "text": [
      "[2, 3, 4, 5, 6, 7]\n",
      "[2, 4, 6]\n",
      "[2, 5]\n",
      "[]\n",
      "[9, 8, 7, 6, 5, 4]\n",
      "[9, 7, 5, 3, 1]\n",
      "[6, 7, 8]\n",
      "[6, 7, 8, 9]\n",
      "[]\n"
     ]
    }
   ],
   "source": [
    "# 分片可以控制增长幅度，默认幅度为1\n",
    "l = [1,2,3,4,5,6,7,8,9]\n",
    "print(l[1:7:1])\n",
    "print(l[1:7:2])\n",
    "print(l[1:7:3])\n",
    "print(l[1:7:-1])  #增长幅度可以为负数，表示从右往左数\n",
    "print(l[-1:-7:-1])  # 规定数组的结尾为-1，从右往左以此为-1，-2， 。。。。\n",
    "print(l[-1::-2])\n",
    "print(l[-4:-1])\n",
    "print(l[-4::1])\n",
    "print(l[-1:-4])\n",
    "\n",
    "\n",
    "# 总结 ：第三位不常用参数正负表示方向，大小表示幅度，默认为1"
   ]
  },
  {
   "cell_type": "markdown",
   "metadata": {},
   "source": [
    "# 分片操作是生成一个新的list\n",
    "- 内置函数id() 负责显示一个变量或者数据的唯一确定那个编号\n"
   ]
  },
  {
   "cell_type": "code",
   "execution_count": 9,
   "metadata": {},
   "outputs": [
    {
     "name": "stdout",
     "output_type": "stream",
     "text": [
      "140708044012416\n",
      "140708044012416\n",
      "140708044012384\n"
     ]
    }
   ],
   "source": [
    "# id函数举例\n",
    "a = 100\n",
    "b = 101\n",
    "c = a   # a,c 的id相同\n",
    "a = 101\n",
    "print(id(a))\n",
    "print(id(b))\n",
    "print(id(c))"
   ]
  },
  {
   "cell_type": "code",
   "execution_count": 8,
   "metadata": {},
   "outputs": [
    {
     "name": "stdout",
     "output_type": "stream",
     "text": [
      "1448447221064\n",
      "1448446333192\n",
      "1448447221064\n",
      "\n",
      "[1, 100, 3, 4, 5, 6, 7]\n",
      "[1, 2, 3, 4, 5, 6, 7]\n",
      "[1, 100, 3, 4, 5, 6, 7]\n"
     ]
    }
   ],
   "source": [
    "# 通过id可以判断分片是否普重新生成了一份数据还是使用的同一份数据\n",
    "l = [1,2,3,4,5,6,7]\n",
    "ll = l[ : ] \n",
    "print(id(l))\n",
    "print(id(ll))\n",
    "lll = l #赋值符号前的 只是一个对象的标签 没有实际内存\n",
    "print(id(lll))\n",
    "print()\n",
    "#验证代码\n",
    "lll[1] = 100 #l[1]同时也被修改\n",
    "print(l)\n",
    "print(ll)\n",
    "print(lll)\n"
   ]
  },
  {
   "cell_type": "code",
   "execution_count": null,
   "metadata": {},
   "outputs": [],
   "source": []
  }
 ],
 "metadata": {
  "kernelspec": {
   "display_name": "Python 3",
   "language": "python",
   "name": "python3"
  },
  "language_info": {
   "codemirror_mode": {
    "name": "ipython",
    "version": 3
   },
   "file_extension": ".py",
   "mimetype": "text/x-python",
   "name": "python",
   "nbconvert_exporter": "python",
   "pygments_lexer": "ipython3",
   "version": "3.7.0"
  }
 },
 "nbformat": 4,
 "nbformat_minor": 2
}
