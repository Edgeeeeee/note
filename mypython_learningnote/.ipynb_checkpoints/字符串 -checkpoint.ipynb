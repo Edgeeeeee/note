{
 "cells": [
  {
   "cell_type": "markdown",
   "metadata": {},
   "source": [
    "# 字符串\n",
    "- 转义字符\n",
    "- 格式化\n",
    "- 内建函数"
   ]
  },
  {
   "cell_type": "markdown",
   "metadata": {},
   "source": [
    "## 转义字符\n",
    "- 用一个特殊的方法表示一系列不方便写出来的内容，比如回车，换行，退格键\n",
    "- 借助反斜杠字符，一旦字符穿中出现反斜杠，则后面的一个或者几个字符都不是原来的意思了，进行了转义\n",
    "- 在字符集中，一旦出现反斜杠就要加倍小心，可能有转义字符出现\n",
    "- 不同系统对换行操作有不同的表示"
   ]
  },
  {
   "cell_type": "code",
   "execution_count": 2,
   "metadata": {},
   "outputs": [
    {
     "name": "stdout",
     "output_type": "stream",
     "text": [
      "i love python\n"
     ]
    }
   ],
   "source": [
    "s = 'i love python'\n",
    "print (s)"
   ]
  },
  {
   "cell_type": "code",
   "execution_count": 7,
   "metadata": {},
   "outputs": [
    {
     "name": "stdout",
     "output_type": "stream",
     "text": [
      "let's go\n",
      "let's go\n",
      "c:\\user\n"
     ]
    }
   ],
   "source": [
    "# 表示let's go\n",
    "# 可以使用引号嵌套\n",
    "s = \"let's go\"\n",
    "print(s)\n",
    "\n",
    "\n",
    "# 转移字符\n",
    "ss = 'let\\'s go'\n",
    "print(ss)\n",
    "\n",
    "\n",
    "# 打印c:\\user\n",
    "sss = \"c:\\\\user\" #双斜杠是一个反斜杠\n",
    "print(sss)"
   ]
  },
  {
   "cell_type": "markdown",
   "metadata": {},
   "source": [
    "## 字符串的格式化\n",
    "- 把字符串按照一定的格式打印或者填充\n",
    "- 格式化有两种方法\n",
    "    - 利用百分号（和c语言相同）如果有多个占位符要用括号括起来\n",
    "    - 利用format函数"
   ]
  },
  {
   "cell_type": "code",
   "execution_count": 12,
   "metadata": {},
   "outputs": [
    {
     "name": "stdout",
     "output_type": "stream",
     "text": [
      "xxxx 您好，我开始学习python了，你和我一起学把\n",
      "xxxx 您好，我开始学习python了，你和我一起学把\n"
     ]
    }
   ],
   "source": [
    "s = \"{} 您好，我开始学习python了，你和我一起学把\".format('xxxx')\n",
    "print(s)\n",
    "\n",
    "ss = \"{a} 您好，我开始学习{b}了，你和我一起学把\".format(a = 'xxxx', b = 'python')\n",
    "print(ss)"
   ]
  },
  {
   "cell_type": "markdown",
   "metadata": {},
   "source": [
    "## None\n",
    "- 表示什么都没有\n",
    "- 如果函数什么都没返回，可以返回 None\n",
    "- 用来占位置\n",
    "- 用来接触变量的绑定"
   ]
  },
  {
   "cell_type": "markdown",
   "metadata": {},
   "source": [
    "# 表达式\n",
    "- 由一个或几个数字或变量和运算符组成的代码\n",
    "# 运算符\n",
    "- "
   ]
  }
 ],
 "metadata": {
  "kernelspec": {
   "display_name": "Python 3",
   "language": "python",
   "name": "python3"
  },
  "language_info": {
   "codemirror_mode": {
    "name": "ipython",
    "version": 3
   },
   "file_extension": ".py",
   "mimetype": "text/x-python",
   "name": "python",
   "nbconvert_exporter": "python",
   "pygments_lexer": "ipython3",
   "version": "3.7.0"
  }
 },
 "nbformat": 4,
 "nbformat_minor": 2
}
