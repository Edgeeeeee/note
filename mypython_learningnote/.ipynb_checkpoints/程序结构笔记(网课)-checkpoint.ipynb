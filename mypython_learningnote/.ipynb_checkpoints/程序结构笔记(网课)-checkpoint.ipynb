{
 "cells": [
  {
   "cell_type": "markdown",
   "metadata": {},
   "source": [
    "# 程序结构\n",
    "- 程序三种结构\n",
    "    - 顺序\n",
    "    - 循环\n",
    "    - 分支"
   ]
  },
  {
   "cell_type": "markdown",
   "metadata": {},
   "source": [
    "# 分支结构\n",
    "- 分支结构基本语法\n",
    "    \n",
    "        if 条件表达式:\n",
    "            语句1\n",
    "            语句2\n",
    "            语句3\n",
    "            ... ...\n",
    "- 条件表达式后面的冒号不能少\n",
    "- 条件表达式就是计算结果为布尔值的表达式\n",
    "- if语句后面出现的语句，如果属于if语句块，则必须同一个缩进等级\n",
    "- 条件表达式结果为true执行if后面的缩进块"
   ]
  },
  {
   "cell_type": "code",
   "execution_count": 2,
   "metadata": {},
   "outputs": [
    {
     "name": "stdout",
     "output_type": "stream",
     "text": [
      "迎娶白富美\n",
      "走向人生巅峰\n"
     ]
    }
   ],
   "source": [
    "a = \"如果我好好学习\" #只有空字符串为假，长度为零\n",
    "if a:\n",
    "    print(\"迎娶白富美\")\n",
    "    print(\"走向人生巅峰\")\n",
    "else:\n",
    "    print(\"还是好好学吧\")"
   ]
  },
  {
   "cell_type": "markdown",
   "metadata": {},
   "source": [
    "# 双向分支\n",
    "- if... else ...表达\n",
    "- 语法结构：\n",
    "        if 条件表达式：\n",
    "            语句1\n",
    "            语句2\n",
    "            ......\n",
    "        else:\n",
    "            语句1\n",
    "            语句2\n",
    "            语句3\n",
    "            ......"
   ]
  },
  {
   "cell_type": "code",
   "execution_count": 4,
   "metadata": {},
   "outputs": [
    {
     "name": "stdout",
     "output_type": "stream",
     "text": [
      "请输入你的性别man\n",
      "man\n",
      "你是男的\n"
     ]
    }
   ],
   "source": [
    "#input的作用是\n",
    "#1.在屏幕上输出括号内的字符串\n",
    "#2.接受用户输入的内容返回到程序\n",
    "#3.返回内容一定是字符串\n",
    "\n",
    "gender = input(\"请输入你的性别\")\n",
    "print(gender)\n",
    "if gender == \"man\":\n",
    "    print(\"你是男的\")\n",
    "else:\n",
    "    print(\"你是个啥\")"
   ]
  },
  {
   "cell_type": "code",
   "execution_count": 10,
   "metadata": {},
   "outputs": [
    {
     "name": "stdout",
     "output_type": "stream",
     "text": [
      "请输入你的成绩88\n",
      "凉了\n"
     ]
    }
   ],
   "source": [
    "score = input(\"请输入你的成绩\")\n",
    "score = int(score)\n",
    "if score >= 90 :\n",
    "    print(\"优秀\")\n",
    "if score >= 80 and score < 90:\n",
    "    print(\"凉了\")"
   ]
  },
  {
   "cell_type": "markdown",
   "metadata": {},
   "source": [
    "# 多路分支\n",
    "- 很多分支的情况，叫做多路分支\n",
    "\n",
    "        if 条件表达式：\n",
    "            语句\n",
    "        elif 条件表达式：\n",
    "            语句\n",
    "        elif 条件表达式：\n",
    "            语句\n",
    "        else\n",
    "            语句\n",
    "            \n",
    "- elif可以有很多个\n",
    "- else可选\n",
    "- 多路分支最多只会执行一种情况"
   ]
  },
  {
   "cell_type": "code",
   "execution_count": 13,
   "metadata": {},
   "outputs": [
    {
     "name": "stdout",
     "output_type": "stream",
     "text": [
      "请输入你的成绩10\n",
      "凉了\n"
     ]
    }
   ],
   "source": [
    "score = input(\"请输入你的成绩\")\n",
    "score = int(score)\n",
    "if score >= 90 :\n",
    "    print(\"优秀\")\n",
    "elif score >= 80 :\n",
    "    print(\"良好\")\n",
    "else :\n",
    "    print(\"凉了\")"
   ]
  },
  {
   "cell_type": "markdown",
   "metadata": {},
   "source": [
    "# if语句补充\n",
    "- if语句可以嵌套使用(不推荐)\n",
    "- python没有switch语句"
   ]
  },
  {
   "cell_type": "markdown",
   "metadata": {},
   "source": [
    "# 循环语句\n",
    "- 重复执行某一些固定的动作\n",
    "- 分类\n",
    "    - for\n",
    "    - while\n",
    "# for循环\n",
    "- 语法\n",
    "           for 变量 in 序列\n",
    "               语句1\n",
    "               语句2\n",
    "               语句3"
   ]
  },
  {
   "cell_type": "code",
   "execution_count": 14,
   "metadata": {},
   "outputs": [
    {
     "name": "stdout",
     "output_type": "stream",
     "text": [
      "1\n",
      "101\n",
      "1001\n",
      "2\n",
      "102\n",
      "1002\n",
      "3\n",
      "103\n",
      "1003\n",
      "4\n",
      "104\n",
      "1004\n",
      "5\n",
      "105\n",
      "1005\n",
      "6\n",
      "106\n",
      "1006\n",
      "7\n",
      "107\n",
      "1007\n"
     ]
    }
   ],
   "source": [
    "list = [1,2,3,4,5,6,7]\n",
    "for shuzi in list:\n",
    "    print(shuzi)\n",
    "    print(shuzi+100)\n",
    "    print(shuzi+1000)"
   ]
  },
  {
   "cell_type": "code",
   "execution_count": 17,
   "metadata": {},
   "outputs": [
    {
     "name": "stdout",
     "output_type": "stream",
     "text": [
      "不想说啥\n",
      "不想说啥\n",
      "我要学python\n"
     ]
    }
   ],
   "source": [
    "stu_list = ['wangdayan','limeili','python']\n",
    "for stu in stu_list:\n",
    "    if stu == 'python':\n",
    "        print(\"我要学python\")\n",
    "    else :\n",
    "        print('不想说啥')"
   ]
  },
  {
   "cell_type": "markdown",
   "metadata": {},
   "source": [
    "# for-else 语句\n",
    "- for循环结束的时候，有时候会执行一下收尾的结构\n",
    "- else是可选语句"
   ]
  },
  {
   "cell_type": "code",
   "execution_count": 23,
   "metadata": {},
   "outputs": [
    {
     "name": "stdout",
     "output_type": "stream",
     "text": [
      "不想说啥\n",
      "不想说啥\n",
      "我要学python\n",
      "好烦啊\n"
     ]
    }
   ],
   "source": [
    "stu_list = ['wangdayan','limeili','python']\n",
    "for stu in stu_list:\n",
    "    if stu == 'python':\n",
    "         print(\"我要学python\")\n",
    "    else :\n",
    "         print('不想说啥')\n",
    "else:\n",
    "    print('好烦啊')"
   ]
  },
  {
   "cell_type": "markdown",
   "metadata": {},
   "source": [
    "# break，continue，pass\n",
    "- break：无条件结束整个循环，简称循环猝死\n",
    "- continue：继续循环\n",
    "- pass：只是占位符号\n",
    "- 同样适用于while"
   ]
  },
  {
   "cell_type": "code",
   "execution_count": 27,
   "metadata": {},
   "outputs": [
    {
     "name": "stdout",
     "output_type": "stream",
     "text": [
      "1\n",
      "2\n",
      "3\n",
      "4\n",
      "5\n",
      "6\n",
      "找到7了\n"
     ]
    }
   ],
   "source": [
    "#在队列中找到7后结束\n",
    "\n",
    "list = [1,2,3,4,5,6,7,8,9,10]\n",
    "for seven in list:\n",
    "    if seven == 7:\n",
    "        print('找到7了')\n",
    "        break\n",
    "    else :\n",
    "        print(seven)"
   ]
  },
  {
   "cell_type": "code",
   "execution_count": 39,
   "metadata": {},
   "outputs": [
    {
     "name": "stdout",
     "output_type": "stream",
     "text": [
      "2\n",
      "4\n",
      "6\n",
      "8\n",
      "10\n"
     ]
    }
   ],
   "source": [
    "#在队列内寻找偶数，\n",
    "list = [1,2,3,4,5,6,7,8,9,10]\n",
    "for num in list:\n",
    "    if num % 2 == 1:\n",
    "         continue\n",
    "            \n",
    "    print(num)\n"
   ]
  },
  {
   "cell_type": "code",
   "execution_count": 41,
   "metadata": {},
   "outputs": [
    {
     "name": "stdout",
     "output_type": "stream",
     "text": [
      "你还小\n"
     ]
    }
   ],
   "source": [
    "#pass案例\n",
    "age = 20\n",
    "if age > 20:\n",
    "    pass\n",
    "else:\n",
    "    print('你还小')"
   ]
  },
  {
   "cell_type": "code",
   "execution_count": 42,
   "metadata": {},
   "outputs": [
    {
     "name": "stdout",
     "output_type": "stream",
     "text": [
      "2\n",
      "34\n",
      "5\n",
      "63\n",
      "34\n",
      "23\n"
     ]
    }
   ],
   "source": [
    "#pass案例2\n",
    "age = [2,34,5,63,34,23 ]\n",
    "for age in age:\n",
    "    pass     #只是什么也不敢不跳过循环\n",
    "    print(age)"
   ]
  },
  {
   "cell_type": "markdown",
   "metadata": {},
   "source": [
    "# range函数\n",
    "- 生成有序数列(队列)\n",
    "- 生成数字队列可以定制\n",
    "- range()函数在python2和python3中有很大区别，此处为python3"
   ]
  },
  {
   "cell_type": "code",
   "execution_count": 45,
   "metadata": {},
   "outputs": [
    {
     "name": "stdout",
     "output_type": "stream",
     "text": [
      "1\n",
      "2\n",
      "3\n",
      "4\n",
      "5\n",
      "6\n",
      "7\n",
      "8\n",
      "9\n",
      "10\n"
     ]
    }
   ],
   "source": [
    "#range案例\n",
    "#生成从1到10的数字\n",
    "dig_list = range(1,11) # python内基本都是左闭右开，只有一个randint特例\n",
    "for dig in dig_list:\n",
    "    print(dig)"
   ]
  },
  {
   "cell_type": "markdown",
   "metadata": {},
   "source": [
    "# while 循环\n",
    "- for经常应用于循环队列是固定的\n",
    "- while表示当条件成立的时候就循环，适用于不知道具体循环次数\n",
    "- while语法\n",
    "        while 条件表达式：\n",
    "            语句块\n",
    "        \n",
    "        #另外一种方法\n",
    "        while 条件表达式：\n",
    "            语句块1\n",
    "        else：\n",
    "            语句块2"
   ]
  },
  {
   "cell_type": "code",
   "execution_count": 48,
   "metadata": {},
   "outputs": [
    {
     "name": "stdout",
     "output_type": "stream",
     "text": [
      "11\n"
     ]
    }
   ],
   "source": [
    "#如果年利率是6.7%，本利是每年翻滚，则多少年后本钱会翻倍\n",
    "benjin = 10000\n",
    "year = 0\n",
    "while benjin < 20000:\n",
    "    benjin = benjin * (1 + 0.067)\n",
    "    year += 1 \n",
    "print(year)"
   ]
  },
  {
   "cell_type": "markdown",
   "metadata": {},
   "source": [
    "# 函数\n",
    "- 有些语言，分函数和过程两个概念，通俗解释是，又返回结果叫函数，没有叫过程（现在不作区分）\n",
    "- 函数是代码的一种组成形式\n",
    "- 函数应该完成一项特定的组织工作，而且一般一个函数仅仅完成一项工作\n",
    "    - 函数的使用需要先定义\n",
    "    - 使用一个函数，俗称调用"
   ]
  },
  {
   "cell_type": "code",
   "execution_count": 50,
   "metadata": {},
   "outputs": [
    {
     "name": "stdout",
     "output_type": "stream",
     "text": [
      "函数结束了\n"
     ]
    }
   ],
   "source": [
    "# 定义一个函数\n",
    "# 只是定义的话不会执行\n",
    "# 函数名，自己定义，起名需要遵循命名规则，约定俗成，大驼峰命名只给类使用\n",
    "# 后面括号和冒号不能省略，括号可以有参数\n",
    "# 函数内所有代码缩进\n",
    "\n",
    "def func():\n",
    "    print('我是哟个函数')\n",
    "    print('爱生活，爱学习')\n",
    "\n",
    "print('函数结束了')"
   ]
  },
  {
   "cell_type": "code",
   "execution_count": 51,
   "metadata": {},
   "outputs": [
    {
     "name": "stdout",
     "output_type": "stream",
     "text": [
      "我是哟个函数\n",
      "爱生活，爱学习\n"
     ]
    }
   ],
   "source": [
    "func()"
   ]
  },
  {
   "cell_type": "code",
   "execution_count": null,
   "metadata": {},
   "outputs": [],
   "source": []
  }
 ],
 "metadata": {
  "kernelspec": {
   "display_name": "Python 3",
   "language": "python",
   "name": "python3"
  },
  "language_info": {
   "codemirror_mode": {
    "name": "ipython",
    "version": 3
   },
   "file_extension": ".py",
   "mimetype": "text/x-python",
   "name": "python",
   "nbconvert_exporter": "python",
   "pygments_lexer": "ipython3",
   "version": "3.7.0"
  }
 },
 "nbformat": 4,
 "nbformat_minor": 2
}
