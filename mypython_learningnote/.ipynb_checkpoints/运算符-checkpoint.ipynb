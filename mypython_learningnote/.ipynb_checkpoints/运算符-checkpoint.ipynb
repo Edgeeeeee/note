{
 "cells": [
  {
   "cell_type": "markdown",
   "metadata": {},
   "source": [
    "# 表达式\n",
    "- 有一个或几个数字或者变量或者运算符合成的一行代码\n",
    "- 通常返回一个结果"
   ]
  },
  {
   "cell_type": "code",
   "execution_count": 1,
   "metadata": {},
   "outputs": [
    {
     "data": {
      "text/plain": [
       "3"
      ]
     },
     "execution_count": 1,
     "metadata": {},
     "output_type": "execute_result"
    }
   ],
   "source": [
    "1 + 2 "
   ]
  },
  {
   "cell_type": "markdown",
   "metadata": {},
   "source": [
    "# 运算符\n",
    "- = + - * /\n",
    "- 有一个以上的值经过一系列运算得到新的值的过程叫运算\n",
    "- 分类\n",
    "    - 算数运算符\n",
    "    - 比较或关系运算符\n",
    "    - 赋值运算符\n",
    "    - 逻辑云悬浮\n",
    "    - 位运算\n",
    "    - 成员运算符\n",
    "    - 身份运算符"
   ]
  },
  {
   "cell_type": "markdown",
   "metadata": {},
   "source": [
    "## 算术运算符\n",
    "- python没有自增自减\n",
    "- 通常表示加减乘除\n",
    "- 数字，符号之间留一个空格\n",
    "- 除法\n",
    "    - 正常除法  一个/\n",
    "    - 地板除    两个//\n",
    "    - 取余      %\n",
    "- 平方**\n",
    "    -2 ** 10   2的10次方"
   ]
  },
  {
   "cell_type": "code",
   "execution_count": 9,
   "metadata": {},
   "outputs": [
    {
     "name": "stdout",
     "output_type": "stream",
     "text": [
      "4.5\n"
     ]
    }
   ],
   "source": [
    "a = 9 / 2\n",
    "print(a)"
   ]
  },
  {
   "cell_type": "code",
   "execution_count": 10,
   "metadata": {},
   "outputs": [
    {
     "name": "stdout",
     "output_type": "stream",
     "text": [
      "4\n"
     ]
    }
   ],
   "source": [
    "b = 9 // 2\n",
    "print(b)"
   ]
  },
  {
   "cell_type": "code",
   "execution_count": 11,
   "metadata": {},
   "outputs": [
    {
     "data": {
      "text/plain": [
       "1"
      ]
     },
     "execution_count": 11,
     "metadata": {},
     "output_type": "execute_result"
    }
   ],
   "source": [
    "9 % 4 "
   ]
  },
  {
   "cell_type": "code",
   "execution_count": 12,
   "metadata": {},
   "outputs": [
    {
     "data": {
      "text/plain": [
       "-3"
      ]
     },
     "execution_count": 12,
     "metadata": {},
     "output_type": "execute_result"
    }
   ],
   "source": [
    "9 % -4 #余数定义：余数指整数除法中被除数未被除尽部分，且余数的取值范围为0到除数之间（不包括除数）的整数。"
   ]
  },
  {
   "cell_type": "markdown",
   "metadata": {},
   "source": [
    "# 比较运算符\n",
    "- 对两个内容进行比较\n",
    "- 结果一定是布尔值，即True/False\n",
    "- 字符串也可以比较"
   ]
  },
  {
   "cell_type": "code",
   "execution_count": 14,
   "metadata": {},
   "outputs": [
    {
     "name": "stdout",
     "output_type": "stream",
     "text": [
      "False\n"
     ]
    }
   ],
   "source": [
    "# 等于\n",
    "a = 3 == 4\n",
    "print(a)"
   ]
  },
  {
   "cell_type": "code",
   "execution_count": 15,
   "metadata": {},
   "outputs": [
    {
     "name": "stdout",
     "output_type": "stream",
     "text": [
      "True\n"
     ]
    }
   ],
   "source": [
    "b = 4 != 3\n",
    "print(b)"
   ]
  },
  {
   "cell_type": "markdown",
   "metadata": {},
   "source": [
    "# 赋值运算符\n",
    "- 比一个变量放到变量里去\n",
    "- 运算优先级最低\n",
    "- 复杂赋值\n",
    "    - a = b = 9\n",
    "    - c,d = 3,4\n"
   ]
  },
  {
   "cell_type": "code",
   "execution_count": 18,
   "metadata": {},
   "outputs": [
    {
     "name": "stdout",
     "output_type": "stream",
     "text": [
      "103\n",
      "106\n"
     ]
    }
   ],
   "source": [
    "# 赋值的缩写\n",
    "cc = 100\n",
    "cc = cc + 3\n",
    "print(cc)\n",
    "cc += 3  # ”+=“ 仅仅是一个缩写\n",
    "print(cc)"
   ]
  },
  {
   "cell_type": "markdown",
   "metadata": {},
   "source": [
    "# 逻辑运算符\n",
    "- 对布尔类型或者值进行运算的符号\n",
    "- and：逻辑与\n",
    "- or： 逻辑非\n",
    "- and：逻辑非\n",
    "- python里面的逻辑运算没有异或\n",
    "- 运算规则略\n",
    "- 逻辑运算的短路问题\n",
    "    - 逻辑运算式，按照顺序进行计算。一旦能够确定整个式子的值，则不再进行计算，直接返回\n",
    "- 字符串乘以数字表示字符串重复多少遍\n"
   ]
  },
  {
   "cell_type": "markdown",
   "metadata": {},
   "source": [
    "# 成员运算符\n",
    "- 用来检测一个值或者变量是否在某个集合里面\n",
    "- in：成员运算符\n",
    "- not in：不在里面的意思"
   ]
  },
  {
   "cell_type": "code",
   "execution_count": 20,
   "metadata": {},
   "outputs": [
    {
     "name": "stdout",
     "output_type": "stream",
     "text": [
      "False\n",
      "True\n"
     ]
    }
   ],
   "source": [
    "L = [1,2,3,4,5]\n",
    "a = 6\n",
    "aa = a in L\n",
    "print(aa)\n",
    "aa = a not in L\n",
    "print(aa)"
   ]
  },
  {
   "cell_type": "markdown",
   "metadata": {},
   "source": [
    "# 身份运算符\n",
    "- 用来确定连个变量是否是同一个变量\n",
    "- 不是指两个变量的值\n",
    "- is: 变量运算符\n",
    "- is not：不是"
   ]
  },
  {
   "cell_type": "code",
   "execution_count": 29,
   "metadata": {},
   "outputs": [
    {
     "name": "stdout",
     "output_type": "stream",
     "text": [
      "False\n",
      "True\n",
      "False\n"
     ]
    }
   ],
   "source": [
    "# 变量相同则地址相同，小一点的数字在python中已经分配好的内存（-5~256），解释器对他们单独处理，\n",
    "# 内存不因某次运行再发生变化\n",
    "\n",
    "a = 1\n",
    "b = 1232112312\n",
    "c = 1\n",
    "d = 1232112312\n",
    "aa = a is b\n",
    "bb = a is c\n",
    "cc = b is d\n",
    "print(aa)\n",
    "print(bb) \n",
    "print(cc)"
   ]
  },
  {
   "cell_type": "markdown",
   "metadata": {},
   "source": [
    "# 运算符的优先级\n",
    "### 有小括号先算小括号\n",
    "- 指数运算符 > 位运算符 > 乘除取模取整 > 加减 > 比较 > 等于 > 身份 > 成员 > 逻辑"
   ]
  },
  {
   "cell_type": "code",
   "execution_count": null,
   "metadata": {
    "collapsed": true
   },
   "outputs": [],
   "source": []
  }
 ],
 "metadata": {
  "kernelspec": {
   "display_name": "Python 3",
   "language": "python",
   "name": "python3"
  },
  "language_info": {
   "codemirror_mode": {
    "name": "ipython",
    "version": 3
   },
   "file_extension": ".py",
   "mimetype": "text/x-python",
   "name": "python",
   "nbconvert_exporter": "python",
   "pygments_lexer": "ipython3",
   "version": "3.6.3"
  }
 },
 "nbformat": 4,
 "nbformat_minor": 2
}
