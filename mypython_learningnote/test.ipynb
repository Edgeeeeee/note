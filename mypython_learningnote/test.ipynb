{
 "cells": [
  {
   "cell_type": "code",
   "execution_count": 8,
   "metadata": {},
   "outputs": [
    {
     "name": "stdout",
     "output_type": "stream",
     "text": [
      "1 10\n",
      "2 20\n",
      "3 30\n"
     ]
    }
   ],
   "source": [
    "a = {'1':'10','2':'20','3':'30'}\n",
    "for k,v in a.items():\n",
    "    print(k,v)"
   ]
  },
  {
   "cell_type": "code",
   "execution_count": 13,
   "metadata": {},
   "outputs": [
    {
     "name": "stdout",
     "output_type": "stream",
     "text": [
      "Help on method_descriptor:\n",
      "\n",
      "replace(self, old, new, count=-1, /)\n",
      "    Return a copy with all occurrences of substring old replaced by new.\n",
      "    \n",
      "      count\n",
      "        Maximum number of occurrences to replace.\n",
      "        -1 (the default value) means replace all occurrences.\n",
      "    \n",
      "    If the optional argument count is given, only the first count occurrences are\n",
      "    replaced.\n",
      "\n"
     ]
    }
   ],
   "source": [
    "help(str.replace)"
   ]
  },
  {
   "cell_type": "code",
   "execution_count": 6,
   "metadata": {},
   "outputs": [
    {
     "name": "stdout",
     "output_type": "stream",
     "text": [
      "\n",
      "C:\\Users\\qaz\\mypython_learningnote\n",
      "C:\\Users\\qaz\\Anaconda3\\python37.zip\n",
      "C:\\Users\\qaz\\Anaconda3\\DLLs\n",
      "C:\\Users\\qaz\\Anaconda3\\lib\n",
      "C:\\Users\\qaz\\Anaconda3\n",
      "C:\\Users\\qaz\\AppData\\Roaming\\Python\\Python37\\site-packages\n",
      "C:\\Users\\qaz\\Anaconda3\\lib\\site-packages\n",
      "C:\\Users\\qaz\\Anaconda3\\lib\\site-packages\\win32\n",
      "C:\\Users\\qaz\\Anaconda3\\lib\\site-packages\\win32\\lib\n",
      "C:\\Users\\qaz\\Anaconda3\\lib\\site-packages\\Pythonwin\n",
      "C:\\Users\\qaz\\Anaconda3\\lib\\site-packages\\IPython\\extensions\n",
      "C:\\Users\\qaz\\.ipython\n"
     ]
    }
   ],
   "source": [
    "import sys\n",
    "for i in sys.path:\n",
    "    print(i)"
   ]
  }
 ],
 "metadata": {
  "kernelspec": {
   "display_name": "Python 3",
   "language": "python",
   "name": "python3"
  },
  "language_info": {
   "codemirror_mode": {
    "name": "ipython",
    "version": 3
   },
   "file_extension": ".py",
   "mimetype": "text/x-python",
   "name": "python",
   "nbconvert_exporter": "python",
   "pygments_lexer": "ipython3",
   "version": "3.7.0"
  }
 },
 "nbformat": 4,
 "nbformat_minor": 2
}
