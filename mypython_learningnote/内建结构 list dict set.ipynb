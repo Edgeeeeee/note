{
 "cells": [
  {
   "cell_type": "markdown",
   "metadata": {},
   "source": [
    "# 汉诺塔问题\n",
    "- 规则\n",
    "    - 每次只移动一个盘子\n",
    "    - 任何时候小盘子在大盘子上面\n",
    "- 方法\n",
    "- n = 1：直接把a上的盘子移动到c上 a -> c\n",
    "- n = 2：\n",
    "    - a -> b\n",
    "    - a -> c \n",
    "    - b -> c\n",
    "- n = 3\n",
    "    - 把a上的盘子通过c移动到b上去\n",
    "    - 把a上剩下的一个大盘子移动到c上去\n",
    "    - 把b上的两个盘子借助a移动到c上去，调用递归\n",
    "- n = n\n",
    "    - 把a上的n-1个盘子借助c移动到b上去，调用递归\n",
    "    - 把a上最大的盘子，也是唯一一个，移动到c上，a -> c\n",
    "    - 把b上n-1上个盘子，借助于a，移动到c上，调用递归"
   ]
  },
  {
   "cell_type": "code",
   "execution_count": 23,
   "metadata": {},
   "outputs": [
    {
     "name": "stdout",
     "output_type": "stream",
     "text": [
      "a ---> c\n",
      "a ---> b\n",
      "c ---> b\n",
      "a ---> c\n",
      "b ---> a\n",
      "b ---> c\n",
      "a ---> c\n"
     ]
    }
   ],
   "source": [
    "def hano(n,a,b,c):\n",
    "    '''\n",
    "    汉诺塔的递归实现\n",
    "    n：代表几个盘子\n",
    "    a：代表第一个盘子\n",
    "    b：代表第二个盘子\n",
    "    c：代表第三个盘子\n",
    "    \n",
    "    '''\n",
    "    if n == 1:\n",
    "        print(a,\"--->\",c)\n",
    "    \n",
    "    if n == 2:\n",
    "        print(a,\"--->\",b)\n",
    "        print(a,\"--->\",c)\n",
    "        print(b,\"--->\",c)\n",
    "    \n",
    "    else:\n",
    "        # 把n-1个盘子从a 借助c 移到b\n",
    "        hano(n-1,a,c,b)\n",
    "        #把a上最大的盘子，也是唯一一个，移动到c上，a -> c\n",
    "        print(a,\"--->\",c)\n",
    "        hano(n-1,b,a,c)\n",
    "    \n",
    "    \n",
    "hano(3,'a','b','c')"
   ]
  },
  {
   "cell_type": "markdown",
   "metadata": {},
   "source": [
    "# List(列表)\n",
    "- del：删除命令\n",
    "- 列表相加 “+” 直接相加\n",
    "- 列表和一个整数相乘\n",
    "- 列表的遍历 \n",
    "    - for循环遍历 in后面的对象必须是可以迭代的，只要可以迭代就i可以放在in后面\n",
    "    - while循环，不推荐 麻烦  "
   ]
  },
  {
   "cell_type": "code",
   "execution_count": 35,
   "metadata": {},
   "outputs": [
    {
     "name": "stdout",
     "output_type": "stream",
     "text": [
      "2626609703432\n",
      "[1, 2, 3, 4, 5, 6, 7]\n",
      "2626609703432\n",
      "[1, 2, 3, 5, 6, 7]\n",
      "[1, 2, 3, 5, 6, 7, 1, 2, 3, 5, 6, 7, 1, 2, 3, 5, 6, 7, 1, 2, 3, 5, 6, 7, 1, 2, 3, 5, 6, 7]\n",
      "[1, 2, 3, 5, 6, 7]\n"
     ]
    }
   ],
   "source": [
    "# del删除命令\n",
    "#如果id相同则为原地删除\n",
    "\n",
    "list1 = [1,2,3,4,5,6,7] #不适用list关键字作为名字\n",
    "print(id(list1))\n",
    "print(list1)\n",
    "del(list1[3])\n",
    "print(id(list1))\n",
    "print(list1)\n",
    "\n",
    "print(list1 * 5) #不是原地修改\n",
    "print(list1)\n",
    "del list1\n",
    "#print(list1)"
   ]
  },
  {
   "cell_type": "markdown",
   "metadata": {},
   "source": [
    "### 双层列表循环"
   ]
  },
  {
   "cell_type": "code",
   "execution_count": 41,
   "metadata": {},
   "outputs": [
    {
     "name": "stdout",
     "output_type": "stream",
     "text": [
      "one --- 1 --- 2\n",
      "two --- 2 --- 3\n",
      "three --- 3 --- 4\n"
     ]
    }
   ],
   "source": [
    "# n重列表循环(此处为3)  多用二重\n",
    "# a为嵌套列表\n",
    "a = [[\"one\",1,2],[\"two\",2,3],[\"three\",3,4]]\n",
    "for k,v,l in a:\n",
    "    print(k,\"---\",v,\"---\",l)"
   ]
  },
  {
   "cell_type": "markdown",
   "metadata": {},
   "source": [
    "## 列表内涵：list content\n",
    "- 通过简单方法创作列表"
   ]
  },
  {
   "cell_type": "code",
   "execution_count": 42,
   "metadata": {},
   "outputs": [
    {
     "name": "stdout",
     "output_type": "stream",
     "text": [
      "['a', 'b', 'c']\n"
     ]
    }
   ],
   "source": [
    "# for 创建\n",
    "a = ['a','b','c']\n",
    "#用list a 创建一个 list b\n",
    "# 下面代码的含义是，对于所有a中的元素，逐个放入新列表中\n",
    "b = [i for i in a]\n",
    "print(b)"
   ]
  },
  {
   "cell_type": "code",
   "execution_count": 44,
   "metadata": {},
   "outputs": [
    {
     "name": "stdout",
     "output_type": "stream",
     "text": [
      "[10, 20, 30, 40, 50]\n"
     ]
    }
   ],
   "source": [
    "# 对a中所有元素乘以10，生成一个新list\n",
    "a = [1,2,3,4,5]\n",
    "b = [i*10 for i in a]\n",
    "print(b)"
   ]
  },
  {
   "cell_type": "code",
   "execution_count": 46,
   "metadata": {
    "scrolled": true
   },
   "outputs": [
    {
     "name": "stdout",
     "output_type": "stream",
     "text": [
      "[2, 4, 6, 8, 10, 12, 14, 16, 18, 20, 22, 24, 26, 28, 30, 32]\n"
     ]
    }
   ],
   "source": [
    "# 可以过滤原来list列表里的内容放入新的列表\n",
    "# 例如 去除所有的偶数\n",
    "a = [x for x in range(1,34)]\n",
    "# 把a中所有偶数生成一个新列表b\n",
    "b = [m for m in a if m % 2 == 0]\n",
    "print(b)"
   ]
  },
  {
   "cell_type": "code",
   "execution_count": 57,
   "metadata": {},
   "outputs": [
    {
     "name": "stdout",
     "output_type": "stream",
     "text": [
      "[1, 2, 3, 4]\n",
      "[100, 200, 300]\n",
      "[101, 102, 103, 104, 201, 202, 203, 204, 301, 302, 303, 304]\n",
      "**************************************************\n",
      "[101, 102, 103, 104, 201, 202, 203, 204, 301]\n"
     ]
    }
   ],
   "source": [
    "#列表生成式可以嵌套\n",
    "# 由两个列表a，b\n",
    "a = [i for i in range(1,5)] #生成list a\n",
    "print(a)\n",
    "b = [i for i in range(100,400) if i % 100 == 0]\n",
    "print(b)\n",
    "# 列表嵌套,此时等于两个循环嵌套，就是循环的简写，注意那个套着哪个\n",
    "c = [ m+n for n in b for m in a]\n",
    "print(c)\n",
    "print(\"*\"*50)\n",
    "#也可以使用if\n",
    "c = [ m+n for n in b for m in a if m+n <= 301]  \n",
    "print(c)"
   ]
  },
  {
   "cell_type": "markdown",
   "metadata": {},
   "source": [
    "## 关于列表的常用函数"
   ]
  },
  {
   "cell_type": "code",
   "execution_count": 60,
   "metadata": {},
   "outputs": [
    {
     "name": "stdout",
     "output_type": "stream",
     "text": [
      "99\n",
      "@@@@@@@@@@@@@@@@@@@@@@@@@@@@@@@@@@@@@@@@@@@@@@@@@@\n",
      "\n",
      "\n",
      "@@@@@@@@@@@@@@@@@@@@@@@@@@@@@@@@@@@@@@@@@@@@@@@@@@\n",
      "99\n",
      "xmn\n"
     ]
    }
   ],
   "source": [
    "# len(list): 求list长度\n",
    "\n",
    "a = [i for i in range(1,100)]\n",
    "print(len(a))\n",
    "print(\"@\"*50)\n",
    "print(\"\\n\") #输出两个换行符\n",
    "print(\"@\"*50)\n",
    "print(max(a))\n",
    "b = ['xmn','xmj','wy']\n",
    "print(max(b))"
   ]
  },
  {
   "cell_type": "code",
   "execution_count": 62,
   "metadata": {},
   "outputs": [
    {
     "name": "stdout",
     "output_type": "stream",
     "text": [
      "<class 'list'>\n",
      "['i', ' ', 'l', 'o', 'v', 'e', ' ', 'p', 'y', 't', 'h', 'o', 'n']\n"
     ]
    }
   ],
   "source": [
    "# list（a） 将其他格式（可迭代的）的数据转化成list\n",
    "s = \"i love python\"\n",
    "print(type(list(s)))\n",
    "print(list(s))"
   ]
  },
  {
   "cell_type": "code",
   "execution_count": 63,
   "metadata": {},
   "outputs": [
    {
     "name": "stdout",
     "output_type": "stream",
     "text": [
      "[1, 2, 3, 4]\n",
      "[1, 2, 3, 4, 100]\n"
     ]
    }
   ],
   "source": [
    "# l.append() 插入一个内容\n",
    "a = [i for i in range(1,5)]\n",
    "print(a)\n",
    "a.append(100)\n",
    "print(a)"
   ]
  },
  {
   "cell_type": "code",
   "execution_count": 71,
   "metadata": {},
   "outputs": [
    {
     "name": "stdout",
     "output_type": "stream",
     "text": [
      "[1, 2]\n",
      "2626622633096\n",
      "[1, 2, 300]\n",
      "2626622633096\n"
     ]
    }
   ],
   "source": [
    "# l.insert(index,data) 在index前面插入data，第一个为0，用的比较少。\n",
    "print(a)\n",
    "print(id(a))\n",
    "a.insert(3,300)\n",
    "print(a)\n",
    "print(id(a))"
   ]
  },
  {
   "cell_type": "code",
   "execution_count": 72,
   "metadata": {},
   "outputs": [
    {
     "name": "stdout",
     "output_type": "stream",
     "text": [
      "[1, 2, 300]\n",
      "300\n",
      "[1, 2]\n"
     ]
    }
   ],
   "source": [
    "# 删除\n",
    "# del 删除\n",
    "# pop,从队尾拿出一个元素，把最后一个元素拿出来,\n",
    "# 大量使用，一般带有赋值操作\n",
    "print(a)\n",
    "last_ele = a.pop()\n",
    "print(last_ele)\n",
    "print(a)"
   ]
  },
  {
   "cell_type": "code",
   "execution_count": 70,
   "metadata": {},
   "outputs": [
    {
     "name": "stdout",
     "output_type": "stream",
     "text": [
      "[1, 2, 3]\n",
      "2626622633096\n",
      "[1, 2]\n",
      "2626622633096\n"
     ]
    }
   ],
   "source": [
    "# remove ：在列表中删除指定的元素\n",
    "# remove删除值，如果值不再list中会报错\n",
    "# 即 删除list指定的操作应使用try。。。excepty语句，或者先进行判断\n",
    "# if x in a:\n",
    "#     list.remove(x)\n",
    "print(a)\n",
    "print(id(a))\n",
    "a.remove(3)\n",
    "print(a)\n",
    "print(id(a))\n",
    "# id一样 是一个对象\n"
   ]
  },
  {
   "cell_type": "code",
   "execution_count": 74,
   "metadata": {},
   "outputs": [
    {
     "name": "stdout",
     "output_type": "stream",
     "text": [
      "[1, 2]\n",
      "2626622633096\n",
      "[]\n",
      "2626622633096\n"
     ]
    }
   ],
   "source": [
    "# clear清空 不常用\n",
    "print(a)\n",
    "print(id(a))\n",
    "a.clear()\n",
    "print(a)\n",
    "print(id(a))\n",
    "\n",
    "# 如果不需要保持地址不变，则可以使用以下方式\n",
    "# a = []\n",
    "# a = list()  这两种都是新列表，原来的还在，只是不使它了"
   ]
  },
  {
   "cell_type": "code",
   "execution_count": 75,
   "metadata": {},
   "outputs": [
    {
     "name": "stdout",
     "output_type": "stream",
     "text": [
      "[1, 2, 3, 4, 5]\n",
      "2626622633608\n",
      "[5, 4, 3, 2, 1]\n",
      "2626622633608\n"
     ]
    }
   ],
   "source": [
    "# reverse：反转列表,原地反转\n",
    "a = [1,2,3,4,5]\n",
    "print(a)\n",
    "print(id(a))\n",
    "\n",
    "a.reverse()\n",
    "print(a)\n",
    "print(id(a))"
   ]
  },
  {
   "cell_type": "code",
   "execution_count": 78,
   "metadata": {},
   "outputs": [
    {
     "name": "stdout",
     "output_type": "stream",
     "text": [
      "[1, 2, 3, 4, 5]\n",
      "2626619397000\n",
      "[1, 2, 3, 4, 5, 1, 2, 3, 4, 5, 6]\n",
      "2626619397000\n"
     ]
    }
   ],
   "source": [
    "# extend：扩展列表，把一个直接拼接另一个上去,原地拼接\n",
    "a = [1,2,3,4,5]\n",
    "b = [1,2,3,4,5,6]\n",
    "print(a)\n",
    "print(id(a))\n",
    "a.extend(b)\n",
    "print(a)\n",
    "print(id(a))"
   ]
  },
  {
   "cell_type": "code",
   "execution_count": 86,
   "metadata": {},
   "outputs": [
    {
     "name": "stdout",
     "output_type": "stream",
     "text": [
      "[1, 5, 5, 5, 5, 5, 5, 2, 3, 4, 5, 1, 2, 3, 4, 5, 6, 5, 5, 5, 5, 5, 5]\n",
      "2626619397000\n",
      "16\n"
     ]
    }
   ],
   "source": [
    "# count：查找制定列表中指定元素的个数\n",
    "print(a)\n",
    "print(id(a))\n",
    "a.append(5)\n",
    "a.insert(1,5)\n",
    "cou_8 = a.count(5)\n",
    "print(cou_8)"
   ]
  },
  {
   "cell_type": "code",
   "execution_count": 90,
   "metadata": {},
   "outputs": [
    {
     "name": "stdout",
     "output_type": "stream",
     "text": [
      "[1, 2, 3, 4, 5, 6]\n",
      "[1, 2, 3, 123, 5, 6]\n",
      "[1, 2, 3, 123, 5, 6]\n",
      "\n",
      "[1, 2, 3, 123, 5, 6]\n",
      "2626619396872\n",
      "[1, 2, 3, 123, 5, 6]\n",
      "2626628526152\n"
     ]
    }
   ],
   "source": [
    "# copy： 拷贝函数  此函数式浅拷贝\n",
    "a = [1,2,3,4,5,6]\n",
    "print(a)\n",
    "b = a\n",
    "b[3] = 123\n",
    "print(a)\n",
    "print(b)\n",
    "print()\n",
    "# 为了解决以上问题，list赋值采用copy函数\n",
    "c = a.copy()\n",
    "print(a)\n",
    "print(id(a))\n",
    "print(c)\n",
    "print(id(c))"
   ]
  },
  {
   "cell_type": "code",
   "execution_count": 91,
   "metadata": {},
   "outputs": [
    {
     "name": "stdout",
     "output_type": "stream",
     "text": [
      "2626622632392\n",
      "2626609673288\n",
      "2626628411976\n",
      "2626628411976\n"
     ]
    }
   ],
   "source": [
    "# 深拷贝和浅拷贝的区别\n",
    "a = [1,2,3,[10,20,30]]\n",
    "b = a.copy()\n",
    "print(id(a))\n",
    "print(id(b))\n",
    "print(id(a[3]))\n",
    "print(id(b[3])) #只拷贝了第一层，copy属于浅拷贝\n",
    "                #修改最内层数据会使所有变量被影响\n"
   ]
  },
  {
   "cell_type": "markdown",
   "metadata": {},
   "source": [
    "# 元祖-tuple\n",
    "- 可以把元祖看成一个特殊的列表\n",
    "## 元祖创建"
   ]
  },
  {
   "cell_type": "code",
   "execution_count": 92,
   "metadata": {},
   "outputs": [
    {
     "name": "stdout",
     "output_type": "stream",
     "text": [
      "<class 'tuple'>\n"
     ]
    }
   ],
   "source": [
    "# 创建空元组\n",
    "t = ()\n",
    "print(type(t))"
   ]
  },
  {
   "cell_type": "code",
   "execution_count": 93,
   "metadata": {},
   "outputs": [
    {
     "name": "stdout",
     "output_type": "stream",
     "text": [
      "<class 'int'>\n",
      "<class 'tuple'>\n",
      "<class 'tuple'>\n"
     ]
    }
   ],
   "source": [
    "# 创建只有一个元素的元组\n",
    "t = (1)\n",
    "print(type(t))\n",
    "t = (1,)\n",
    "print(type(t))\n",
    "t = 1,\n",
    "print(type(t))"
   ]
  },
  {
   "cell_type": "code",
   "execution_count": 94,
   "metadata": {},
   "outputs": [
    {
     "name": "stdout",
     "output_type": "stream",
     "text": [
      "(1, 2, 3, 4, 5, 6)\n"
     ]
    }
   ],
   "source": [
    "# 使用其他元素创建\n",
    "l = [1,2,3,4,5,6]\n",
    "t = tuple(l)\n",
    "print(t)"
   ]
  },
  {
   "cell_type": "markdown",
   "metadata": {},
   "source": [
    "## 元组的特性\n",
    "- 是序列表，有序\n",
    "- 元组值可以访问，不能修改，不能修改，不能修改\n",
    "- 元祖可以是任意类型\n",
    "- 总之，list所有特性，除了可修改外，元组都具有\n",
    "- list具有的操作，比如索引，分片，序列相加，相乘，等等一模一样"
   ]
  },
  {
   "cell_type": "code",
   "execution_count": 95,
   "metadata": {},
   "outputs": [
    {
     "name": "stdout",
     "output_type": "stream",
     "text": [
      "3\n"
     ]
    }
   ],
   "source": [
    "#索引操作\n",
    "t = (1,2,3,4,5)\n",
    "print(t[2])"
   ]
  },
  {
   "cell_type": "code",
   "execution_count": 96,
   "metadata": {},
   "outputs": [
    {
     "ename": "IndexError",
     "evalue": "tuple index out of range",
     "output_type": "error",
     "traceback": [
      "\u001b[1;31m---------------------------------------------------------------------------\u001b[0m",
      "\u001b[1;31mIndexError\u001b[0m                                Traceback (most recent call last)",
      "\u001b[1;32m<ipython-input-96-a7f4fce0da2c>\u001b[0m in \u001b[0;36m<module>\u001b[1;34m()\u001b[0m\n\u001b[0;32m      1\u001b[0m \u001b[1;31m# 超标错误\u001b[0m\u001b[1;33m\u001b[0m\u001b[1;33m\u001b[0m\u001b[0m\n\u001b[1;32m----> 2\u001b[1;33m \u001b[0mprint\u001b[0m\u001b[1;33m(\u001b[0m\u001b[0mt\u001b[0m\u001b[1;33m[\u001b[0m\u001b[1;36m10\u001b[0m\u001b[1;33m]\u001b[0m\u001b[1;33m)\u001b[0m\u001b[1;33m\u001b[0m\u001b[0m\n\u001b[0m",
      "\u001b[1;31mIndexError\u001b[0m: tuple index out of range"
     ]
    }
   ],
   "source": [
    "# 超标错误\n",
    "print(t[10])"
   ]
  },
  {
   "cell_type": "code",
   "execution_count": 97,
   "metadata": {},
   "outputs": [
    {
     "name": "stdout",
     "output_type": "stream",
     "text": [
      "2626619251232\n",
      "2626625865912\n"
     ]
    }
   ],
   "source": [
    "t = (1,2,3,4,5,6,7,8,9)\n",
    "t1 = t[1::2]\n",
    "print(id(t))\n",
    "print(id(t1))\n",
    "t2 = t[1:100]  #可以超标\n"
   ]
  },
  {
   "cell_type": "code",
   "execution_count": 98,
   "metadata": {},
   "outputs": [
    {
     "name": "stdout",
     "output_type": "stream",
     "text": [
      "(1, 2, 3)\n",
      "2626619471264\n",
      "(1, 2, 3, 3, 4, 5)\n",
      "2626624740808\n"
     ]
    }
   ],
   "source": [
    "# 序列相加\n",
    "t1 = (1,2,3)\n",
    "t2 = (3,4,5)\n",
    "\n",
    "print(t1)\n",
    "print(id(t1))\n",
    "\n",
    "t1 = t1 + t2\n",
    "print(t1)\n",
    "print(id(t1))\n",
    "\n",
    "# 其实以上操作是把t1指向其他元组，相乘同理，都是新创建了个对象\n",
    "# tuple不可修改指的是内容的不可修改，修改内容会导致报错"
   ]
  },
  {
   "cell_type": "code",
   "execution_count": 99,
   "metadata": {},
   "outputs": [
    {
     "name": "stdout",
     "output_type": "stream",
     "text": [
      "yes\n"
     ]
    }
   ],
   "source": [
    "#成员检测\n",
    "t = (1,2,3,4)\n",
    "if 2 in t:\n",
    "    print(\"yes\")\n",
    "else:\n",
    "    print(\"NO\")"
   ]
  },
  {
   "cell_type": "code",
   "execution_count": 101,
   "metadata": {},
   "outputs": [
    {
     "name": "stdout",
     "output_type": "stream",
     "text": [
      "1 2 3 4 python "
     ]
    }
   ],
   "source": [
    "# 元组遍历\n",
    "# 单元组遍历\n",
    "t = (1,2,3,4,\"python\")\n",
    "for i in t:\n",
    "    print(i,end = \" \")\n"
   ]
  },
  {
   "cell_type": "code",
   "execution_count": 102,
   "metadata": {},
   "outputs": [
    {
     "name": "stdout",
     "output_type": "stream",
     "text": [
      "(1, 2, 3)\n",
      "(4, 5, 6)\n",
      "('i', 'love', 'python')\n",
      "1 -- 2 -- 3\n",
      "4 -- 5 -- 6\n",
      "i -- love -- python\n"
     ]
    }
   ],
   "source": [
    "# 双蹭元组的遍历\n",
    "t =((1,2,3),(4,5,6),(\"i\",\"love\",\"python\"))\n",
    "for i in t:\n",
    "    print(i)\n",
    "    \n",
    "for k,m,n in t:\n",
    "    print(k,\"--\",m,\"--\",n)"
   ]
  },
  {
   "cell_type": "code",
   "execution_count": 1,
   "metadata": {},
   "outputs": [
    {
     "name": "stdout",
     "output_type": "stream",
     "text": [
      "(1, 2, 3)\n",
      "<class 'tuple'>\n",
      "1 2 3\n"
     ]
    }
   ],
   "source": [
    "# 元组的一个小用法\n",
    "t = a,b,c = (1,2,3)\n",
    "print(t)\n",
    "print(type(t))\n",
    "print(a,b,c)"
   ]
  },
  {
   "cell_type": "markdown",
   "metadata": {},
   "source": [
    "# 关于元组的函数\n",
    "- 看案例\n",
    "- 以下所有函数对于list基本适用"
   ]
  },
  {
   "cell_type": "code",
   "execution_count": 8,
   "metadata": {},
   "outputs": [
    {
     "data": {
      "text/plain": [
       "6"
      ]
     },
     "execution_count": 8,
     "metadata": {},
     "output_type": "execute_result"
    }
   ],
   "source": [
    "# len: 获取元组的长度\n",
    "t = (1,2,3,4,1000,1000)\n",
    "len(t)"
   ]
  },
  {
   "cell_type": "code",
   "execution_count": 10,
   "metadata": {},
   "outputs": [
    {
     "name": "stdout",
     "output_type": "stream",
     "text": [
      "1000\n",
      "1\n",
      "2505700624144\n",
      "2505700624144\n",
      "2505700623984\n"
     ]
    }
   ],
   "source": [
    "# max(),min() :最大值最下值\n",
    "print(max(t))\n",
    "print(min(t))\n",
    "print(id(max(t))) #如果有多个最大值，则返回最前面的\n",
    "print(id(t[4]))\n",
    "print(id(t[5]))"
   ]
  },
  {
   "cell_type": "code",
   "execution_count": 12,
   "metadata": {},
   "outputs": [
    {
     "name": "stdout",
     "output_type": "stream",
     "text": [
      "(1, 2, 3, 4, 5)\n",
      "()\n"
     ]
    }
   ],
   "source": [
    "# tuple：转化或创建元组\n",
    "l = [1,2,3,4,5]\n",
    "t = tuple(l)\n",
    "print(t)\n",
    "t = tuple()\n",
    "print(t)"
   ]
  },
  {
   "cell_type": "markdown",
   "metadata": {},
   "source": [
    "# 元组的函数\n",
    "- 基本和list通用"
   ]
  },
  {
   "cell_type": "code",
   "execution_count": 13,
   "metadata": {},
   "outputs": [
    {
     "name": "stdout",
     "output_type": "stream",
     "text": [
      "3\n"
     ]
    }
   ],
   "source": [
    "# count：计算指定元组中指定数据出现的次数\n",
    "t = (1,23,4,4,5,6,6,6,64,7,)\n",
    "print(t.count(6))\n",
    "\n",
    "\n",
    "#index 求指定元素在元组中的索引位置\n",
    "# 如果有多个 则返回第一个"
   ]
  },
  {
   "cell_type": "markdown",
   "metadata": {},
   "source": [
    "# 元组变量交换法\n",
    "- 两个变量交换值"
   ]
  },
  {
   "cell_type": "code",
   "execution_count": 17,
   "metadata": {},
   "outputs": [
    {
     "name": "stdout",
     "output_type": "stream",
     "text": [
      "1\n",
      "3\n",
      "\n",
      "3\n",
      "1\n",
      "\n",
      "1\n",
      "3\n"
     ]
    }
   ],
   "source": [
    "# 两个变量交换值\n",
    "a = 1\n",
    "b = 3\n",
    "\n",
    "print(a)\n",
    "print(b)\n",
    "print()\n",
    "# java 程序员一般这么写\n",
    "c = a\n",
    "a = b\n",
    "b = c\n",
    "print(a)\n",
    "print(b)\n",
    "print()\n",
    "\n",
    "\n",
    "#python 用法\n",
    "a,b = b,a\n",
    "print(a)\n",
    "print(b)"
   ]
  },
  {
   "cell_type": "markdown",
   "metadata": {},
   "source": [
    "# 集合-set\n",
    "- 集合是高中数学的一个概念\n",
    "- 一堆确定的**无序的唯一的**数据，几何中每一个数据称为一个元素\n",
    "- \n"
   ]
  },
  {
   "cell_type": "code",
   "execution_count": 18,
   "metadata": {},
   "outputs": [
    {
     "name": "stdout",
     "output_type": "stream",
     "text": [
      "<class 'set'>\n",
      "set()\n"
     ]
    }
   ],
   "source": [
    "# 集合的定义\n",
    "s = set()\n",
    "print(type(s))\n",
    "print(s)"
   ]
  },
  {
   "cell_type": "code",
   "execution_count": 21,
   "metadata": {},
   "outputs": [
    {
     "name": "stdout",
     "output_type": "stream",
     "text": [
      "<class 'dict'>\n",
      "{}\n",
      "<class 'set'>\n",
      "{1, 2, 3, 4, 5}\n"
     ]
    }
   ],
   "source": [
    "#如果只用一个大括号定义的，只能定义一个dict\n",
    "d = {}\n",
    "print(type(d))\n",
    "print(d)\n",
    "\n",
    "s = {1,2,3,4,5}# 大括号只能定义非空的集合\n",
    "print(type(s))\n",
    "print(s)"
   ]
  },
  {
   "cell_type": "markdown",
   "metadata": {},
   "source": [
    "# 集合的特征\n",
    "- 集合内数据无序，即无法使用索引和分片\n",
    "- 集合内数据具有唯一性，可以用来排除重复数据\n",
    "- 集合内的数据，str,int,float,tuple,冰冻集合等，即内部只能放置可哈希数据\n",
    "- 可哈希的数据类型，即不可改变的数据结构（字符串str，元组tuple，对象集objects）"
   ]
  },
  {
   "cell_type": "code",
   "execution_count": 22,
   "metadata": {},
   "outputs": [
    {
     "name": "stdout",
     "output_type": "stream",
     "text": [
      "{1, 2, 3, 33, 'kkk', 'python'}\n"
     ]
    },
    {
     "data": {
      "text/plain": [
       "True"
      ]
     },
     "execution_count": 22,
     "metadata": {},
     "output_type": "execute_result"
    }
   ],
   "source": [
    "# 集合序列操作\n",
    "# in , not in\n",
    "s = { 1,2,3,'kkk',33,'python'}  #输出是无序的\n",
    "print(s)\n",
    "'sss' not in s\n"
   ]
  },
  {
   "cell_type": "markdown",
   "metadata": {},
   "source": [
    "# 集合的遍历操作"
   ]
  },
  {
   "cell_type": "code",
   "execution_count": 23,
   "metadata": {},
   "outputs": [
    {
     "name": "stdout",
     "output_type": "stream",
     "text": [
      "1 2 3 33 kkk python "
     ]
    }
   ],
   "source": [
    "# for 循环\n",
    "s = { 1,2,3,'kkk',33,'python'} \n",
    "for i in s:\n",
    "    print(i,end = ' ')"
   ]
  },
  {
   "cell_type": "code",
   "execution_count": 24,
   "metadata": {},
   "outputs": [
    {
     "name": "stdout",
     "output_type": "stream",
     "text": [
      "4 -- 5 --- 6\n",
      "a -- b --- c\n",
      "1 -- 2 --- 3\n",
      "\n",
      "(4, 5, 6)\n",
      "('a', 'b', 'c')\n",
      "(1, 2, 3)\n"
     ]
    }
   ],
   "source": [
    "# 带有元组的集合遍历\n",
    "s = {(1,2,3),('a','b','c'),(4,5,6)}\n",
    "for k,v,m in s:\n",
    "    print(k,'--',v,'---',m)\n",
    "print()\n",
    "for k in s:\n",
    "    print(k)"
   ]
  },
  {
   "cell_type": "markdown",
   "metadata": {},
   "source": [
    "# 集合的内涵"
   ]
  },
  {
   "cell_type": "code",
   "execution_count": 27,
   "metadata": {},
   "outputs": [
    {
     "name": "stdout",
     "output_type": "stream",
     "text": [
      "{1, 2, 3, 4, 5, 6, 7, 8, 456, 24, 56}\n",
      "2505700976680\n",
      "{1, 2, 3, 4, 5, 6, 7, 8, 456, 24, 56}\n",
      "2505700976232\n"
     ]
    }
   ],
   "source": [
    "# 普通的集合\n",
    "# 一下集合在初始化时过滤掉重复数据\n",
    "s= {1,24,6,7,8,56,456,2,2,5,6,4,4,2,3,4,2,1,1,1,3}\n",
    "print(s)\n",
    "print(id(s))\n",
    "\n",
    "ss = {i for i in s}\n",
    "print(ss)\n",
    "print(id(ss))"
   ]
  },
  {
   "cell_type": "code",
   "execution_count": 29,
   "metadata": {},
   "outputs": [
    {
     "name": "stdout",
     "output_type": "stream",
     "text": [
      "{2, 4, 6, 8, 456, 24, 56}\n"
     ]
    }
   ],
   "source": [
    "# 带条件的级和内涵\n",
    "sss = {i for i in ss if i % 2 == 0}\n",
    "print(sss)"
   ]
  },
  {
   "cell_type": "code",
   "execution_count": 30,
   "metadata": {},
   "outputs": [
    {
     "name": "stdout",
     "output_type": "stream",
     "text": [
      "{'lovelovelovelove', 'lovelove', 'ii', 'pythonpythonpythonpython', 'python', 'pythonpythonpython', 'i', 'pythonpython', 'love', 'iii', 'iiii', 'lovelovelove'}\n"
     ]
    }
   ],
   "source": [
    "#多循环的级和内涵\n",
    "s1 = {1,2,3,4}\n",
    "s2 = {'i','love','python'}\n",
    "s3 = {m*n for m in s2 for n in s1}\n",
    "print(s3)"
   ]
  },
  {
   "cell_type": "code",
   "execution_count": 31,
   "metadata": {},
   "outputs": [
    {
     "name": "stdout",
     "output_type": "stream",
     "text": [
      "{'lovelove', 'ii', 'pythonpython'}\n"
     ]
    }
   ],
   "source": [
    "s1 = {1,2,3,4}\n",
    "s2 = {'i','love','python'}\n",
    "s3 = {m*n for m in s2 for n in s1 if n == 2}\n",
    "print(s3)"
   ]
  },
  {
   "cell_type": "markdown",
   "metadata": {},
   "source": [
    "# 集合函数/关于集合的函数\n"
   ]
  },
  {
   "cell_type": "code",
   "execution_count": 32,
   "metadata": {},
   "outputs": [
    {
     "name": "stdout",
     "output_type": "stream",
     "text": [
      "9\n",
      "455\n",
      "1\n"
     ]
    }
   ],
   "source": [
    "# len， max， min 与其他基本函数一致\n",
    "s = {1,2,3,44,5,7,5,4,2,2,455,43}\n",
    "print(len(s))\n",
    "print(max(s))\n",
    "print(min(s))"
   ]
  },
  {
   "cell_type": "code",
   "execution_count": 33,
   "metadata": {},
   "outputs": [
    {
     "name": "stdout",
     "output_type": "stream",
     "text": [
      "{32, 1, 2, 3, 4, 5, 6, 43}\n"
     ]
    }
   ],
   "source": [
    "# set: 生成一个集合\n",
    "l = [1,2,3,32,4,5,6,43,43,2,2]\n",
    "s = set(l)\n",
    "print(s)"
   ]
  },
  {
   "cell_type": "code",
   "execution_count": 34,
   "metadata": {},
   "outputs": [
    {
     "name": "stdout",
     "output_type": "stream",
     "text": [
      "2505700976680\n",
      "{2, 3, 100}\n",
      "2505700976680\n",
      "set()\n",
      "2505700976680\n"
     ]
    }
   ],
   "source": [
    "# add : 向集合内添加元素，集合没有insert，append 因为集合是无序的\n",
    "s = {2,3}\n",
    "print(id(s))\n",
    "s.add(100)\n",
    "print(s)\n",
    "print(id(s))\n",
    "s.clear()\n",
    "print(s)\n",
    "print(id(s))"
   ]
  },
  {
   "cell_type": "code",
   "execution_count": 36,
   "metadata": {},
   "outputs": [
    {
     "name": "stdout",
     "output_type": "stream",
     "text": [
      "2505700976680\n",
      "{66, 3, 4, 5, 12}\n",
      "2505700976680\n",
      "{66, 4, 5, 12}\n",
      "2505700976680\n",
      "{4, 5, 12}\n",
      "****************************************\n"
     ]
    },
    {
     "ename": "KeyError",
     "evalue": "1000",
     "output_type": "error",
     "traceback": [
      "\u001b[1;31m---------------------------------------------------------------------------\u001b[0m",
      "\u001b[1;31mKeyError\u001b[0m                                  Traceback (most recent call last)",
      "\u001b[1;32m<ipython-input-36-ab87d3d6d871>\u001b[0m in \u001b[0;36m<module>\u001b[1;34m()\u001b[0m\n\u001b[0;32m     14\u001b[0m \u001b[1;33m\u001b[0m\u001b[0m\n\u001b[0;32m     15\u001b[0m \u001b[0ms\u001b[0m\u001b[1;33m.\u001b[0m\u001b[0mdiscard\u001b[0m\u001b[1;33m(\u001b[0m\u001b[1;36m1000\u001b[0m\u001b[1;33m)\u001b[0m\u001b[1;33m\u001b[0m\u001b[0m\n\u001b[1;32m---> 16\u001b[1;33m \u001b[0ms\u001b[0m\u001b[1;33m.\u001b[0m\u001b[0mremove\u001b[0m\u001b[1;33m(\u001b[0m\u001b[1;36m1000\u001b[0m\u001b[1;33m)\u001b[0m\u001b[1;33m\u001b[0m\u001b[0m\n\u001b[0m",
      "\u001b[1;31mKeyError\u001b[0m: 1000"
     ]
    }
   ],
   "source": [
    "# copy: 拷贝\n",
    "# remove: 移除制定的值，直接改变原有的值，如果没有报错\n",
    "# discard: 移除集合中指定的值 ，和remove一样，但是没有不报错\n",
    "s = {12,3,4,5,66,4,3}\n",
    "print(id(s))\n",
    "print(s)\n",
    "s.remove(3)\n",
    "print(id(s))\n",
    "print(s)\n",
    "s.discard(66)\n",
    "print(id(s))\n",
    "print(s)\n",
    "print('*'*40)\n",
    "\n",
    "s.discard(1000)\n",
    "s.remove(1000)"
   ]
  },
  {
   "cell_type": "code",
   "execution_count": 43,
   "metadata": {},
   "outputs": [
    {
     "name": "stdout",
     "output_type": "stream",
     "text": [
      "4454\n",
      "{11, '5', 43, 3666, 52, 22, 666, 444, 222, 31}\n"
     ]
    }
   ],
   "source": [
    " # pop 随机移除一个元素\n",
    "s = {11,222,3666,4454,\"5\",22,31,43,52,666,444}\n",
    "d = s.pop()\n",
    "print(d)\n",
    "print(s)"
   ]
  },
  {
   "cell_type": "code",
   "execution_count": 46,
   "metadata": {},
   "outputs": [
    {
     "name": "stdout",
     "output_type": "stream",
     "text": [
      "{3, 4, 5, 6}\n",
      "{1, 2}\n",
      "{1, 2, 3, 4, 5, 6, 7, 8, 9}\n"
     ]
    }
   ],
   "source": [
    "# 集合的函数\n",
    "# intersection 交集\n",
    "# difference 差集\n",
    "# union 并集\n",
    "# issubset 检查子集\n",
    "# issuperset 检查超集\n",
    "s1 = {1,2,3,4,5,6}\n",
    "s2 = {3,4,5,6,6,7,7,8,9}\n",
    "s_1 = s1.intersection(s2)\n",
    "print(s_1)\n",
    "s_2 = s1.difference(s2)\n",
    "print(s_2)\n",
    "s_3 = s1.union(s2)\n",
    "print(s_3)"
   ]
  },
  {
   "cell_type": "code",
   "execution_count": 47,
   "metadata": {},
   "outputs": [
    {
     "name": "stdout",
     "output_type": "stream",
     "text": [
      "{1, 2}\n"
     ]
    }
   ],
   "source": [
    "# 集合的数学操作\n",
    "s1 = {1,2,3,4,5,6}\n",
    "s2 = {3,4,5,6,6,7,7,8,9}\n",
    "s0 = s1 - s2\n",
    "print(s0)"
   ]
  },
  {
   "cell_type": "markdown",
   "metadata": {},
   "source": [
    "# forzen set:冰冻集合\n",
    "- 冰冻集合就是不可以进行任何修改的集合\n",
    "- 除了修改的特性，其他集合具有的，frozenset都有"
   ]
  },
  {
   "cell_type": "code",
   "execution_count": 48,
   "metadata": {},
   "outputs": [
    {
     "name": "stdout",
     "output_type": "stream",
     "text": [
      "<class 'frozenset'>\n",
      "frozenset()\n"
     ]
    }
   ],
   "source": [
    "# 创建\n",
    "s = frozenset()\n",
    "print(type(s))\n",
    "print(s)"
   ]
  },
  {
   "cell_type": "markdown",
   "metadata": {},
   "source": [
    "# dict字典\n",
    "- 字典是一种组合数据，没有顺序的组合数据，数据以键值对形式出现"
   ]
  },
  {
   "cell_type": "code",
   "execution_count": 53,
   "metadata": {},
   "outputs": [
    {
     "name": "stdout",
     "output_type": "stream",
     "text": [
      "{}\n",
      "{}\n",
      "{'one': 1, 'two': 2, 'three': 3}\n",
      "{'one': 1, 'two': 2, 'three': 3}\n",
      "{'one': 1, 'two': 2, 'three': 3}\n",
      "{'one': 1, 'two': 2, 'three': 3}\n"
     ]
    }
   ],
   "source": [
    "#字典的创建\n",
    "# 选一种用！\n",
    "d = {}\n",
    "print(d)\n",
    "\n",
    "# 创建空字典2\n",
    "d = dict()\n",
    "print(d)\n",
    "\n",
    "#创建有值的字典，没一数据都使用冒号隔开，每一对键值用逗号隔开\n",
    "d = {\"one\":1,\"two\":2,\"three\":3}\n",
    "print(d)\n",
    "\n",
    "#用dict创建有内容字典1\n",
    "d = dict({\"one\":1,\"two\":2,\"three\":3})\n",
    "print(d)\n",
    "\n",
    "#用dict创建有内容字典2\n",
    "d = dict(one=1,two=2,three=3)\n",
    "print(d)\n",
    "\n",
    "# 用元组创建\n",
    "d = dict([(\"one\",1),(\"two\",2),(\"three\",3)])\n",
    "print(d)"
   ]
  },
  {
   "cell_type": "markdown",
   "metadata": {},
   "source": [
    "# 字典的特征\n",
    "- 字典是序列类型，但是是无序数列，所以没有分片和索引\n",
    "- 字典中的数据每个都由键值对组成，即kv对\n",
    "    - key：必须是卡哈希的值，比如int , string , float , tuple 但是list，set，dict不行"
   ]
  },
  {
   "cell_type": "markdown",
   "metadata": {},
   "source": [
    "## 字典常见操作 \n"
   ]
  },
  {
   "cell_type": "code",
   "execution_count": 54,
   "metadata": {},
   "outputs": [
    {
     "name": "stdout",
     "output_type": "stream",
     "text": [
      "1\n",
      "{'one': 'eins', 'two': 2, 'three': 3}\n"
     ]
    }
   ],
   "source": [
    "#访问数据\n",
    "d = {\"one\":1,\"two\":2,\"three\":3}\n",
    "# 注意访问格式\n",
    "# 中括号内是键值\n",
    "print(d[\"one\"])\n",
    "\n",
    "d[\"one\"] = \"eins\"\n",
    "print(d)"
   ]
  },
  {
   "cell_type": "code",
   "execution_count": 55,
   "metadata": {},
   "outputs": [
    {
     "name": "stdout",
     "output_type": "stream",
     "text": [
      "key\n"
     ]
    }
   ],
   "source": [
    "# 成员检测 in not in\n",
    "# 打印结果为查询内容\n",
    "if 2 in d:\n",
    "    print(\"value\")\n",
    "if \"two\" in d:\n",
    "    print(\"key\")\n",
    "if (\"ywo\",2) in d:\n",
    "    print(\"kv\")"
   ]
  },
  {
   "cell_type": "code",
   "execution_count": 56,
   "metadata": {},
   "outputs": [
    {
     "name": "stdout",
     "output_type": "stream",
     "text": [
      "one 1\n",
      "two 2\n",
      "three 3\n"
     ]
    }
   ],
   "source": [
    "# 使用python2 和 3 中区别较大，代码不通用\n",
    "d = {\"one\":1,\"two\":2,\"three\":3}\n",
    "# 使用for循环访问\n",
    "for k in d:\n",
    "    print(k,d[k])"
   ]
  },
  {
   "cell_type": "code",
   "execution_count": 57,
   "metadata": {},
   "outputs": [
    {
     "name": "stdout",
     "output_type": "stream",
     "text": [
      "one 1\n",
      "two 2\n",
      "three 3\n",
      "1\n",
      "2\n",
      "3\n",
      "one --- 1\n",
      "two --- 2\n",
      "three --- 3\n"
     ]
    }
   ],
   "source": [
    "# 上一代码改写\n",
    "d = {\"one\":1,\"two\":2,\"three\":3}\n",
    "#访问健\n",
    "for k in d.keys():\n",
    "    print(k,d[k])\n",
    "\n",
    "#访问值    \n",
    "for v in d.values():\n",
    "    print(v)\n",
    "    \n",
    "# 注意以下特殊用法\n",
    "for k,v in d.items():\n",
    "    print(k,\"---\",v)"
   ]
  },
  {
   "cell_type": "code",
   "execution_count": 61,
   "metadata": {},
   "outputs": [
    {
     "name": "stdout",
     "output_type": "stream",
     "text": [
      "{'one': 1, 'two': 2, 'three': 3}\n",
      "{'two': 2}\n"
     ]
    }
   ],
   "source": [
    "# 字典生成式\n",
    "d = {\"one\":1,\"two\":2,\"three\":3}\n",
    "dd = {k:v for k,v in d.items()} # 此方法是为了加特殊条件\n",
    "print(dd)\n",
    "ddd = {k:v for k,v in d.items() if v % 2 == 0}\n",
    "print(ddd)"
   ]
  },
  {
   "cell_type": "markdown",
   "metadata": {},
   "source": [
    "# 字典相关函数\n"
   ]
  },
  {
   "cell_type": "code",
   "execution_count": 62,
   "metadata": {},
   "outputs": [
    {
     "name": "stdout",
     "output_type": "stream",
     "text": [
      "{'one': 1, 'two': 2, 'three': 3}\n"
     ]
    }
   ],
   "source": [
    "# 通用函数：len,max,min,dict\n",
    "# str(字典)：返回字典的字符串格式\n",
    "d = {\"one\":1,\"two\":2,\"three\":3}\n",
    "print(str(d))"
   ]
  },
  {
   "cell_type": "code",
   "execution_count": 64,
   "metadata": {},
   "outputs": [
    {
     "name": "stdout",
     "output_type": "stream",
     "text": [
      "dict_items([('one', 1), ('two', 2), ('three', 3)])\n",
      "<class 'dict_items'>\n"
     ]
    }
   ],
   "source": [
    "#clear: 清空字典\n",
    "# items：返回字典的健值对组成的元组格式,返回可迭代类型\n",
    "d = {\"one\":1,\"two\":2,\"three\":3}\n",
    "i = d.items()\n",
    "print(i)\n",
    "print(type(i))"
   ]
  },
  {
   "cell_type": "code",
   "execution_count": 65,
   "metadata": {},
   "outputs": [
    {
     "name": "stdout",
     "output_type": "stream",
     "text": [
      "<class 'dict_keys'>\n",
      "dict_keys(['one', 'two', 'three'])\n"
     ]
    }
   ],
   "source": [
    "# keys：返回字典的健组成的一个结构\n",
    "d = {\"one\":1,\"two\":2,\"three\":3}\n",
    "k = d.keys()\n",
    "print(type(k))\n",
    "print(k)"
   ]
  },
  {
   "cell_type": "code",
   "execution_count": 66,
   "metadata": {},
   "outputs": [
    {
     "name": "stdout",
     "output_type": "stream",
     "text": [
      "<class 'dict_values'>\n",
      "dict_values([1, 2, 3])\n"
     ]
    }
   ],
   "source": [
    "# values：返回字典的健组成的一个结构\n",
    "d = {\"one\":1,\"two\":2,\"three\":3}\n",
    "v = d.values()\n",
    "print(type(v))\n",
    "print(v)"
   ]
  },
  {
   "cell_type": "code",
   "execution_count": 71,
   "metadata": {},
   "outputs": [
    {
     "name": "stdout",
     "output_type": "stream",
     "text": [
      "1\n",
      "None\n",
      "1\n",
      "100\n"
     ]
    }
   ],
   "source": [
    "# get: 根据指定键返回相应的值，好处是，可以设置默认值\n",
    "d = {\"one\":1,\"two\":2,\"three\":3}\n",
    "print(d.get(\"one\"))\n",
    "print(d.get(\"onesss\"))\n",
    "print(d[\"one\"]) # 注意！dict中没有对应健值会报错！\n",
    "\n",
    "#get默认值是None，可以设置\n",
    "print(d.get(\"oness\",100))"
   ]
  },
  {
   "cell_type": "code",
   "execution_count": 72,
   "metadata": {},
   "outputs": [
    {
     "name": "stdout",
     "output_type": "stream",
     "text": [
      "{'eins': 'i am sleepy', 'drei': 'i am sleepy', 'zwei': 'i am sleepy'}\n"
     ]
    }
   ],
   "source": [
    "# fromkeys： 使用指定的序列作为健，使用一个值作为所有键的值\n",
    "l = {\"eins\",\"zwei\",\"drei\"}\n",
    "# 注意fornkeys两个参数的类型\n",
    "# 注意fromkeys的调用主体\n",
    "d = dict.fromkeys(l,\"i am sleepy\")\n",
    "print(d)"
   ]
  },
  {
   "cell_type": "code",
   "execution_count": null,
   "metadata": {},
   "outputs": [],
   "source": []
  }
 ],
 "metadata": {
  "kernelspec": {
   "display_name": "Python 3",
   "language": "python",
   "name": "python3"
  },
  "language_info": {
   "codemirror_mode": {
    "name": "ipython",
    "version": 3
   },
   "file_extension": ".py",
   "mimetype": "text/x-python",
   "name": "python",
   "nbconvert_exporter": "python",
   "pygments_lexer": "ipython3",
   "version": "3.7.0"
  }
 },
 "nbformat": 4,
 "nbformat_minor": 2
}
