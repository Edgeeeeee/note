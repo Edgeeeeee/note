{
 "cells": [
  {
   "cell_type": "markdown",
   "metadata": {},
   "source": [
    "# 常用模块\n",
    "- calender\n",
    "- time\n",
    "- datatime\n",
    "- timeit\n",
    "- os\n",
    "- shutil\n",
    "- zip\n",
    "- math\n",
    "- string\n",
    "- 上述所有模块使用理论上都应该先导入，string是特例\n",
    "- calendar，time，datatime的区别参考中文的意思"
   ]
  },
  {
   "cell_type": "markdown",
   "metadata": {},
   "source": [
    "# calendar\n",
    "- 和日历相关的模块"
   ]
  },
  {
   "cell_type": "code",
   "execution_count": 1,
   "metadata": {},
   "outputs": [],
   "source": [
    "# 使用前先导入\n",
    "import calendar"
   ]
  },
  {
   "cell_type": "code",
   "execution_count": 12,
   "metadata": {},
   "outputs": [
    {
     "name": "stdout",
     "output_type": "stream",
     "text": [
      "                                  2019\n",
      "\n",
      "      January                   February                   March\n",
      "Mo Tu We Th Fr Sa Su      Mo Tu We Th Fr Sa Su      Mo Tu We Th Fr Sa Su\n",
      "    1  2  3  4  5  6                   1  2  3                   1  2  3\n",
      " 7  8  9 10 11 12 13       4  5  6  7  8  9 10       4  5  6  7  8  9 10\n",
      "14 15 16 17 18 19 20      11 12 13 14 15 16 17      11 12 13 14 15 16 17\n",
      "21 22 23 24 25 26 27      18 19 20 21 22 23 24      18 19 20 21 22 23 24\n",
      "28 29 30 31               25 26 27 28               25 26 27 28 29 30 31\n",
      "\n",
      "       April                      May                       June\n",
      "Mo Tu We Th Fr Sa Su      Mo Tu We Th Fr Sa Su      Mo Tu We Th Fr Sa Su\n",
      " 1  2  3  4  5  6  7             1  2  3  4  5                      1  2\n",
      " 8  9 10 11 12 13 14       6  7  8  9 10 11 12       3  4  5  6  7  8  9\n",
      "15 16 17 18 19 20 21      13 14 15 16 17 18 19      10 11 12 13 14 15 16\n",
      "22 23 24 25 26 27 28      20 21 22 23 24 25 26      17 18 19 20 21 22 23\n",
      "29 30                     27 28 29 30 31            24 25 26 27 28 29 30\n",
      "\n",
      "        July                     August                  September\n",
      "Mo Tu We Th Fr Sa Su      Mo Tu We Th Fr Sa Su      Mo Tu We Th Fr Sa Su\n",
      " 1  2  3  4  5  6  7                1  2  3  4                         1\n",
      " 8  9 10 11 12 13 14       5  6  7  8  9 10 11       2  3  4  5  6  7  8\n",
      "15 16 17 18 19 20 21      12 13 14 15 16 17 18       9 10 11 12 13 14 15\n",
      "22 23 24 25 26 27 28      19 20 21 22 23 24 25      16 17 18 19 20 21 22\n",
      "29 30 31                  26 27 28 29 30 31         23 24 25 26 27 28 29\n",
      "                                                    30\n",
      "\n",
      "      October                   November                  December\n",
      "Mo Tu We Th Fr Sa Su      Mo Tu We Th Fr Sa Su      Mo Tu We Th Fr Sa Su\n",
      "    1  2  3  4  5  6                   1  2  3                         1\n",
      " 7  8  9 10 11 12 13       4  5  6  7  8  9 10       2  3  4  5  6  7  8\n",
      "14 15 16 17 18 19 20      11 12 13 14 15 16 17       9 10 11 12 13 14 15\n",
      "21 22 23 24 25 26 27      18 19 20 21 22 23 24      16 17 18 19 20 21 22\n",
      "28 29 30 31               25 26 27 28 29 30         23 24 25 26 27 28 29\n",
      "                                                    30 31\n",
      "\n",
      "<class 'str'>\n"
     ]
    }
   ],
   "source": [
    "# calendar: 获取一年的日历字符串\n",
    "# 参数\n",
    "# w = 每个日期之间的间隔字符数    日期间隔\n",
    "# l = 每周所占用的行数            行距\n",
    "# c = 每个月之间的间隔字符数      每个月的块与块之间的间隔\n",
    "cal = calendar.calendar(2019)\n",
    "print(cal)\n",
    "print(type(cal))"
   ]
  },
  {
   "cell_type": "code",
   "execution_count": 84,
   "metadata": {},
   "outputs": [
    {
     "name": "stdout",
     "output_type": "stream",
     "text": [
      "                               2019\n",
      "\n",
      "      January                February                March\n",
      "Mo Tu We Th Fr Sa Su   Mo Tu We Th Fr Sa Su   Mo Tu We Th Fr Sa Su\n",
      "    1  2  3  4  5  6                1  2  3                1  2  3\n",
      " 7  8  9 10 11 12 13    4  5  6  7  8  9 10    4  5  6  7  8  9 10\n",
      "14 15 16 17 18 19 20   11 12 13 14 15 16 17   11 12 13 14 15 16 17\n",
      "21 22 23 24 25 26 27   18 19 20 21 22 23 24   18 19 20 21 22 23 24\n",
      "28 29 30 31            25 26 27 28            25 26 27 28 29 30 31\n",
      "\n",
      "       April                   May                    June\n",
      "Mo Tu We Th Fr Sa Su   Mo Tu We Th Fr Sa Su   Mo Tu We Th Fr Sa Su\n",
      " 1  2  3  4  5  6  7          1  2  3  4  5                   1  2\n",
      " 8  9 10 11 12 13 14    6  7  8  9 10 11 12    3  4  5  6  7  8  9\n",
      "15 16 17 18 19 20 21   13 14 15 16 17 18 19   10 11 12 13 14 15 16\n",
      "22 23 24 25 26 27 28   20 21 22 23 24 25 26   17 18 19 20 21 22 23\n",
      "29 30                  27 28 29 30 31         24 25 26 27 28 29 30\n",
      "\n",
      "        July                  August               September\n",
      "Mo Tu We Th Fr Sa Su   Mo Tu We Th Fr Sa Su   Mo Tu We Th Fr Sa Su\n",
      " 1  2  3  4  5  6  7             1  2  3  4                      1\n",
      " 8  9 10 11 12 13 14    5  6  7  8  9 10 11    2  3  4  5  6  7  8\n",
      "15 16 17 18 19 20 21   12 13 14 15 16 17 18    9 10 11 12 13 14 15\n",
      "22 23 24 25 26 27 28   19 20 21 22 23 24 25   16 17 18 19 20 21 22\n",
      "29 30 31               26 27 28 29 30 31      23 24 25 26 27 28 29\n",
      "                                              30\n",
      "\n",
      "      October                November               December\n",
      "Mo Tu We Th Fr Sa Su   Mo Tu We Th Fr Sa Su   Mo Tu We Th Fr Sa Su\n",
      "    1  2  3  4  5  6                1  2  3                      1\n",
      " 7  8  9 10 11 12 13    4  5  6  7  8  9 10    2  3  4  5  6  7  8\n",
      "14 15 16 17 18 19 20   11 12 13 14 15 16 17    9 10 11 12 13 14 15\n",
      "21 22 23 24 25 26 27   18 19 20 21 22 23 24   16 17 18 19 20 21 22\n",
      "28 29 30 31            25 26 27 28 29 30      23 24 25 26 27 28 29\n",
      "                                              30 31\n",
      "\n"
     ]
    }
   ],
   "source": [
    "cal = calendar.calendar(2019,w = 0,l = 1,c = 3)\n",
    "print(cal)"
   ]
  },
  {
   "cell_type": "code",
   "execution_count": 22,
   "metadata": {},
   "outputs": [
    {
     "data": {
      "text/plain": [
       "True"
      ]
     },
     "execution_count": 22,
     "metadata": {},
     "output_type": "execute_result"
    }
   ],
   "source": [
    "# isleap:判断某一年是否位闰年\n",
    "calendar.isleap(2000)"
   ]
  },
  {
   "cell_type": "code",
   "execution_count": 36,
   "metadata": {},
   "outputs": [
    {
     "name": "stdout",
     "output_type": "stream",
     "text": [
      "Help on function leapdays in module calendar:\n",
      "\n",
      "leapdays(y1, y2)\n",
      "    Return number of leap years in range [y1, y2).\n",
      "    Assume y1 <= y2.\n",
      "\n"
     ]
    },
    {
     "data": {
      "text/plain": [
       "2"
      ]
     },
     "execution_count": 36,
     "metadata": {},
     "output_type": "execute_result"
    }
   ],
   "source": [
    "# leapdays:获取指定年份之间的闰年个数\n",
    "help(calendar.leapdays)\n",
    "calendar.leapdays(2000,2005) # 左闭右开\n"
   ]
  },
  {
   "cell_type": "code",
   "execution_count": 41,
   "metadata": {},
   "outputs": [
    {
     "name": "stdout",
     "output_type": "stream",
     "text": [
      "     April 2019\n",
      "Mo Tu We Th Fr Sa Su\n",
      " 1  2  3  4  5  6  7\n",
      " 8  9 10 11 12 13 14\n",
      "15 16 17 18 19 20 21\n",
      "22 23 24 25 26 27 28\n",
      "29 30\n",
      "\n"
     ]
    }
   ],
   "source": [
    "# month():获取某个月的日历字符串\n",
    "# 格式 :calendar.month(年，月)\n",
    "# 返回值: 月日历的字符串\n",
    "print(calendar.month(2019,4))"
   ]
  },
  {
   "cell_type": "code",
   "execution_count": 49,
   "metadata": {},
   "outputs": [
    {
     "name": "stdout",
     "output_type": "stream",
     "text": [
      "Help on function monthrange in module calendar:\n",
      "\n",
      "monthrange(year, month)\n",
      "    Return weekday (0-6 ~ Mon-Sun) and number of days (28-31) for\n",
      "    year, month.\n",
      "\n",
      "(0, 30)\n",
      "0\n",
      "<class 'int'>\n",
      "30\n"
     ]
    }
   ],
   "source": [
    "# monthrange()获取一个月的周几开始和天数\n",
    "# 格式: calendr.monthrange(年，月)\n",
    "# 回值: 元组(周几开始，总天数)\n",
    "# 注意: 周默认0 - 6 ，表示周一到周天\n",
    "help(calendar.monthrange)\n",
    "# calendar.monthrange(2019,4) # 0表示周一开始，30是指一共有三十天\n",
    "tup = calendar.monthrange(2019,4)\n",
    "print(tup)\n",
    "a,b = calendar.monthrange(2019,4)  # 返回值位元组时，可以用两个变量接收\n",
    "print(a)\n",
    "print(type(a))\n",
    "print(b)"
   ]
  },
  {
   "cell_type": "code",
   "execution_count": 62,
   "metadata": {},
   "outputs": [
    {
     "name": "stdout",
     "output_type": "stream",
     "text": [
      "<class 'list'>\n",
      "[[1, 2, 3, 4, 5, 6, 7], [8, 9, 10, 11, 12, 13, 14], [15, 16, 17, 18, 19, 20, 21], [22, 23, 24, 25, 26, 27, 28], [29, 30, 0, 0, 0, 0, 0]]\n",
      "******************************\n",
      "01  02  03  04  05  06  07  \n",
      "08  09  10  11  12  13  14  \n",
      "15  16  17  18  19  20  21  \n",
      "22  23  24  25  26  27  28  \n",
      "29  30  00  00  00  00  00  \n"
     ]
    }
   ],
   "source": [
    "# monthcalendar() 返回一个月每天的矩阵列表\n",
    "# 格式: calendar.monthcalendar(年，月)\n",
    "# 格式: 二级列表\n",
    "# 注意，矩阵中没有天数用0表示\n",
    "m = calendar.monthcalendar(2019,4)\n",
    "print(type(m))\n",
    "print(m)\n",
    "print('*'*30)\n",
    "for i in m:\n",
    "    for p in i:\n",
    "        print(str(p).zfill(2),end = '  ')\n",
    "    print()"
   ]
  },
  {
   "cell_type": "code",
   "execution_count": 87,
   "metadata": {},
   "outputs": [
    {
     "name": "stdout",
     "output_type": "stream",
     "text": [
      "Help on method pryear in module calendar:\n",
      "\n",
      "pryear(theyear, w=0, l=0, c=6, m=3) method of calendar.TextCalendar instance\n",
      "    Print a year's calendar.\n",
      "\n",
      "                                  2019\n",
      "\n",
      "      January                   February                   March\n",
      "Mo Tu We Th Fr Sa Su      Mo Tu We Th Fr Sa Su      Mo Tu We Th Fr Sa Su\n",
      "    1  2  3  4  5  6                   1  2  3                   1  2  3\n",
      " 7  8  9 10 11 12 13       4  5  6  7  8  9 10       4  5  6  7  8  9 10\n",
      "14 15 16 17 18 19 20      11 12 13 14 15 16 17      11 12 13 14 15 16 17\n",
      "21 22 23 24 25 26 27      18 19 20 21 22 23 24      18 19 20 21 22 23 24\n",
      "28 29 30 31               25 26 27 28               25 26 27 28 29 30 31\n",
      "\n",
      "       April                      May                       June\n",
      "Mo Tu We Th Fr Sa Su      Mo Tu We Th Fr Sa Su      Mo Tu We Th Fr Sa Su\n",
      " 1  2  3  4  5  6  7             1  2  3  4  5                      1  2\n",
      " 8  9 10 11 12 13 14       6  7  8  9 10 11 12       3  4  5  6  7  8  9\n",
      "15 16 17 18 19 20 21      13 14 15 16 17 18 19      10 11 12 13 14 15 16\n",
      "22 23 24 25 26 27 28      20 21 22 23 24 25 26      17 18 19 20 21 22 23\n",
      "29 30                     27 28 29 30 31            24 25 26 27 28 29 30\n",
      "\n",
      "        July                     August                  September\n",
      "Mo Tu We Th Fr Sa Su      Mo Tu We Th Fr Sa Su      Mo Tu We Th Fr Sa Su\n",
      " 1  2  3  4  5  6  7                1  2  3  4                         1\n",
      " 8  9 10 11 12 13 14       5  6  7  8  9 10 11       2  3  4  5  6  7  8\n",
      "15 16 17 18 19 20 21      12 13 14 15 16 17 18       9 10 11 12 13 14 15\n",
      "22 23 24 25 26 27 28      19 20 21 22 23 24 25      16 17 18 19 20 21 22\n",
      "29 30 31                  26 27 28 29 30 31         23 24 25 26 27 28 29\n",
      "                                                    30\n",
      "\n",
      "      October                   November                  December\n",
      "Mo Tu We Th Fr Sa Su      Mo Tu We Th Fr Sa Su      Mo Tu We Th Fr Sa Su\n",
      "    1  2  3  4  5  6                   1  2  3                         1\n",
      " 7  8  9 10 11 12 13       4  5  6  7  8  9 10       2  3  4  5  6  7  8\n",
      "14 15 16 17 18 19 20      11 12 13 14 15 16 17       9 10 11 12 13 14 15\n",
      "21 22 23 24 25 26 27      18 19 20 21 22 23 24      16 17 18 19 20 21 22\n",
      "28 29 30 31               25 26 27 28 29 30         23 24 25 26 27 28 29\n",
      "                                                    30 31\n"
     ]
    }
   ],
   "source": [
    "# prcal: 直接打印日历\n",
    "help(calendar.prcal)\n",
    "calendar.prcal(2019)"
   ]
  },
  {
   "cell_type": "code",
   "execution_count": 89,
   "metadata": {},
   "outputs": [
    {
     "name": "stdout",
     "output_type": "stream",
     "text": [
      "     March 2019\n",
      "Mo Tu We Th Fr Sa Su\n",
      "             1  2  3\n",
      " 4  5  6  7  8  9 10\n",
      "11 12 13 14 15 16 17\n",
      "18 19 20 21 22 23 24\n",
      "25 26 27 28 29 30 31\n"
     ]
    }
   ],
   "source": [
    "# prmonth() : 直接打印整个月的日历\n",
    "# 格式 : calendar.prmonth(年，月)\n",
    "# 返回值 : 无\n",
    "calendar.prmonth(2019,3)"
   ]
  },
  {
   "cell_type": "code",
   "execution_count": 91,
   "metadata": {},
   "outputs": [
    {
     "name": "stdout",
     "output_type": "stream",
     "text": [
      "0\n"
     ]
    }
   ],
   "source": [
    "# weekday() 获取周几\n",
    "# 格式: calendar.weekday(年，月，日)\n",
    "# 返回值: 周几对应的数字\n",
    "print(calendar.weekday(2019,4,29))\n",
    "# 0 - 6  表示 周一到周末"
   ]
  },
  {
   "cell_type": "markdown",
   "metadata": {},
   "source": [
    "# time模块（使用广泛）\n",
    "### 时间戳\n",
    "    - 一个时间表示，根据不同语言，可以是整数或者浮点数\n",
    "    - 是从1970年1月1日0时0分0秒到现在经历的秒数\n",
    "    - 如果表示的时间时1970年以前或者太遥远的未来，可能出现异常\n",
    "    - 32位操作系统能够支持到2038年\n",
    "\n",
    "### UTC时间\n",
    "    - UTC又称世界协调时间，以英国的格林尼治天文台所在地区的时间作为参考的时间，也叫世界标准时间\n",
    "    - 中国时间时 UTC+8 东八区\n",
    "    \n",
    "### 夏令时\n",
    "    - 夏令时就是在夏天的时候时间调快一个小时，本意时督促大家早睡早起节省蜡烛，每天变成25个小时，本质没变，还是24个小时\n",
    "    \n",
    "# 时间元组\n",
    "    - 一个包含时间内容的普通元组\n",
    "    \n",
    "    \n",
    "    \n",
    "        索引    内容       属性          值\n",
    "        0        年        tm_year       2015\n",
    "        1        月        tm_mon        1-12\n",
    "        2        日        tm_mday       1-31\n",
    "        3        时        tm_hour       0-23\n",
    "        4        分        tm_min        0-59\n",
    "        5        秒        tm_sec        0-60 (60表示闰秒，61保留值)\n",
    "        6        周几      tm_wday       0-6\n",
    "        7        第几天    tm_yday       1-336\n",
    "        8        夏令时    tm_isdst      0，1，-1"
   ]
  },
  {
   "cell_type": "code",
   "execution_count": 92,
   "metadata": {},
   "outputs": [],
   "source": [
    "# 需要单独导入\n",
    "import time"
   ]
  },
  {
   "cell_type": "code",
   "execution_count": 94,
   "metadata": {},
   "outputs": [
    {
     "name": "stdout",
     "output_type": "stream",
     "text": [
      "-28800\n"
     ]
    }
   ],
   "source": [
    "# 时间模块的属性\n",
    "# timezone: 当前的时区和UTC时间相差的描述\n",
    "# 在没有夏令时情况下的间隔\n",
    "# altzone: 在有夏令时的情况下\n",
    "print(time.timezone)"
   ]
  },
  {
   "cell_type": "code",
   "execution_count": 96,
   "metadata": {},
   "outputs": [
    {
     "name": "stdout",
     "output_type": "stream",
     "text": [
      "0\n"
     ]
    }
   ],
   "source": [
    "# daylight: 检测当前是否为夏令时状态，0表示是\n",
    "print(time.daylight)"
   ]
  },
  {
   "cell_type": "code",
   "execution_count": 136,
   "metadata": {},
   "outputs": [
    {
     "data": {
      "text/plain": [
       "1556531393.613937"
      ]
     },
     "execution_count": 136,
     "metadata": {},
     "output_type": "execute_result"
    }
   ],
   "source": [
    "# time : 得到一个时间戳\n",
    "# 重要\n",
    "time.time()"
   ]
  },
  {
   "cell_type": "code",
   "execution_count": 140,
   "metadata": {},
   "outputs": [
    {
     "name": "stdout",
     "output_type": "stream",
     "text": [
      "time.struct_time(tm_year=2019, tm_mon=4, tm_mday=29, tm_hour=17, tm_min=54, tm_sec=34, tm_wday=0, tm_yday=119, tm_isdst=0)\n",
      "<class 'time.struct_time'>\n",
      "17\n"
     ]
    }
   ],
   "source": [
    "# localtime() : 得到当前时间的时间结构\n",
    "# 可以通过点操作符得到相应属性元素的内容\n",
    "t = time.localtime()\n",
    "print(t)\n",
    "print(type(t))\n",
    "print(t.tm_hour)"
   ]
  },
  {
   "cell_type": "code",
   "execution_count": 143,
   "metadata": {},
   "outputs": [
    {
     "name": "stdout",
     "output_type": "stream",
     "text": [
      "Mon Apr 29 17:59:32 2019\n",
      "<class 'str'>\n"
     ]
    }
   ],
   "source": [
    "# asctime() : 返回元组的正常字符串化后的时间\n",
    "t = time.localtime()\n",
    "tt = time.asctime(t)\n",
    "print(tt)\n",
    "print(type(tt))"
   ]
  },
  {
   "cell_type": "code",
   "execution_count": 145,
   "metadata": {},
   "outputs": [
    {
     "name": "stdout",
     "output_type": "stream",
     "text": [
      "<class 'str'>\n",
      "Mon Apr 29 18:00:28 2019\n"
     ]
    }
   ],
   "source": [
    "# ctime : 获取字符串化的当前时间\n",
    "t = time.ctime()\n",
    "print(type(t))\n",
    "print(t)"
   ]
  },
  {
   "cell_type": "code",
   "execution_count": 156,
   "metadata": {},
   "outputs": [
    {
     "name": "stdout",
     "output_type": "stream",
     "text": [
      "<class 'float'>\n",
      "1556532206.0\n",
      "1556532206.2619355\n"
     ]
    }
   ],
   "source": [
    "# mktime() 使用时间元组获取对应时间的时间戳\n",
    "# 格式: time.mktime(时间元组)\n",
    "# 返回值: 浮点数时间戳\n",
    "lt = time.localtime()\n",
    "ts = time.mktime(lt)\n",
    "print(type(ts))\n",
    "print(ts)\n",
    "print(time.time())"
   ]
  },
  {
   "cell_type": "code",
   "execution_count": 157,
   "metadata": {},
   "outputs": [],
   "source": [
    "# clock: 获取cpu时间，3.0 - 3.3 版本直接使用 3.6调用有问题\n",
    "# 不建议使用"
   ]
  },
  {
   "cell_type": "code",
   "execution_count": 161,
   "metadata": {},
   "outputs": [
    {
     "name": "stdout",
     "output_type": "stream",
     "text": [
      "0\n",
      "1\n",
      "2\n",
      "3\n",
      "4\n",
      "5\n",
      "6\n",
      "7\n",
      "8\n",
      "9\n"
     ]
    }
   ],
   "source": [
    "# sleep: 是程序进入睡眠，n秒后继续 常用\n",
    "for i in range(10):\n",
    "    print(i)\n",
    "    time.sleep(1)"
   ]
  },
  {
   "cell_type": "code",
   "execution_count": null,
   "metadata": {},
   "outputs": [],
   "source": []
  },
  {
   "cell_type": "code",
   "execution_count": 174,
   "metadata": {},
   "outputs": [
    {
     "name": "stdout",
     "output_type": "stream",
     "text": [
      "2019年04月29日 23:09\n"
     ]
    }
   ],
   "source": [
    "import time\n",
    "# strftime:  将时间元组转化为自定义的字符串格式\n",
    "'''\n",
    "%a  本地(locale)简化星期名称\n",
    "%A  本地完整星期名称\n",
    "%b  本地简化月份名称\n",
    "%B  本地完整月份名称\n",
    "%c  本地相应的日期和时间表示\n",
    "%d  一个月中的第几天（0-31）\n",
    "%H  一天中的第几个小时（24小时制，0-23）\n",
    "%I  一天中的第几个小时（12小时制，1-12）\n",
    "%m  月份（01-12）\n",
    "%M  分钟数（00-59）\n",
    "%p  本地 am 或者 pm 的相应符  注1\n",
    "%S  秒（01-61） 注2\n",
    "%U  一年中的星期数（00-53 星期天是一个星期的开始）\n",
    "%w  一个星期中的第几天（0-6 0是星期天） 注3\n",
    "%W  和%U基本相同，不同的是 %W 以星期一为一个星期的开始\n",
    "%x  本地相应日期\n",
    "%X  本地相应时间\n",
    "%y  去掉世纪的年份（00-99）\n",
    "%z  用 +HHMM 或 -HHMM 表示距离格林威治的时区偏移\n",
    "%%  百分号本身\n",
    "'''\n",
    "t = time.localtime()\n",
    "# 用format 是为了解决编码问题\n",
    "ft = time.strftime('%Y{y}%m{m}%d{d} %H:%M',t).format(y = '年',m ='月',d = '日' )\n",
    "print(ft)"
   ]
  },
  {
   "cell_type": "markdown",
   "metadata": {},
   "source": [
    "# datetime 模块\n",
    "- datetime 提供日期和时间的运算和表示"
   ]
  },
  {
   "cell_type": "code",
   "execution_count": 195,
   "metadata": {},
   "outputs": [],
   "source": [
    "import datetime"
   ]
  },
  {
   "cell_type": "code",
   "execution_count": 198,
   "metadata": {},
   "outputs": [
    {
     "name": "stdout",
     "output_type": "stream",
     "text": [
      "2019-04-29\n",
      "29\n",
      "2019\n"
     ]
    }
   ],
   "source": [
    "# datetime 常见属性\n",
    "# datetime.date: 一个理想和的日期，提供year，month，day属性\n",
    "dt = datetime.date(2019,4,29)\n",
    "print(dt)\n",
    "print(dt.day)\n",
    "print(dt.year)\n",
    "\n",
    "# datetime.time: 提供一个理想和的时间,提供hour，minute，sec，micresec等属性\n",
    "# datetime.datetime : 提供日期和时间的组合\n",
    "# datetime.timedelta :提供一个时间差，时间长度"
   ]
  },
  {
   "cell_type": "code",
   "execution_count": 200,
   "metadata": {},
   "outputs": [
    {
     "name": "stdout",
     "output_type": "stream",
     "text": [
      "2019-04-29 23:28:35.240110\n",
      "2019-04-29 23:28:35.240109\n",
      "2019-04-29 15:28:35.240109\n",
      "2019-04-29 23:28:35.240110\n"
     ]
    }
   ],
   "source": [
    "# datetime.datetime\n",
    "from datetime import datetime\n",
    "# 常用类方法:\n",
    "# today : \n",
    "# now :\n",
    "# utcnow:\n",
    "# fromtimestamp : 从时间戳中返回本地时间\n",
    "dt = datetime(2019,4,29)\n",
    "print(dt.today())\n",
    "print(dt.now())\n",
    "print(dt.utcnow())\n",
    "print(dt.fromtimestamp(time.time()))"
   ]
  },
  {
   "cell_type": "code",
   "execution_count": 3,
   "metadata": {},
   "outputs": [
    {
     "name": "stdout",
     "output_type": "stream",
     "text": [
      "2019-05-01 19:30:26\n",
      "<class 'datetime.timedelta'>\n",
      "<class 'datetime.datetime'>\n",
      "2019-05-01 20:30:26\n"
     ]
    }
   ],
   "source": [
    "# datetime.timedelta\n",
    "# 表示一个时间间隔\n",
    "from datetime import datetime,timedelta\n",
    "t1 = datetime.now()\n",
    "\n",
    "print(t1.strftime(\"%Y-%m-%d %H:%M:%S\"))\n",
    "# td 表示以小时的时间长度\n",
    "td = timedelta(hours = 1)\n",
    "print(type(td))\n",
    "print(type(t1))\n",
    "# 当前时间加上时间间隔后，把得到的一个小时侯的时间格式化输出\n",
    "print((t1 + td).strftime(\"%Y-%m-%d %H:%M:%S\"))\n"
   ]
  },
  {
   "cell_type": "code",
   "execution_count": 2,
   "metadata": {},
   "outputs": [
    {
     "name": "stdout",
     "output_type": "stream",
     "text": [
      "2.0006487369537354\n"
     ]
    }
   ],
   "source": [
    "import time\n",
    "# timeit: 时间测量工具\n",
    "# 测量程序运行时间间隔实验\n",
    "def p():\n",
    "    time.sleep(2)\n",
    "    \n",
    "t1 = time.time()\n",
    "p()\n",
    "print(time.time() - t1)"
   ]
  },
  {
   "cell_type": "markdown",
   "metadata": {},
   "source": [
    "# timeit"
   ]
  },
  {
   "cell_type": "code",
   "execution_count": 4,
   "metadata": {},
   "outputs": [
    {
     "name": "stdout",
     "output_type": "stream",
     "text": [
      "3.8258512189999863\n",
      "7.1930592550000085\n"
     ]
    }
   ],
   "source": [
    "import timeit\n",
    "# 生成列表的两种方法比较\n",
    "# 如果单纯比较生成一个列表的时间，可能很难实现（计算机运行很快）\n",
    "# 三单引号定义多行字符串\n",
    "c = '''\n",
    "sum = []\n",
    "for i in range(1000):\n",
    "    sum.append(i)\n",
    "'''\n",
    "\n",
    "# 利用timeit调用代码，执行100000次，查看运行时间\n",
    "t1 = timeit.timeit(stmt = '[i for i in range (1000)]' , number = 100000)\n",
    "\n",
    "# 测量代码c运行100000次的结果\n",
    "t2 = timeit.timeit(stmt = c , number = 100000)\n",
    "\n",
    "# 显然第二种快\n",
    "print(t1)\n",
    "print(t2)"
   ]
  },
  {
   "cell_type": "code",
   "execution_count": 8,
   "metadata": {},
   "outputs": [
    {
     "name": "stdout",
     "output_type": "stream",
     "text": [
      "Help on function timeit in module timeit:\n",
      "\n",
      "timeit(stmt='pass', setup='pass', timer=<built-in function perf_counter>, number=1000000, globals=None)\n",
      "    Convenience function to create Timer object and call timeit method.\n",
      "\n"
     ]
    }
   ],
   "source": [
    "help(timeit.timeit)\n",
    "# setup 在执行代码之前准备相应的环境变量"
   ]
  },
  {
   "cell_type": "code",
   "execution_count": 15,
   "metadata": {},
   "outputs": [
    {
     "name": "stdout",
     "output_type": "stream",
     "text": [
      "repate for 0\n",
      "repate for 1\n",
      "repate for 2\n",
      "repate for 0\n",
      "repate for 1\n",
      "repate for 2\n",
      "repate for 0\n",
      "repate for 1\n",
      "repate for 2\n",
      "repate for 0\n",
      "repate for 1\n",
      "repate for 2\n",
      "repate for 0\n",
      "repate for 1\n",
      "repate for 2\n",
      "repate for 0\n",
      "repate for 1\n",
      "repate for 2\n",
      "repate for 0\n",
      "repate for 1\n",
      "repate for 2\n",
      "repate for 0\n",
      "repate for 1\n",
      "repate for 2\n",
      "repate for 0\n",
      "repate for 1\n",
      "repate for 2\n",
      "repate for 0\n",
      "repate for 1\n",
      "repate for 2\n",
      "0.0010221779999710634\n"
     ]
    }
   ],
   "source": [
    "# timeit 可以执行一个函数，来测量一个函数的执行时间\n",
    "def doIt():\n",
    "    num = 3\n",
    "    for i in range(num):\n",
    "        print('repate for {0}'.format(i))\n",
    "        \n",
    "t = timeit.timeit(stmt = doIt, number = 10)\n",
    "print(t)"
   ]
  },
  {
   "cell_type": "code",
   "execution_count": 18,
   "metadata": {},
   "outputs": [
    {
     "name": "stdout",
     "output_type": "stream",
     "text": [
      "repate for 0\n",
      "repate for 1\n",
      "repate for 2\n",
      "repate for 0\n",
      "repate for 1\n",
      "repate for 2\n",
      "repate for 0\n",
      "repate for 1\n",
      "repate for 2\n",
      "repate for 0\n",
      "repate for 1\n",
      "repate for 2\n",
      "repate for 0\n",
      "repate for 1\n",
      "repate for 2\n",
      "repate for 0\n",
      "repate for 1\n",
      "repate for 2\n",
      "repate for 0\n",
      "repate for 1\n",
      "repate for 2\n",
      "repate for 0\n",
      "repate for 1\n",
      "repate for 2\n",
      "repate for 0\n",
      "repate for 1\n",
      "repate for 2\n",
      "repate for 0\n",
      "repate for 1\n",
      "repate for 2\n",
      "0.0008733910000273681\n"
     ]
    }
   ],
   "source": [
    "s = '''\n",
    "def doIt(num):\n",
    "    for i in range(num):\n",
    "        print('repate for {0}'.format(i))\n",
    "'''\n",
    "# 执行doIt(num)\n",
    "# setup负责把环境变量准备好\n",
    "# 实际上相当于给timeit创造了一个小环境\n",
    "# 在创造的小环境中，代码执行的顺序大致是\n",
    "#        def doIt():\n",
    "#            .....\n",
    "#        num = 3\n",
    "t = timeit.timeit('doIt(num)',setup = s + 'num = 3',number = 10)\n",
    "print(t)"
   ]
  },
  {
   "cell_type": "markdown",
   "metadata": {},
   "source": [
    "# os : 操作系统相关\n",
    "- 跟操作系统相关，主要是文件操作\n",
    "- 与系统相关的操作，主要包含在三个模块里\n",
    "    - os： 操作系统目录相关\n",
    "    - os.path ：系统路径相关的操作\n",
    "    - shutil ：高级文件操作，目录树的操作，文件赋值，删除，移动\n",
    "- 路径：\n",
    "    - 绝对路径: 总是从根目录开始\n",
    "    - 相对路径: 基本以当前环境为开始的一个相对地方"
   ]
  },
  {
   "cell_type": "markdown",
   "metadata": {},
   "source": [
    "# os 模块\n"
   ]
  },
  {
   "cell_type": "code",
   "execution_count": 2,
   "metadata": {},
   "outputs": [
    {
     "name": "stdout",
     "output_type": "stream",
     "text": [
      "C:\\Users\\qaz\\mypython_learningnote\n",
      "<class 'str'>\n"
     ]
    }
   ],
   "source": [
    "# getcwd() : 获取当前的工作目录\n",
    "# 格式: os.getcwd()\n",
    "# 返回值: 当前中作目录的字符串\n",
    "# 当前工作目录就是程序在进行文件相关操作时，默认查找工作目录\n",
    "import os\n",
    "mydir = os.getcwd()\n",
    "print(mydir)\n",
    "print(type(mydir))"
   ]
  },
  {
   "cell_type": "code",
   "execution_count": 4,
   "metadata": {},
   "outputs": [
    {
     "name": "stdout",
     "output_type": "stream",
     "text": [
      "C:\\Users\\qaz\n"
     ]
    }
   ],
   "source": [
    "# chdir() : 改变当前的工作目录  （change directory 的简写）\n",
    "# 格式 ; os.chdir(路径)\n",
    "# 返回值: 无\n",
    "# help(os.chdir)\n",
    "os.chdir('C:/Users/qaz')\n",
    "mydir = os.getcwd()\n",
    "print(mydir)"
   ]
  },
  {
   "cell_type": "code",
   "execution_count": 6,
   "metadata": {},
   "outputs": [
    {
     "name": "stdout",
     "output_type": "stream",
     "text": [
      "['.anaconda', '.android', '.astropy', '.bash_history', '.conda', '.condarc', '.dotnet', '.gitconfig', '.idlerc', '.ipynb_checkpoints', '.ipython', '.jupyter', '.lesshst', '.matplotlib', '.oracle_jre_usage', '.PyCharm2018.3', '.PyCharm2019.1', '.PyCharmCE2018.3', '.pylint.d', '.ssh', '.vim', '.viminfo', '.VirtualBox', '.vscode', '3D Objects', 'Anaconda3', 'AppData', 'Application Data', 'Contacts', 'Cookies', 'Desktop', 'Documents', 'Downloads', 'Favorites', 'IntelGraphicsProfiles', 'Links', 'Local Settings', 'MicrosoftEdgeBackups', 'Music', 'My Documents', 'mypython exercises_note', 'mypython_learningnote', 'mypython_readingnote', 'NetHood', 'NTUSER.DAT', 'ntuser.dat.LOG1', 'ntuser.dat.LOG2', 'NTUSER.DAT{8ebe95f7-3dcb-11e8-a9d9-7cfe90913f50}.TM.blf', 'NTUSER.DAT{8ebe95f7-3dcb-11e8-a9d9-7cfe90913f50}.TMContainer00000000000000000001.regtrans-ms', 'NTUSER.DAT{8ebe95f7-3dcb-11e8-a9d9-7cfe90913f50}.TMContainer00000000000000000002.regtrans-ms', 'ntuser.ini', 'OneDrive', 'Pictures', 'PrintHood', 'python所有讲义', 'Recent', 'Saved Games', 'Searches', 'SendTo', 'source', 'Templates', 'Videos', 'wc', '「开始」菜单']\n"
     ]
    }
   ],
   "source": [
    "# listdir() : 获取一个目录中所有子目录和文件的名称列表\n",
    "# 格式： os.listdir(路径)\n",
    "# 返回值: 所有子目录和文件名称的列表\n",
    "ls = os.listdir()\n",
    "print(ls)"
   ]
  },
  {
   "cell_type": "code",
   "execution_count": 13,
   "metadata": {},
   "outputs": [
    {
     "name": "stdout",
     "output_type": "stream",
     "text": [
      "C:\\Users\\qaz\n",
      "None\n"
     ]
    }
   ],
   "source": [
    "# makedirs() 递归创建文件夹\n",
    "# 格式: os.makedirs()\n",
    "# 返回值:无\n",
    "# 递归路径: 多个文件夹层层包含的路径就是递归路径，例如a/b/c...\n",
    "# 当文件夹已经创建后，再次执行程序会报错\n",
    "# help(os.makedirs)\n",
    "print(os.getcwd())\n",
    "rst = os.makedirs(\"函数创建文件夹\")\n",
    "print(rst)"
   ]
  },
  {
   "cell_type": "code",
   "execution_count": 22,
   "metadata": {},
   "outputs": [
    {
     "data": {
      "text/plain": [
       "0"
      ]
     },
     "execution_count": 22,
     "metadata": {},
     "output_type": "execute_result"
    }
   ],
   "source": [
    "# system() 运行shell命令\n",
    "# 格式: os.system(系统命令)\n",
    "# 返回值:打开一个shell或者终端界面\n",
    "# 一般推荐使用subprocess代替\n",
    "# 在jupyter下运行会有问题，可以在python交互模式下验证\n",
    "# 命令窗口输入ipython(jupyter 是ipython的升级版本)\n",
    "os.system(\"dir\")\n",
    "# 返回0是指执行成功"
   ]
  },
  {
   "cell_type": "code",
   "execution_count": 28,
   "metadata": {},
   "outputs": [
    {
     "name": "stdout",
     "output_type": "stream",
     "text": [
      "C:\\Users\\qaz\\Anaconda3;C:\\Users\\qaz\\Anaconda3\\Library\\mingw-w64\\bin;C:\\Users\\qaz\\Anaconda3\\Library\\usr\\bin;C:\\Users\\qaz\\Anaconda3\\Library\\bin;C:\\Users\\qaz\\Anaconda3\\Scripts;C:\\Program Files (x86)\\Common Files\\Oracle\\Java\\javapath;C:\\ProgramData\\Oracle\\Java\\javapath;C:\\Windows\\system32;C:\\Windows;C:\\Windows\\System32\\Wbem;C:\\Windows\\System32\\WindowsPowerShell\\v1.0\\;C:\\Windows\\System32\\OpenSSH\\;C:\\Program Files\\dotnet\\;C:\\Program Files\\Microsoft SQL Server\\130\\Tools\\Binn\\;C:\\Program Files\\Git\\cmd;C:\\Users\\qaz\\Anaconda3;C:\\Users\\qaz\\Anaconda3\\Library\\mingw-w64\\bin;C:\\Users\\qaz\\Anaconda3\\Library\\usr\\bin;C:\\Users\\qaz\\Anaconda3\\Library\\bin;C:\\Users\\qaz\\Anaconda3\\Scripts;C:\\Users\\qaz\\AppData\\Local\\Microsoft\\WindowsApps;F:\\pycharm file\\PyCharm Community Edition 2018.3.5\\bin;;D:\\vscode\\Microsoft VS Code\\bin\n"
     ]
    }
   ],
   "source": [
    "# getenv() 获取指定系统的环境变量值\n",
    "# 相应的还有getenv()\n",
    "# 格式 : os.getenv('环境变量名')\n",
    "# 返回值 : 指定环境变量名对应的值\n",
    "# 右键计算机 -> 属性 -> 高级系统设置 -> 环境变量\n",
    "rst = os.getenv(\"path\")\n",
    "print(rst)"
   ]
  },
  {
   "cell_type": "code",
   "execution_count": 30,
   "metadata": {},
   "outputs": [],
   "source": [
    "# exit() 退出当前程序\n",
    "# 格式 : exit()\n",
    "# 返回值 : 无"
   ]
  },
  {
   "cell_type": "markdown",
   "metadata": {},
   "source": [
    "# 值部分\n",
    "- os.curdir : current dir ,当前目录\n",
    "- os.pardir : parent dir ,父目录\n",
    "- os.sep : 当掀起痛的路径分隔符\n",
    "    - windows : \"\\\"\n",
    "    - linux : \"/\"\n",
    "- os.linesep : 当前系统的换行符号\n",
    "    - windows : \"\\r\\n\"\n",
    "    - linux,unix,macos : \"\\n\"\n",
    "- os.name : 当前系统名称\n",
    "    - windows : nt\n",
    "    - mac，unix，linux : posix\n",
    "- 在路径相关的操作中中不要手动拼写路径，即路径中不要出现反斜杠，正斜杆 等字符，手动拼写的路径可能不具有可移植性"
   ]
  },
  {
   "cell_type": "code",
   "execution_count": 3,
   "metadata": {},
   "outputs": [
    {
     "name": "stdout",
     "output_type": "stream",
     "text": [
      "..\n",
      ".\n",
      "\\\n",
      "\r\n",
      "\n",
      "nt\n"
     ]
    }
   ],
   "source": [
    "os.chdir('C:/Users')\n",
    "print(os.pardir)  # 当前目录父目录表示方法\n",
    "print(os.curdir)  # 当前目录表示方法\n",
    "print(os.sep)  # 系统路径分割符表示\n",
    "print(os.linesep)  # 系统换行表示\n",
    "print(os.name)  # 系统名称"
   ]
  },
  {
   "cell_type": "markdown",
   "metadata": {},
   "source": [
    "# os.path 模块 ， 和路径相关的模块\n"
   ]
  },
  {
   "cell_type": "markdown",
   "metadata": {},
   "source": [
    "- [关于 \\ 和 / ](https://blog.51cto.com/13747953/2315302) "
   ]
  },
  {
   "cell_type": "code",
   "execution_count": 11,
   "metadata": {},
   "outputs": [
    {
     "name": "stdout",
     "output_type": "stream",
     "text": [
      "C:\\Users\\qaz\\mypython_learningnote\n"
     ]
    }
   ],
   "source": [
    "\n",
    "import os.path as op\n",
    "# abspath() 将路径转化成绝对路径\n",
    "# 格式 : os.path.abspath('路径')\n",
    "# 返回值: 路径的绝对路径格式\n",
    "# . 表示当前目录\n",
    "# .. 表示当前目录父目录\n",
    "os.chdir(\"C:/Users/qaz/mypython_learningnote\")\n",
    "absp = op.abspath('.')\n",
    "print(absp)"
   ]
  },
  {
   "cell_type": "code",
   "execution_count": 18,
   "metadata": {},
   "outputs": [
    {
     "name": "stdout",
     "output_type": "stream",
     "text": [
      "mypython_learningnote\n",
      "mypython_learningnote\n"
     ]
    }
   ],
   "source": [
    "# basename() 获取路径中的文件名部分\n",
    "# 格式: os.path.basename\n",
    "# 返回值 : 文件名字符串\n",
    "bn  = op.basename(\"C:/Users/qaz/mypython_learningnote\")\n",
    "print(bn)\n",
    "print(op.basename(op.abspath('.')))"
   ]
  },
  {
   "cell_type": "code",
   "execution_count": 25,
   "metadata": {},
   "outputs": [
    {
     "name": "stdout",
     "output_type": "stream",
     "text": [
      "C:\\Users\\qaz\\mypython_learningnote\n"
     ]
    }
   ],
   "source": [
    "# join() 将多个路径拼合成一个路径\n",
    "# 格式: os.path.join(路径1,路径2.....)\n",
    "# 返回值: 组合之后的新路径字符串\n",
    "\n",
    "# 字符串前面加r表示使用真实字符，不转义，否则要用\"\\\\\"来表示\"\\\"\n",
    "a = r'C:\\Users\\qaz'  \n",
    "b = 'mypython_learningnote'\n",
    "p = op.join(a,b)\n",
    "print(p)"
   ]
  },
  {
   "cell_type": "code",
   "execution_count": 39,
   "metadata": {},
   "outputs": [
    {
     "name": "stdout",
     "output_type": "stream",
     "text": [
      "('C:/Users/qaz', 'mypython_learningnote')\n",
      "<class 'tuple'>\n",
      "C:/Users/qaz   mypython_learningnote\n"
     ]
    }
   ],
   "source": [
    "# split() 将路径切割为文件夹部分和当前部分的文件\n",
    "# 格式 : os.path.split(路径)\n",
    "# 返回值: 路径和文件名组成的元组\n",
    "t = op.split(\"C:/Users/qaz/mypython_learningnote\")\n",
    "print(t)\n",
    "print(type(t))\n",
    "d,p = op.split(\"C:/Users/qaz/mypython_learningnote\")\n",
    "print(d,\" \",p)"
   ]
  },
  {
   "cell_type": "code",
   "execution_count": 51,
   "metadata": {},
   "outputs": [
    {
     "name": "stdout",
     "output_type": "stream",
     "text": [
      "True\n"
     ]
    }
   ],
   "source": [
    "# isdir() 检测是否是目录\n",
    "# 格式 : os.path.isdir(路径) \n",
    "# 返回值: 布尔值\n",
    "rst = op.isdir(\"C:/Users/qaz\")\n",
    "print(rst)"
   ]
  },
  {
   "cell_type": "code",
   "execution_count": 55,
   "metadata": {},
   "outputs": [
    {
     "name": "stdout",
     "output_type": "stream",
     "text": [
      "True\n"
     ]
    }
   ],
   "source": [
    "# exists() 检查文件或者目录是否存在\n",
    "# 格式 : os.path.exists(路径)\n",
    "# 返回值 : 布尔值\n",
    "e = op.exists('C:/Users')\n",
    "print(e)"
   ]
  },
  {
   "cell_type": "markdown",
   "metadata": {},
   "source": [
    "# shutil 模块"
   ]
  },
  {
   "cell_type": "code",
   "execution_count": 57,
   "metadata": {},
   "outputs": [],
   "source": [
    "import shutil"
   ]
  },
  {
   "cell_type": "code",
   "execution_count": 67,
   "metadata": {},
   "outputs": [
    {
     "name": "stdout",
     "output_type": "stream",
     "text": [
      "C:\\Users\\qaz\\Desktop\\text\\2.txt\n"
     ]
    }
   ],
   "source": [
    "# copy() 复制文件\n",
    "# 格式: shutil.copy(来源路径,目标路径)\n",
    "# 返回值 : 返回目标路径\n",
    "# 拷贝的同时可以给文件重命名\n",
    "rst = shutil.copy(r'C:\\Users\\qaz\\Desktop\\text\\1.txt',r'C:\\Users\\qaz\\Desktop\\text\\2.txt')\n",
    "print(rst)"
   ]
  },
  {
   "cell_type": "code",
   "execution_count": 68,
   "metadata": {},
   "outputs": [],
   "source": [
    "# copy2() 复制文件，保留元数据(文件信息)\n",
    "# 格式 : shutil.copy2(来源路径,目标路径)\n",
    "# 返回值: 返回目标路径\n",
    "# 注意: copy 和 copy2 的唯一区别在于copy2复制文件时尽量保留元数据\n",
    "# 元数据 : 描述数据的数据，对数据及信息资源的描述性信息"
   ]
  },
  {
   "cell_type": "code",
   "execution_count": 69,
   "metadata": {},
   "outputs": [],
   "source": [
    "# copyfile() 将一个文件中的内容复制到另一个文件中\n",
    "# 格式 : shutil.copyfile(原路径，目标路径)\n",
    "# 返回值 : 目标路径"
   ]
  },
  {
   "cell_type": "code",
   "execution_count": 71,
   "metadata": {},
   "outputs": [],
   "source": [
    "# move() 移动文件/文件夹\n",
    "# 格式 : shutil.move(源路径,目标路径)\n",
    "# 返回值 : 目标路径\n",
    "# 可能会报PermissionError  权限不够"
   ]
  },
  {
   "cell_type": "markdown",
   "metadata": {},
   "source": [
    "# 归档和压缩\n",
    "- 归档: 把多个文件或者文件夹合并到一个文件中\n",
    "- 压缩: 用算法把多个文件或者文件夹无损或者有损合并到一个文件中"
   ]
  },
  {
   "cell_type": "code",
   "execution_count": 74,
   "metadata": {},
   "outputs": [],
   "source": [
    "# make_archive() 归档操作\n",
    "# 格式: shutil.make_archive('归档之后的目录和文件名','后缀','需要归档的文件夹')\n",
    "# 返回值: 归档之后的地址\n",
    "# windows下很常用\n",
    "\n",
    "\n",
    "# 是想得到guidang.zip文件\n",
    "rst = shutil.make_archive(r'C:\\Users\\qaz\\Desktop\\text\\guidang','zip',r'C:\\Users\\qaz\\Desktop\\text\\guidang')"
   ]
  },
  {
   "cell_type": "code",
   "execution_count": 78,
   "metadata": {},
   "outputs": [
    {
     "name": "stdout",
     "output_type": "stream",
     "text": [
      "None\n"
     ]
    }
   ],
   "source": [
    "# unpack_archive() 解包操作\n",
    "# 格式 : shutil.unpack_archive('归档文件地址','解包之后的地址')\n",
    "# 如果解包后的地址不存在，则会创建新目录\n",
    "# 返回值 : None\n",
    "rst = shutil.unpack_archive(r'C:\\Users\\qaz\\Desktop\\text\\guidang.zip',r'C:\\Users\\qaz\\Desktop\\text\\guidan')\n",
    "print(rst)"
   ]
  },
  {
   "cell_type": "markdown",
   "metadata": {},
   "source": [
    "# zipfile  压缩包"
   ]
  },
  {
   "cell_type": "code",
   "execution_count": 1,
   "metadata": {},
   "outputs": [],
   "source": [
    "import zipfile"
   ]
  },
  {
   "cell_type": "code",
   "execution_count": 4,
   "metadata": {},
   "outputs": [
    {
     "name": "stdout",
     "output_type": "stream",
     "text": [
      "<class 'zipfile.ZipFile'>\n"
     ]
    }
   ],
   "source": [
    "# zipfile.ZipFile(file)\n",
    "# 创建一个ZipFile对象，表示一个zip文件。\n",
    "# file 为文件名，或者路径。\n",
    "\n",
    "zf = zipfile.ZipFile(r\"C:\\Users\\qaz\\Desktop\\test\\guidang.zip\")\n",
    "print(type(zf))"
   ]
  },
  {
   "cell_type": "code",
   "execution_count": 8,
   "metadata": {},
   "outputs": [
    {
     "name": "stdout",
     "output_type": "stream",
     "text": [
      "<ZipInfo filename='1.txt' compress_type=deflate filemode='-rw-rw-rw-' file_size=0 compress_size=2>\n",
      "<class 'zipfile.ZipInfo'>\n"
     ]
    }
   ],
   "source": [
    "# zipfile.getinfo(name):\n",
    "# 获取zip文档内指定文件的信息。返回一个ZipFile.ZipInfo对象，它包括文件的详细信息。\n",
    "rst = zf.getinfo('1.txt')\n",
    "print(rst)\n",
    "print(type(rst))"
   ]
  },
  {
   "cell_type": "code",
   "execution_count": 10,
   "metadata": {},
   "outputs": [
    {
     "data": {
      "text/plain": [
       "['1.txt', '2.txt']"
      ]
     },
     "execution_count": 10,
     "metadata": {},
     "output_type": "execute_result"
    }
   ],
   "source": [
    "# ZipFile.namelist()\n",
    "# 获取zip文档内所有文件名称列表\n",
    "zf.namelist()"
   ]
  },
  {
   "cell_type": "code",
   "execution_count": 14,
   "metadata": {},
   "outputs": [
    {
     "name": "stdout",
     "output_type": "stream",
     "text": [
      "None\n"
     ]
    }
   ],
   "source": [
    "# ZipFile.extractall([path])\n",
    "# 解压zip文档中的所有文件到当前目录中。\n",
    "rst = zf.extractall(r\"C:\\Users\\qaz\\Desktop\\test\\guidan\")\n",
    "print(rst)"
   ]
  },
  {
   "cell_type": "markdown",
   "metadata": {},
   "source": [
    "# random\n",
    "- 随机数\n",
    "- 所有的随机模块都是伪随机"
   ]
  },
  {
   "cell_type": "code",
   "execution_count": 16,
   "metadata": {},
   "outputs": [],
   "source": [
    "import random"
   ]
  },
  {
   "cell_type": "code",
   "execution_count": 49,
   "metadata": {},
   "outputs": [
    {
     "name": "stdout",
     "output_type": "stream",
     "text": [
      "0.36158537099967725\n"
     ]
    }
   ],
   "source": [
    "# random() 获取0到1之间的随机小数\n",
    "# 格式：random.random()\n",
    "# 返回值 ： 0 到1 之间的小数\n",
    "\n",
    "print(random.random())"
   ]
  },
  {
   "cell_type": "code",
   "execution_count": 123,
   "metadata": {},
   "outputs": [
    {
     "name": "stdout",
     "output_type": "stream",
     "text": [
      "3\n"
     ]
    }
   ],
   "source": [
    "# choice() 随机返回序列中的某个值\n",
    "# 格式: random.choice(序列)\n",
    "# 返回值 ：序列中的随机一个值\n",
    "l = [1,2,3,4,5,6,7,8,9,0]\n",
    "print(random.choice(l))"
   ]
  },
  {
   "cell_type": "code",
   "execution_count": 138,
   "metadata": {},
   "outputs": [
    {
     "name": "stdout",
     "output_type": "stream",
     "text": [
      "[0, 1, 2, 3, 4, 5, 6, 7, 8, 9]\n",
      "[9, 0, 3, 6, 7, 1, 4, 5, 2, 8]\n",
      "None\n"
     ]
    }
   ],
   "source": [
    "# shuffle() 随机打乱列表\n",
    "l1 = [i for i in range (10)]\n",
    "print(l1)\n",
    "rst = random.shuffle(l1)\n",
    "print(l1)\n",
    "print(l2)"
   ]
  },
  {
   "cell_type": "code",
   "execution_count": 143,
   "metadata": {},
   "outputs": [
    {
     "name": "stdout",
     "output_type": "stream",
     "text": [
      "79\n",
      "Help on method randint in module random:\n",
      "\n",
      "randint(a, b) method of random.Random instance\n",
      "    Return random integer in range [a, b], including both end points.\n",
      "\n"
     ]
    }
   ],
   "source": [
    "# randint(x,y) 随即返回一个x-y的整数。\n",
    "print(random.randint(0,100))\n",
    "help(random.randint) # 包含边界"
   ]
  }
 ],
 "metadata": {
  "kernelspec": {
   "display_name": "Python 3",
   "language": "python",
   "name": "python3"
  },
  "language_info": {
   "codemirror_mode": {
    "name": "ipython",
    "version": 3
   },
   "file_extension": ".py",
   "mimetype": "text/x-python",
   "name": "python",
   "nbconvert_exporter": "python",
   "pygments_lexer": "ipython3",
   "version": "3.7.0"
  }
 },
 "nbformat": 4,
 "nbformat_minor": 2
}
