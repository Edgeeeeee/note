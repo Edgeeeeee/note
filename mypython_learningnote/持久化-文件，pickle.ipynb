{
 "cells": [
  {
   "cell_type": "markdown",
   "metadata": {},
   "source": [
    "# 持久化-file\n",
    "- 长久保存信息的一种数据集合\n",
    "- 常用操作\n",
    "    - 打开文件(文件打开后需要手动关闭)\n",
    "    - 读写内容\n",
    "    - 查找"
   ]
  },
  {
   "cell_type": "markdown",
   "metadata": {},
   "source": [
    "# open函数\n",
    "- open函数负责打开文件，带有很多参数\n",
    "- 第一个参数：文件的路径和名称\n",
    "- mode：表明文件用什么方式打开\n",
    "    - r：以只读方式打开\n",
    "    - w：写方式打开，会覆盖以前的内容（把原来的直接删掉了）\n",
    "    - x：创建方式打开，如果文件已经存在，报错。\n",
    "    - a：append方式，以追加的方式对文件内容及逆行写入\n",
    "    - b：binary方式，二进制写入\n",
    "    - t：文本方式打开\n",
    "    - +：可读写"
   ]
  },
  {
   "cell_type": "code",
   "execution_count": 2,
   "metadata": {},
   "outputs": [],
   "source": [
    "# 打开文件，用写的方式\n",
    "# \n",
    "# f称之为文件句柄\n",
    "f = open(r\"C:\\Users\\Administrator\\Desktop\\test\\1.txt\", \"w\")  # 原来没有文件，则会创建一个文件\n",
    "# 文件打开后必须关闭"
   ]
  },
  {
   "cell_type": "markdown",
   "metadata": {},
   "source": [
    "# with语句（推荐）\n",
    "- with语句使用的技术是称为上下文管理协议的技术\n",
    "- 自动判断文件的作用域，自动关闭不再使用的打开的文件句柄"
   ]
  },
  {
   "cell_type": "code",
   "execution_count": 5,
   "metadata": {},
   "outputs": [],
   "source": [
    "# with案例\n",
    "\n",
    "with open(r\"C:\\Users\\Administrator\\Desktop\\test\\1.txt\", 'r') as f:\n",
    "    pass\n",
    "    # 下面语句块开始对文件f进行操作\n",
    "    # 在本模块中不需要使用close关闭文件"
   ]
  },
  {
   "cell_type": "code",
   "execution_count": 13,
   "metadata": {},
   "outputs": [
    {
     "name": "stdout",
     "output_type": "stream",
     "text": [
      "123\n",
      "321\n",
      "1234567\n"
     ]
    }
   ],
   "source": [
    "# with 案例 按行读取\n",
    "with open(r\"C:\\Users\\Administrator\\Desktop\\test\\1.txt\", 'r') as f:\n",
    "    # 按行读取内容\n",
    "    strline = f.readline()\n",
    "    # 此结构保证能够读取文件直到结束\n",
    "    while strline:\n",
    "        print(strline,end = '') # 会读取文件中的换行符。\n",
    "        strline = f.readline()"
   ]
  },
  {
   "cell_type": "code",
   "execution_count": 17,
   "metadata": {},
   "outputs": [
    {
     "name": "stdout",
     "output_type": "stream",
     "text": [
      "['123\\n', '321\\n', '1234567\\n']\n",
      "123\n",
      "321\n",
      "1234567\n"
     ]
    }
   ],
   "source": [
    "# list 能用打开的文件作为参数，把文件内每一行内容作为一个元素\n",
    "with open(r\"C:\\Users\\Administrator\\Desktop\\test\\1.txt\", 'r') as f:\n",
    "    l = list(f)\n",
    "    print(l)\n",
    "    for i in l:\n",
    "        print(i, end = '')"
   ]
  },
  {
   "cell_type": "code",
   "execution_count": 26,
   "metadata": {},
   "outputs": [
    {
     "name": "stdout",
     "output_type": "stream",
     "text": [
      "16\n",
      "123\n",
      "321\n",
      "1234567\n",
      "\n"
     ]
    }
   ],
   "source": [
    "# read 是按字符读取文件内容\n",
    "# 允许输入参数决定读取几个字符，如果没有指定，则从当前位置读取到结尾\n",
    "# 否则，从当前位置读取到指定个数字符\n",
    "\n",
    "with open(r\"C:\\Users\\Administrator\\Desktop\\test\\1.txt\", 'r') as f:\n",
    "    strchar = f.read(100)  # 100 表示读取字符个数 \n",
    "    print(len(strchar))  # 输出字符个数 \n",
    "    print(strchar)"
   ]
  },
  {
   "cell_type": "code",
   "execution_count": 31,
   "metadata": {},
   "outputs": [
    {
     "name": "stdout",
     "output_type": "stream",
     "text": [
      "12 3\n",
      " 32 1\n",
      " 12 34 56 7\n",
      " "
     ]
    }
   ],
   "source": [
    "# 每次读取两个字符 \n",
    "with open(r\"C:\\Users\\Administrator\\Desktop\\test\\1.txt\", 'r') as f:\n",
    "    twochar = f.read(2)\n",
    "    while twochar:\n",
    "        print(twochar, end=' ')\n",
    "        twochar = f.read(2)"
   ]
  },
  {
   "cell_type": "markdown",
   "metadata": {},
   "source": [
    "# seek（offset，from）\n",
    "- 移动文件的读取位置，也叫读取指针\n",
    "- from的取值范围\n",
    "    - 0：从文件头开始偏移\n",
    "    - 1：从文件当前位置开始偏移\n",
    "    - 2：从文件末尾开始偏移\n",
    "- **移动的单位是字节**\n",
    "- 一个汉字由若干个字节构成\n",
    "- 返回文件只针对当前位置"
   ]
  },
  {
   "cell_type": "code",
   "execution_count": 33,
   "metadata": {},
   "outputs": [
    {
     "name": "stdout",
     "output_type": "stream",
     "text": [
      "\n",
      "321\n",
      "1234567\n",
      "\n"
     ]
    }
   ],
   "source": [
    "# seek案例\n",
    "# 打开文件后，从第五个字节处开始读取\n",
    "with open(r\"C:\\Users\\Administrator\\Desktop\\test\\1.txt\", 'r') as f:\n",
    "    # 打开文件后，读写指针在0处，即文件的开头\n",
    "    f.seek(4, 0)\n",
    "    strchar = f.read()\n",
    "    print(strchar)"
   ]
  },
  {
   "cell_type": "code",
   "execution_count": 10,
   "metadata": {},
   "outputs": [
    {
     "name": "stdout",
     "output_type": "stream",
     "text": [
      "pos:0\n",
      "123\n",
      "pos:7\n",
      "\n",
      "32\n",
      "pos:11\n",
      "1\n",
      "1\n",
      "pos:14\n",
      "234\n",
      "pos:17\n",
      "567\n",
      "pos:19\n",
      "\n",
      "\n"
     ]
    }
   ],
   "source": [
    "with open(r\"C:\\Users\\Administrator\\Desktop\\test\\1.txt\", 'r') as f:\n",
    "    pos = f.tell()\n",
    "    strchar = f.read(3)\n",
    "    while strchar:\n",
    "        print('pos:{}'.format(pos))\n",
    "        print(strchar)\n",
    "        strchar = f.read(3)\n",
    "        pos = f.tell()\n",
    "        \n",
    "# 以下结果说明：\n",
    "# tell返回的数字的单位是字节\n",
    "# read 是以字符为单位"
   ]
  },
  {
   "cell_type": "markdown",
   "metadata": {},
   "source": [
    " # 文件的写操作-write\n",
    " - write(str):把字符串写入文件\n",
    " - writeline(str):把字符串按行写入文件\n",
    " - 区别：\n",
    "     - write参数只能是一个字符串\n",
    "     - writelines参数可以是字符串，也可以是字符序列(多为字符序列，可迭代对象，**不会自动换行**)"
   ]
  },
  {
   "cell_type": "code",
   "execution_count": 17,
   "metadata": {},
   "outputs": [],
   "source": [
    "# write 案例\n",
    "# 向文件追加一句话\n",
    "with open(r\"C:\\Users\\Administrator\\Desktop\\test\\2.txt\", 'a') as f:  # a表示追加\n",
    "    f.write(\"万事开头难。\\n中间难，\\n结尾更难\")"
   ]
  },
  {
   "cell_type": "code",
   "execution_count": 28,
   "metadata": {},
   "outputs": [],
   "source": [
    "# writelines 案例\n",
    "with open(r\"C:\\Users\\Administrator\\Desktop\\test\\3.txt\", 'w') as f:  # a表示追加\n",
    "    f.writelines([\"万事开头难\\n\",\"中间难\\n\",\"结尾更难\\n\"])"
   ]
  },
  {
   "cell_type": "markdown",
   "metadata": {},
   "source": [
    "# 持久化-pickle\n",
    "- 序列化（持久化，落地）：把程序中的信息保存在磁盘上\n",
    "- 反序列化：序列化的逆过程\n",
    "- pickle：python提供的序列化模块\n",
    "- pickle.dump:序列化\n",
    "- pickle.load:反序列化"
   ]
  },
  {
   "cell_type": "code",
   "execution_count": 36,
   "metadata": {},
   "outputs": [],
   "source": [
    "# 序列化案例\n",
    "import pickle\n",
    "age = 19\n",
    "with open(r\"C:\\Users\\Administrator\\Desktop\\test\\4.txt\", 'wb') as f:\n",
    "    pickle.dump(age,f)"
   ]
  },
  {
   "cell_type": "code",
   "execution_count": 38,
   "metadata": {},
   "outputs": [
    {
     "name": "stdout",
     "output_type": "stream",
     "text": [
      "19\n"
     ]
    }
   ],
   "source": [
    "# 反序列化案例\n",
    "with open(r\"C:\\Users\\Administrator\\Desktop\\test\\4.txt\", 'rb') as f:\n",
    "    age = pickle.load(f)\n",
    "    print(age)"
   ]
  },
  {
   "cell_type": "code",
   "execution_count": 45,
   "metadata": {},
   "outputs": [],
   "source": [
    "# pickle 可以保存一些结构化的东西 \n",
    "a = [\"徐孟楠\",21,\"计算机科学与技术学院\",\"python\"]\n",
    "with open(r\"C:\\Users\\Administrator\\Desktop\\test\\5.txt\", 'wb') as f:\n",
    "    pickle.dump(a,f)"
   ]
  },
  {
   "cell_type": "code",
   "execution_count": 46,
   "metadata": {},
   "outputs": [
    {
     "name": "stdout",
     "output_type": "stream",
     "text": [
      "['徐孟楠', 21, '计算机科学与技术学院', 'python']\n"
     ]
    }
   ],
   "source": [
    "with open(r\"C:\\Users\\Administrator\\Desktop\\test\\5.txt\", 'rb') as f:\n",
    "    b = pickle.load(f)\n",
    "print(b)"
   ]
  },
  {
   "cell_type": "markdown",
   "metadata": {},
   "source": [
    "# 持久化-shelve\n",
    "- 持久化工具\n",
    "- 类似字典，用kb对保存数据，存取方式和字典类似\n",
    "- open ，close"
   ]
  },
  {
   "cell_type": "code",
   "execution_count": 62,
   "metadata": {},
   "outputs": [],
   "source": [
    "# 使用shelve创建文件并使用\n",
    "import shelve\n",
    "shv = shelve.open(r\"C:\\Users\\Administrator\\Desktop\\test\\1.db\")\n",
    "shv[\"a\"] = {'aa':1,'bb':2,'cc':3}\n",
    "shv[\"b\"] = 2\n",
    "shv[\"c\"] = 3\n",
    "\n",
    "shv.close()\n",
    "# 不仅仅只会创建一个.db文件，还有其他文件"
   ]
  },
  {
   "cell_type": "code",
   "execution_count": 68,
   "metadata": {},
   "outputs": [
    {
     "name": "stdout",
     "output_type": "stream",
     "text": [
      "出错了！\n"
     ]
    }
   ],
   "source": [
    "# 读取案例\n",
    "shv = shelve.open(r\"C:\\Users\\Administrator\\Desktop\\test\\1.db\", flag=\"r\") # 只读方式打开\n",
    "try:\n",
    "    print(shv[\"asdf\"])  # 未找到键值会报错，用try仍能够正确关闭文件。\n",
    "except Exception as e:\n",
    "    print(\"出错了！\")\n",
    "finally:\n",
    "    shv.close() # 无论是否出错都会执行"
   ]
  },
  {
   "cell_type": "markdown",
   "metadata": {},
   "source": [
    "# shelve特性\n",
    "- 不支持多个应用并行写入，\n",
    "    - 为了解决这个问题，open的时候可以使用flag = r\n",
    "- 写回问题\n",
    "    - shelve默认情况下不会等待持久化对象进行任何修改\n",
    "    - 解决方法：强制写会：writeback=True"
   ]
  },
  {
   "cell_type": "code",
   "execution_count": 71,
   "metadata": {},
   "outputs": [
    {
     "name": "stdout",
     "output_type": "stream",
     "text": [
      "{'aa': 1, 'bb': 2, 'cc': 3}\n",
      "{'aa': 1, 'bb': 2, 'cc': 3}\n"
     ]
    }
   ],
   "source": [
    "# 不强制写回\n",
    "shv = shelve.open(r\"C:\\Users\\Administrator\\Desktop\\test\\1.db\")\n",
    "shv[\"a\"] = {'aa':1,'bb':2,'cc':3}\n",
    "shv[\"b\"] = 2\n",
    "shv[\"c\"] = 3\n",
    "\n",
    "shv.close()\n",
    "shv = shelve.open(r\"C:\\Users\\Administrator\\Desktop\\test\\1.db\")\n",
    "dd = shv[\"a\"]\n",
    "print(dd)\n",
    "dd['aa'] = 100\n",
    "shv.close()\n",
    "\n",
    "shv = shelve.open(r\"C:\\Users\\Administrator\\Desktop\\test\\1.db\")\n",
    "print(shv[\"a\"])"
   ]
  },
  {
   "cell_type": "code",
   "execution_count": 73,
   "metadata": {},
   "outputs": [
    {
     "name": "stdout",
     "output_type": "stream",
     "text": [
      "{'aa': 1, 'bb': 2, 'cc': 3}\n",
      "{'aa': 100, 'bb': 2, 'cc': 3}\n"
     ]
    }
   ],
   "source": [
    "# 强制写回案例\n",
    "shv = shelve.open(r\"C:\\Users\\Administrator\\Desktop\\test\\1.db\")\n",
    "shv[\"a\"] = {'aa':1,'bb':2,'cc':3}\n",
    "shv[\"b\"] = 2\n",
    "shv[\"c\"] = 3\n",
    "\n",
    "shv.close()\n",
    "\n",
    "shv = shelve.open(r\"C:\\Users\\Administrator\\Desktop\\test\\1.db\", writeback=True)\n",
    "dd = shv[\"a\"]\n",
    "print(dd)\n",
    "dd['aa'] = 100\n",
    "shv.close()\n",
    "\n",
    "shv = shelve.open(r\"C:\\Users\\Administrator\\Desktop\\test\\1.db\")\n",
    "print(shv[\"a\"])"
   ]
  },
  {
   "cell_type": "code",
   "execution_count": 74,
   "metadata": {},
   "outputs": [
    {
     "name": "stdout",
     "output_type": "stream",
     "text": [
      "{'aa': 100, 'bb': 2, 'cc': 3}\n"
     ]
    }
   ],
   "source": [
    "# shelve 使用with管理上下文环境,自动关闭，推荐使用。\n",
    "with shelve.open(r\"C:\\Users\\Administrator\\Desktop\\test\\1.db\") as shv:\n",
    "    print(shv[\"a\"])"
   ]
  }
 ],
 "metadata": {
  "kernelspec": {
   "display_name": "Python 3",
   "language": "python",
   "name": "python3"
  },
  "language_info": {
   "codemirror_mode": {
    "name": "ipython",
    "version": 3
   },
   "file_extension": ".py",
   "mimetype": "text/x-python",
   "name": "python",
   "nbconvert_exporter": "python",
   "pygments_lexer": "ipython3",
   "version": "3.6.5"
  }
 },
 "nbformat": 4,
 "nbformat_minor": 2
}
