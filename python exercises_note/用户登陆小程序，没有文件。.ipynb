{
 "cells": [
  {
   "cell_type": "code",
   "execution_count": 9,
   "metadata": {},
   "outputs": [
    {
     "name": "stdout",
     "output_type": "stream",
     "text": [
      "输入以选择功能（1 to log up）（2 to log in）1\n",
      "请输入用户名123456\n",
      "请输入密码123456\n",
      "请在输入一次123456\n",
      "注册成功\n",
      "登陆成功\n"
     ]
    }
   ],
   "source": [
    "# 写一个程序用来管理登陆系统的用户信息：登陆名字和密码。登陆账号建立后，已存在的用户可以登陆名字和而密码重返系统，新用户不能用别人的眼红户名\n",
    "# 建立账号\n",
    "user_pass = {\"xmn\":\"123456\"}\n",
    "\n",
    "def user_create():\n",
    "    '''\n",
    "    username: 用\n",
    "    '''\n",
    "    usernames = user_pass.keys()\n",
    "    while 1:\n",
    "        username = input(\"请输入用户名\")\n",
    "        if username in usernames:\n",
    "            print(\"该用户名已被使用\")\n",
    "        else:\n",
    "            password1 = input(\"请输入密码\")\n",
    "            password2 = input(\"请在输入一次\")\n",
    "            if password1 == password2 :\n",
    "                # 模拟向数据库和中添加数据\n",
    "                user_pass[username] = password1\n",
    "                break\n",
    "            else:\n",
    "                print(\"密码不匹配\")\n",
    "    print(\"注册成功\")\n",
    "    user_login(username,password1)\n",
    "    \n",
    "def user_login(username = \"\",password = \"\"):\n",
    "    if not username:\n",
    "        username = input(\"请输入用户名\")\n",
    "    \n",
    "    usernames = user_pass.keys()\n",
    "    if username in usernames:\n",
    "        if not password:\n",
    "            password = input(\"请输入密码\")\n",
    "        if password == user_pass[username]:\n",
    "            print(\"登陆成功\")\n",
    "        else :\n",
    "            print(\"密码错误\")\n",
    "    else:\n",
    "        print(\"请先注册\")    \n",
    "    \n",
    "func = input(\"输入以选择功能（1 to log up）（2 to log in）\")\n",
    "if func == \"1\":\n",
    "    user_create()\n",
    "if func == \"2\":\n",
    "    user_login()"
   ]
  },
  {
   "cell_type": "code",
   "execution_count": null,
   "metadata": {},
   "outputs": [],
   "source": []
  },
  {
   "cell_type": "code",
   "execution_count": null,
   "metadata": {},
   "outputs": [],
   "source": []
  }
 ],
 "metadata": {
  "kernelspec": {
   "display_name": "Python 3",
   "language": "python",
   "name": "python3"
  },
  "language_info": {
   "codemirror_mode": {
    "name": "ipython",
    "version": 3
   },
   "file_extension": ".py",
   "mimetype": "text/x-python",
   "name": "python",
   "nbconvert_exporter": "python",
   "pygments_lexer": "ipython3",
   "version": "3.7.0"
  }
 },
 "nbformat": 4,
 "nbformat_minor": 2
}
