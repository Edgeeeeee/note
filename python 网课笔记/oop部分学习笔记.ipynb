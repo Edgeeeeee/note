{
 "cells": [
  {
   "cell_type": "code",
   "execution_count": 32,
   "metadata": {},
   "outputs": [
    {
     "name": "stdout",
     "output_type": "stream",
     "text": [
      "xmn\n",
      "18\n",
      "********************\n",
      "1981679487608\n",
      "140728057262368\n",
      "********************\n",
      "{}\n",
      "{'__module__': '__main__', 'name': 'xmn', 'age': 18, 'say': <function A.say at 0x000001CD655A8950>, '__dict__': <attribute '__dict__' of 'A' objects>, '__weakref__': <attribute '__weakref__' of 'A' objects>, '__doc__': None}\n",
      "16\n",
      "xxxxx\n",
      "140728057262304\n",
      "1981680283296\n",
      "\n",
      "{'name': 16, 'age': 'xxxxx'}\n",
      "{'__module__': '__main__', 'name': 'xmn', 'age': 18, 'say': <function A.say at 0x000001CD655A8950>, '__dict__': <attribute '__dict__' of 'A' objects>, '__weakref__': <attribute '__weakref__' of 'A' objects>, '__doc__': None}\n"
     ]
    },
    {
     "data": {
      "text/plain": [
       "'\\nprint(b.name)\\nprint(b.age)\\nprint(id(b.name))\\nprint(id(b.age))\\n'"
      ]
     },
     "execution_count": 32,
     "metadata": {},
     "output_type": "execute_result"
    }
   ],
   "source": [
    "class A():\n",
    "    name = \"xmn\"\n",
    "    age = 18\n",
    "    def say(self):\n",
    "        self.name = \"xiaoming\"\n",
    "        self.age = 19\n",
    "\n",
    "        \n",
    "# 此案例说明\n",
    "# 类实例的属性和其对象的实例的属性在不对对象赋值的前提下指向同一个变量\n",
    "# 当对a赋值后 创建了一个新的空间存放对象\n",
    "\n",
    "\n",
    "\n",
    "\n",
    "# 此时A称为类实例\n",
    "print(A.name)\n",
    "print(A.age)\n",
    "print(\"*\" * 20)\n",
    "# 鉴别两个变量是不是同一个变量\n",
    "print(id(A.name))\n",
    "print(id(A.age))\n",
    "print(\"*\" * 20)\n",
    "a = A()\n",
    "\n",
    "print(a.__dict__)\n",
    "print(A.__dict__)\n",
    "\n",
    "a.name = 16\n",
    "a.age = \"xxxxx\"\n",
    "print(a.name)\n",
    "print(a.age)\n",
    "print(id(a.name))\n",
    "print(id(a.age))\n",
    "print()\n",
    "print(a.__dict__)\n",
    "print(A.__dict__)\n",
    "\n",
    "\"\"\"\n",
    "print(b.name)\n",
    "print(b.age)\n",
    "print(id(b.name))\n",
    "print(id(b.age))\n",
    "\"\"\""
   ]
  },
  {
   "cell_type": "code",
   "execution_count": 31,
   "metadata": {},
   "outputs": [
    {
     "name": "stdout",
     "output_type": "stream",
     "text": [
      "my name is xiaoming\n",
      "My age is 19\n",
      "xiaoming\n"
     ]
    }
   ],
   "source": [
    "class A:\n",
    "    name = \"xmn\"\n",
    "    age = 18\n",
    "    def say(self):\n",
    "        self.name = \"xiaoming\"\n",
    "        self.age = 19\n",
    "        print(\"my name is {0}\".format(self.name))\n",
    "        print(\"My age is {0}\".format(self.age))\n",
    "        \n",
    "yueyue = A()\n",
    "yueyue.say()\n",
    "print(yueyue.name)"
   ]
  },
  {
   "cell_type": "code",
   "execution_count": 46,
   "metadata": {},
   "outputs": [
    {
     "name": "stdout",
     "output_type": "stream",
     "text": [
      "{}\n",
      "my name is xiaoming\n",
      "My age is 19\n",
      "123\n",
      "{'naaame': 'xiaoming', 'age': 19, 'name': 123}\n",
      "xmn\n",
      "18\n",
      "hello! nice to see you again\n"
     ]
    }
   ],
   "source": [
    "class teacher():\n",
    "    name = \"xmn\" #归属类\n",
    "    age = 18\n",
    "    def say(self):\n",
    "        self.naaame = \"xiaoming\"  #归属对象\n",
    "        self.age = 19\n",
    "        print(\"my name is {0}\".format(self.naaame))  #对象和类都中没有naaame 则会填入对象中 \n",
    "        print(\"My age is {0}\".format(self.age))\n",
    "        self.name = 123  # 对象中没有name，类中有 如访问会优先访问类中name，修改则会复制一份放入对象中\n",
    "        print(self.name)\n",
    "        # 调用类的成员变量需要使用__class__\n",
    "    def sayagain():\n",
    "        print(__class__.name)\n",
    "        print(__class__.age)\n",
    "        print(\"hello! nice to see you again\")\n",
    "        \n",
    "t = teacher()\n",
    "print(t.__dict__)\n",
    "t.say()\n",
    "print(t.__dict__)\n",
    "teacher.sayagain()  #默认把自己当作第一个参数传进去"
   ]
  },
  {
   "cell_type": "code",
   "execution_count": 52,
   "metadata": {},
   "outputs": [
    {
     "name": "stdout",
     "output_type": "stream",
     "text": [
      "aaaa\n",
      "100\n",
      "aaaa\n",
      "100\n",
      "xmn\n",
      "18\n",
      "nnn\n",
      "90\n"
     ]
    }
   ],
   "source": [
    "# 关于self的案例\n",
    "class A():\n",
    "    name = \"xmn\"\n",
    "    age = 18\n",
    "    def __init__(self):\n",
    "        self.name = \"aaaa\"\n",
    "        self.age = 100\n",
    "        \n",
    "    def say(self):\n",
    "        print(self.name)\n",
    "        print(self.age)\n",
    "        \n",
    "class B():\n",
    "    name = \"nnn\"\n",
    "    age = 90\n",
    "a = A()\n",
    "a.say() # 此时a为第一个参数\n",
    "A.say(a)# 此时self 被 a 替换\n",
    "A.say(A) # 同样可以把类对象A传入\n",
    "A.say(B) # 此时传入的时实例B，因为B内有name和age属性，所以不会报错\n",
    "\n",
    "# 此上代码利用了鸭子模型"
   ]
  },
  {
   "cell_type": "code",
   "execution_count": 60,
   "metadata": {},
   "outputs": [
    {
     "name": "stdout",
     "output_type": "stream",
     "text": [
      "徐孟楠\n",
      "18\n"
     ]
    },
    {
     "ename": "AttributeError",
     "evalue": "'person' object has no attribute '__age'",
     "output_type": "error",
     "traceback": [
      "\u001b[1;31m---------------------------------------------------------------------------\u001b[0m",
      "\u001b[1;31mAttributeError\u001b[0m                            Traceback (most recent call last)",
      "\u001b[1;32m<ipython-input-60-39a7a76da678>\u001b[0m in \u001b[0;36m<module>\u001b[1;34m()\u001b[0m\n\u001b[0;32m      9\u001b[0m \u001b[0mprint\u001b[0m\u001b[1;33m(\u001b[0m\u001b[0mp\u001b[0m\u001b[1;33m.\u001b[0m\u001b[0mname\u001b[0m\u001b[1;33m)\u001b[0m\u001b[1;33m\u001b[0m\u001b[0m\n\u001b[0;32m     10\u001b[0m \u001b[0mprint\u001b[0m\u001b[1;33m(\u001b[0m\u001b[0mp\u001b[0m\u001b[1;33m.\u001b[0m\u001b[0m_person__age\u001b[0m\u001b[1;33m)\u001b[0m  \u001b[1;31m#访问了！ 打印出18\u001b[0m\u001b[1;33m\u001b[0m\u001b[0m\n\u001b[1;32m---> 11\u001b[1;33m \u001b[0mprint\u001b[0m\u001b[1;33m(\u001b[0m\u001b[0mp\u001b[0m\u001b[1;33m.\u001b[0m\u001b[0m__age\u001b[0m\u001b[1;33m)\u001b[0m   \u001b[1;31m#报错\u001b[0m\u001b[1;33m\u001b[0m\u001b[0m\n\u001b[0m",
      "\u001b[1;31mAttributeError\u001b[0m: 'person' object has no attribute '__age'"
     ]
    }
   ],
   "source": [
    " class person():\n",
    "     # name 是共有成员\n",
    "    name = \"徐孟楠\"\n",
    "    #__age是私有的\n",
    "    #注意报错信息\n",
    "    __age = 18\n",
    "    \n",
    "p = person()\n",
    "print(p.name)\n",
    "print(p._person__age)  #访问了！ 打印出18\n",
    "print(p.__age)   #报错"
   ]
  },
  {
   "cell_type": "code",
   "execution_count": 58,
   "metadata": {},
   "outputs": [
    {
     "name": "stdout",
     "output_type": "stream",
     "text": [
      "{'__module__': '__main__', 'name': '徐孟楠', '_person__age': 18, '__dict__': <attribute '__dict__' of 'person' objects>, '__weakref__': <attribute '__weakref__' of 'person' objects>, '__doc__': None}\n"
     ]
    }
   ],
   "source": [
    "# name mangling 技术的使用\n",
    "print(person.__dict__)"
   ]
  },
  {
   "cell_type": "code",
   "execution_count": null,
   "metadata": {},
   "outputs": [],
   "source": []
  },
  {
   "cell_type": "code",
   "execution_count": 15,
   "metadata": {},
   "outputs": [
    {
     "name": "stdout",
     "output_type": "stream",
     "text": [
      "None\n",
      "xiaoming\n"
     ]
    },
    {
     "ename": "AttributeError",
     "evalue": "'Teacher' object has no attribute '__score'",
     "output_type": "error",
     "traceback": [
      "\u001b[1;31m---------------------------------------------------------------------------\u001b[0m",
      "\u001b[1;31mAttributeError\u001b[0m                            Traceback (most recent call last)",
      "\u001b[1;32m<ipython-input-15-810467624d2d>\u001b[0m in \u001b[0;36m<module>\u001b[1;34m()\u001b[0m\n\u001b[0;32m     19\u001b[0m \u001b[1;31m# 受保护可以外部访问，建议性私有成员，不要在外部访问\u001b[0m\u001b[1;33m\u001b[0m\u001b[1;33m\u001b[0m\u001b[0m\n\u001b[0;32m     20\u001b[0m \u001b[0mprint\u001b[0m\u001b[1;33m(\u001b[0m\u001b[0mt\u001b[0m\u001b[1;33m.\u001b[0m\u001b[0m_petname\u001b[0m\u001b[1;33m)\u001b[0m\u001b[1;33m\u001b[0m\u001b[0m\n\u001b[1;32m---> 21\u001b[1;33m \u001b[0mprint\u001b[0m\u001b[1;33m(\u001b[0m\u001b[0mt\u001b[0m\u001b[1;33m.\u001b[0m\u001b[0m__score\u001b[0m\u001b[1;33m)\u001b[0m\u001b[1;33m\u001b[0m\u001b[0m\n\u001b[0m",
      "\u001b[1;31mAttributeError\u001b[0m: 'Teacher' object has no attribute '__score'"
     ]
    }
   ],
   "source": [
    "# 继承的语法\n",
    "# 在python中 任何类都有一个父类叫object\n",
    "class Person(): #括号可以省略，但是推荐写\n",
    "    name = None\n",
    "    age = None\n",
    "    __socre = 0\n",
    "    _petname = \"xiaoming\"\n",
    "    def sleep():\n",
    "        print(\"sleeping .....\")\n",
    "        \n",
    "        \n",
    "# 父类写在括号内\n",
    "class Teacher(Person):\n",
    "    def text(self):\n",
    "        pass\n",
    "\n",
    "t = Teacher()\n",
    "print(Teacher.name)\n",
    "# 受保护可以外部访问，建议性私有成员，不要在外部访问\n",
    "print(t._petname)\n",
    "print(t.__score) # 公开访问私有变量，报错"
   ]
  },
  {
   "cell_type": "code",
   "execution_count": 12,
   "metadata": {},
   "outputs": [
    {
     "name": "stdout",
     "output_type": "stream",
     "text": [
      "{'__repr__': <slot wrapper '__repr__' of 'object' objects>, '__hash__': <slot wrapper '__hash__' of 'object' objects>, '__str__': <slot wrapper '__str__' of 'object' objects>, '__getattribute__': <slot wrapper '__getattribute__' of 'object' objects>, '__setattr__': <slot wrapper '__setattr__' of 'object' objects>, '__delattr__': <slot wrapper '__delattr__' of 'object' objects>, '__lt__': <slot wrapper '__lt__' of 'object' objects>, '__le__': <slot wrapper '__le__' of 'object' objects>, '__eq__': <slot wrapper '__eq__' of 'object' objects>, '__ne__': <slot wrapper '__ne__' of 'object' objects>, '__gt__': <slot wrapper '__gt__' of 'object' objects>, '__ge__': <slot wrapper '__ge__' of 'object' objects>, '__init__': <slot wrapper '__init__' of 'object' objects>, '__new__': <built-in method __new__ of type object at 0x00007FFDCA43EA20>, '__reduce_ex__': <method '__reduce_ex__' of 'object' objects>, '__reduce__': <method '__reduce__' of 'object' objects>, '__subclasshook__': <method '__subclasshook__' of 'object' objects>, '__init_subclass__': <method '__init_subclass__' of 'object' objects>, '__format__': <method '__format__' of 'object' objects>, '__sizeof__': <method '__sizeof__' of 'object' objects>, '__dir__': <method '__dir__' of 'object' objects>, '__class__': <attribute '__class__' of 'object' objects>, '__doc__': 'The most base type'}\n"
     ]
    }
   ],
   "source": [
    "print(object.__dict__)"
   ]
  },
  {
   "cell_type": "code",
   "execution_count": 18,
   "metadata": {},
   "outputs": [
    {
     "name": "stdout",
     "output_type": "stream",
     "text": [
      "xmn\n"
     ]
    }
   ],
   "source": [
    "class Person(): #括号可以省略，但是推荐写\n",
    "    name = None\n",
    "    age = None\n",
    "    __socre = 0\n",
    "    _petname = \"xiaoming\"\n",
    "    def sleep():\n",
    "        print(\"sleeping .....\")\n",
    "        \n",
    "# 父类写在括号内\n",
    "class Teacher(Person):\n",
    "    name = \"xmn\"\n",
    "    def text(self):\n",
    "        pass\n",
    "a = Teacher() \n",
    "print(a.name)"
   ]
  },
  {
   "cell_type": "code",
   "execution_count": 25,
   "metadata": {},
   "outputs": [
    {
     "name": "stdout",
     "output_type": "stream",
     "text": [
      "make money\n",
      "make test\n"
     ]
    }
   ],
   "source": [
    "# 子类扩充父类的功能\n",
    "# 人有工作函数，老师也有工作函数，但是老师要教书\n",
    "class Person(): #括号可以省略，但是推荐写\n",
    "    name = None\n",
    "    age = None\n",
    "    __socre = 0\n",
    "    _petname = \"xiaoming\"\n",
    "    def sleep(self):\n",
    "        print(\"sleeping .....\")\n",
    "    def work(self):    \n",
    "        print(\"make money\")\n",
    "# 父类写在括号内\n",
    "class Teacher(Person):\n",
    "    name = \"xmn\"\n",
    "    def test(self):\n",
    "        print(\"make test\")\n",
    "    def work(self):\n",
    "        #扩充父类的功能只需要调用父类相应的函数\n",
    "        # Person.work(self)\n",
    "        super().work()  #super()代表得到父类\n",
    "        self.test()\n",
    "t = Teacher()\n",
    "t.work()"
   ]
  },
  {
   "cell_type": "code",
   "execution_count": 30,
   "metadata": {},
   "outputs": [
    {
     "name": "stdout",
     "output_type": "stream",
     "text": [
      "I am a dog\n"
     ]
    }
   ],
   "source": [
    "# 构造函数的概念\n",
    "class Dog():\n",
    "    #__init__(self) 是构造函数\n",
    "    # 每次实例化的时候第一个被调用\n",
    "    # 因为主要任务是初始化，所以得名\n",
    "    def __init__(self):\n",
    "        print(\"I am a dog\")\n",
    "        \n",
    "kaka = Dog()  "
   ]
  },
  {
   "cell_type": "code",
   "execution_count": 36,
   "metadata": {},
   "outputs": [
    {
     "name": "stdout",
     "output_type": "stream",
     "text": [
      "I am a Paxing\n"
     ]
    }
   ],
   "source": [
    "# 继承中的构造函数\n",
    "class Animal():\n",
    "    def __init__(self):\n",
    "        print(\"I am a Animal\")\n",
    "class PaxingAnimal(Animal):\n",
    "    def __init__(self):\n",
    "        print(\"I am a Paxing\")\n",
    "class Dog(PaxingAnimal):\n",
    "    pass\n",
    "    #def __init__(self):\n",
    "     #   print(\"I am a dog\")\n",
    "        \n",
    "kak = Dog()"
   ]
  },
  {
   "cell_type": "code",
   "execution_count": 41,
   "metadata": {},
   "outputs": [
    {
     "name": "stdout",
     "output_type": "stream",
     "text": [
      "I am a dog\n",
      "I am a Paxing miao\n"
     ]
    }
   ],
   "source": [
    "# 继承中的构造函数\n",
    "class Animal():\n",
    "    def __init__(self):\n",
    "        print(\"I am a Animal\")\n",
    "class PaxingAnimal(Animal):\n",
    "    def __init__(self,name):\n",
    "        print(\"I am a Paxing {0}\".format(name))\n",
    "class Dog(PaxingAnimal):\n",
    "    pass\n",
    "    def __init__(self):\n",
    "        print(\"I am a dog\")\n",
    "        \n",
    "kak = Dog()\n",
    "# PaxingAnimal 的构造函数要两个参数 所以除了对象本身外还要传入一个参数\n",
    "cat = PaxingAnimal(\"miao\")"
   ]
  },
  {
   "cell_type": "code",
   "execution_count": 42,
   "metadata": {},
   "outputs": [
    {
     "name": "stdout",
     "output_type": "stream",
     "text": [
      "<class 'type'>\n"
     ]
    }
   ],
   "source": [
    "print(type(super))"
   ]
  },
  {
   "cell_type": "code",
   "execution_count": 43,
   "metadata": {},
   "outputs": [
    {
     "name": "stdout",
     "output_type": "stream",
     "text": [
      "Help on class super in module builtins:\n",
      "\n",
      "class super(object)\n",
      " |  super() -> same as super(__class__, <first argument>)\n",
      " |  super(type) -> unbound super object\n",
      " |  super(type, obj) -> bound super object; requires isinstance(obj, type)\n",
      " |  super(type, type2) -> bound super object; requires issubclass(type2, type)\n",
      " |  Typical use to call a cooperative superclass method:\n",
      " |  class C(B):\n",
      " |      def meth(self, arg):\n",
      " |          super().meth(arg)\n",
      " |  This works for class methods too:\n",
      " |  class C(B):\n",
      " |      @classmethod\n",
      " |      def cmeth(cls, arg):\n",
      " |          super().cmeth(arg)\n",
      " |  \n",
      " |  Methods defined here:\n",
      " |  \n",
      " |  __get__(self, instance, owner, /)\n",
      " |      Return an attribute of instance, which is of type owner.\n",
      " |  \n",
      " |  __getattribute__(self, name, /)\n",
      " |      Return getattr(self, name).\n",
      " |  \n",
      " |  __init__(self, /, *args, **kwargs)\n",
      " |      Initialize self.  See help(type(self)) for accurate signature.\n",
      " |  \n",
      " |  __repr__(self, /)\n",
      " |      Return repr(self).\n",
      " |  \n",
      " |  ----------------------------------------------------------------------\n",
      " |  Static methods defined here:\n",
      " |  \n",
      " |  __new__(*args, **kwargs) from builtins.type\n",
      " |      Create and return a new object.  See help(type) for accurate signature.\n",
      " |  \n",
      " |  ----------------------------------------------------------------------\n",
      " |  Data descriptors defined here:\n",
      " |  \n",
      " |  __self__\n",
      " |      the instance invoking super(); may be None\n",
      " |  \n",
      " |  __self_class__\n",
      " |      the type of the instance invoking super(); may be None\n",
      " |  \n",
      " |  __thisclass__\n",
      " |      the class invoking super()\n",
      "\n"
     ]
    }
   ],
   "source": [
    "help(super)"
   ]
  },
  {
   "cell_type": "code",
   "execution_count": 44,
   "metadata": {},
   "outputs": [
    {
     "name": "stdout",
     "output_type": "stream",
     "text": [
      "(<class '__main__.b'>, <class '__main__.A'>, <class 'object'>)\n"
     ]
    }
   ],
   "source": [
    "# __mro__ 查找一个类的“家谱”\n",
    "class A():\n",
    "    pass\n",
    "class b(A):\n",
    "    pass\n",
    "print(b.__mro__)"
   ]
  },
  {
   "cell_type": "code",
   "execution_count": 45,
   "metadata": {},
   "outputs": [],
   "source": [
    "# 菱形继承问题\n",
    "class A():\n",
    "    pass\n",
    "class B(A):\n",
    "    pass\n",
    "class C(A):\n",
    "    pass\n",
    "class D(B,C):\n",
    "    pass"
   ]
  },
  {
   "cell_type": "code",
   "execution_count": 6,
   "metadata": {},
   "outputs": [
    {
     "name": "stdout",
     "output_type": "stream",
     "text": [
      "(<class '__main__.Tutor'>, <class '__main__.Person'>, <class '__main__.TeacherMixin'>, <class '__main__.StudentMixin'>, <class 'object'>)\n",
      "{}\n",
      "{'__module__': '__main__', '__doc__': None}\n"
     ]
    }
   ],
   "source": [
    "# Mixin 案例:\n",
    "class Person():\n",
    "    name = \"xmn\"\n",
    "    age = 18\n",
    "    def eat(self):\n",
    "        print(\"eating....\")\n",
    "    def drink():\n",
    "        print(\"drinking...\")\n",
    "    def sleep():\n",
    "        print(\"sleeping....\")\n",
    "        \n",
    "class TeacherMixin(): # 没有构造函数 ，没有继承类 这只是用法\n",
    "    def work(self):\n",
    "        print(\"working...\")\n",
    "class StudentMixin():\n",
    "    def study(self):\n",
    "        print(\"studying...\")\n",
    "class Tutor(Person,TeacherMixin,StudentMixin):\n",
    "    pass\n",
    "t = Tutor()\n",
    "\n",
    "print(Tutor.__mro__)\n",
    "print(t.__dict__)\n",
    "print(Tutor.__dict__)\n",
    "        \n",
    "    "
   ]
  },
  {
   "cell_type": "code",
   "execution_count": 13,
   "metadata": {},
   "outputs": [
    {
     "name": "stdout",
     "output_type": "stream",
     "text": [
      "False\n",
      "True\n",
      "True\n",
      "True\n"
     ]
    }
   ],
   "source": [
    "# issubclass ：检查一个类是否为另一个类的子类 案例\n",
    "class A():\n",
    "    pass\n",
    "class B(A):\n",
    "    pass\n",
    "class C():\n",
    "    pass\n",
    "print(issubclass(A,B))  # 检查A是否为B的子类\n",
    "print(issubclass(B,A))  # 检查B是否为A的子类A的子类\n",
    "\n",
    "    "
   ]
  },
  {
   "cell_type": "code",
   "execution_count": 15,
   "metadata": {},
   "outputs": [
    {
     "name": "stdout",
     "output_type": "stream",
     "text": [
      "True\n",
      "False\n"
     ]
    }
   ],
   "source": [
    "# isinstance 检查一个对象是否为一个类的实例\n",
    "class A():\n",
    "    pass\n",
    "a = A() \n",
    "print(isinstance(a,A))\n",
    "print(isinstance(A,A))"
   ]
  },
  {
   "cell_type": "code",
   "execution_count": 18,
   "metadata": {},
   "outputs": [
    {
     "name": "stdout",
     "output_type": "stream",
     "text": [
      "True\n",
      "False\n"
     ]
    }
   ],
   "source": [
    "# hasattr 检查一个成员是否再对象里面\n",
    "class A():\n",
    "    name = \"xmn\"\n",
    "print(hasattr(A,\"name\"))\n",
    "print(hasattr(A,\"age\"))\n",
    "     "
   ]
  },
  {
   "cell_type": "code",
   "execution_count": 19,
   "metadata": {},
   "outputs": [
    {
     "name": "stdout",
     "output_type": "stream",
     "text": [
      "Help on built-in function setattr in module builtins:\n",
      "\n",
      "setattr(obj, name, value, /)\n",
      "    Sets the named attribute on the given object to the specified value.\n",
      "    \n",
      "    setattr(x, 'y', v) is equivalent to ``x.y = v''\n",
      "\n"
     ]
    }
   ],
   "source": [
    "help(setattr)"
   ]
  },
  {
   "cell_type": "code",
   "execution_count": 20,
   "metadata": {},
   "outputs": [
    {
     "name": "stdout",
     "output_type": "stream",
     "text": [
      "Help on built-in function getattr in module builtins:\n",
      "\n",
      "getattr(...)\n",
      "    getattr(object, name[, default]) -> value\n",
      "    \n",
      "    Get a named attribute from an object; getattr(x, 'y') is equivalent to x.y.\n",
      "    When a default argument is given, it is returned when the attribute doesn't\n",
      "    exist; without it, an exception is raised in that case.\n",
      "\n"
     ]
    }
   ],
   "source": [
    "help(getattr)"
   ]
  },
  {
   "cell_type": "code",
   "execution_count": 21,
   "metadata": {},
   "outputs": [
    {
     "name": "stdout",
     "output_type": "stream",
     "text": [
      "Help on built-in function delattr in module builtins:\n",
      "\n",
      "delattr(obj, name, /)\n",
      "    Deletes the named attribute from the given object.\n",
      "    \n",
      "    delattr(x, 'y') is equivalent to ``del x.y''\n",
      "\n"
     ]
    }
   ],
   "source": [
    "help(delattr)"
   ]
  },
  {
   "cell_type": "code",
   "execution_count": 23,
   "metadata": {},
   "outputs": [
    {
     "data": {
      "text/plain": [
       "['__class__',\n",
       " '__delattr__',\n",
       " '__dict__',\n",
       " '__dir__',\n",
       " '__doc__',\n",
       " '__eq__',\n",
       " '__format__',\n",
       " '__ge__',\n",
       " '__getattribute__',\n",
       " '__gt__',\n",
       " '__hash__',\n",
       " '__init__',\n",
       " '__init_subclass__',\n",
       " '__le__',\n",
       " '__lt__',\n",
       " '__module__',\n",
       " '__ne__',\n",
       " '__new__',\n",
       " '__reduce__',\n",
       " '__reduce_ex__',\n",
       " '__repr__',\n",
       " '__setattr__',\n",
       " '__sizeof__',\n",
       " '__str__',\n",
       " '__subclasshook__',\n",
       " '__weakref__']"
      ]
     },
     "execution_count": 23,
     "metadata": {},
     "output_type": "execute_result"
    }
   ],
   "source": [
    "# dir 案例\n",
    "class A():\n",
    "    pass\n",
    "dir(A)  # A 是object的子类"
   ]
  },
  {
   "cell_type": "code",
   "execution_count": 4,
   "metadata": {},
   "outputs": [
    {
     "name": "stdout",
     "output_type": "stream",
     "text": [
      "hai my name is XMN\n",
      "hai my name is Y W\n"
     ]
    }
   ],
   "source": [
    "# 属性案例\n",
    "# 创建Student类描述学生\n",
    "# Student类中有Student.name属性\n",
    "# 但是name格式不统一\n",
    "# 可以增加一个函数\n",
    "class Student():\n",
    "    def __init__(self,name,age):\n",
    "        self.name = name\n",
    "        self.age = age\n",
    "        self.setName(name)\n",
    "    def intro(self):\n",
    "        print(\"hai my name is {0}\".format(self.name))\n",
    "        \n",
    "    def setName(self,name):\n",
    "        self.name = name.upper()\n",
    "        \n",
    "s1 = Student(\"Xmn\",20)\n",
    "s2 = Student(\"w Y\",19)\n",
    "s1.intro()\n",
    "s2.intro()"
   ]
  },
  {
   "cell_type": "code",
   "execution_count": 21,
   "metadata": {},
   "outputs": [],
   "source": [
    "# property案例\n",
    "# 定义一个person类 具有name，age属性\n",
    "# 对于任意输入的姓名，我们希望都用大写的方式保存\n",
    "# 年龄我们希望统一用整数保存\n",
    "# x = property(fget,fset,fdel,doc)\n",
    "class Person():\n",
    "    def fget(self):\n",
    "        return self._name * 2\n",
    "    def fset (self,name):\n",
    "        self._name = name.upper()\n",
    "    def fdel(self):\n",
    "        self._name = \"NoName\"\n",
    "    name = property(fget,fset,fdel,\"对name进行以下操作\") "
   ]
  },
  {
   "cell_type": "code",
   "execution_count": 2,
   "metadata": {},
   "outputs": [
    {
     "ename": "NameError",
     "evalue": "name 'Person' is not defined",
     "output_type": "error",
     "traceback": [
      "\u001b[1;31m---------------------------------------------------------------------------\u001b[0m",
      "\u001b[1;31mNameError\u001b[0m                                 Traceback (most recent call last)",
      "\u001b[1;32m<ipython-input-2-6ab3e496d631>\u001b[0m in \u001b[0;36m<module>\u001b[1;34m()\u001b[0m\n\u001b[1;32m----> 1\u001b[1;33m \u001b[0mp1\u001b[0m \u001b[1;33m=\u001b[0m \u001b[0mPerson\u001b[0m\u001b[1;33m(\u001b[0m\u001b[1;33m)\u001b[0m\u001b[1;33m\u001b[0m\u001b[0m\n\u001b[0m\u001b[0;32m      2\u001b[0m \u001b[0mp1\u001b[0m\u001b[1;33m.\u001b[0m\u001b[0mname\u001b[0m \u001b[1;33m=\u001b[0m \u001b[1;34m\"xmn\"\u001b[0m\u001b[1;33m\u001b[0m\u001b[0m\n\u001b[0;32m      3\u001b[0m \u001b[0mprint\u001b[0m\u001b[1;33m(\u001b[0m\u001b[0mp1\u001b[0m\u001b[1;33m.\u001b[0m\u001b[0mname\u001b[0m\u001b[1;33m)\u001b[0m\u001b[1;33m\u001b[0m\u001b[0m\n\u001b[0;32m      4\u001b[0m \u001b[0mprint\u001b[0m\u001b[1;33m(\u001b[0m\u001b[0mp1\u001b[0m\u001b[1;33m.\u001b[0m\u001b[0mname\u001b[0m\u001b[1;33m)\u001b[0m\u001b[1;33m\u001b[0m\u001b[0m\n",
      "\u001b[1;31mNameError\u001b[0m: name 'Person' is not defined"
     ]
    }
   ],
   "source": [
    "p1 = Person()\n",
    "p1.name = \"xmn\"\n",
    "print(p1.name)\n",
    "print(p1.name)"
   ]
  },
  {
   "cell_type": "code",
   "execution_count": 19,
   "metadata": {},
   "outputs": [
    {
     "name": "stdout",
     "output_type": "stream",
     "text": [
      "xmn\n",
      "xmnxmn\n",
      "19.2\n"
     ]
    }
   ],
   "source": [
    "class Person():\n",
    "    '''\n",
    "    这是一个人\n",
    "    还tm有属性\n",
    "    \n",
    "    '''\n",
    "    def __init__(self,name,age):\n",
    "        self._name = name\n",
    "        self.age = age\n",
    "    def fget(self):\n",
    "        return self._name * 2\n",
    "        \n",
    "    def fset (self,name):\n",
    "        self._name = name.upper()\n",
    "       # self.age = int(age)\n",
    "    def fdel(self):\n",
    "        self._name = \"NoName\"\n",
    "    name2 = property(fget,fset,fdel,\"对name进行以下操作\") \n",
    "    \n",
    "p = Person(\"xmn\",19.2)\n",
    "p.name = \"xmn\"\n",
    "\n",
    "p.name = \"xmn\"    # 对property对应的变量赋值的时候调用fset方法\n",
    "# p.age = 12.1\n",
    "print(p.name)      # 打印未经操作的初始值\n",
    "print(p.name2)     # 对name2进行访问的时候调用fget方法  # 若将name2 改为 name 则name的原内容将被覆盖，达到对变量进行自动操作的目的\n",
    "print(p.age)\n"
   ]
  },
  {
   "cell_type": "code",
   "execution_count": 4,
   "metadata": {},
   "outputs": [
    {
     "name": "stdout",
     "output_type": "stream",
     "text": [
      "Help on class property in module builtins:\n",
      "\n",
      "class property(object)\n",
      " |  property(fget=None, fset=None, fdel=None, doc=None)\n",
      " |  \n",
      " |  Property attribute.\n",
      " |  \n",
      " |    fget\n",
      " |      function to be used for getting an attribute value\n",
      " |    fset\n",
      " |      function to be used for setting an attribute value\n",
      " |    fdel\n",
      " |      function to be used for del'ing an attribute\n",
      " |    doc\n",
      " |      docstring\n",
      " |  \n",
      " |  Typical use is to define a managed attribute x:\n",
      " |  \n",
      " |  class C(object):\n",
      " |      def getx(self): return self._x\n",
      " |      def setx(self, value): self._x = value\n",
      " |      def delx(self): del self._x\n",
      " |      x = property(getx, setx, delx, \"I'm the 'x' property.\")\n",
      " |  \n",
      " |  Decorators make defining new properties or modifying existing ones easy:\n",
      " |  \n",
      " |  class C(object):\n",
      " |      @property\n",
      " |      def x(self):\n",
      " |          \"I am the 'x' property.\"\n",
      " |          return self._x\n",
      " |      @x.setter\n",
      " |      def x(self, value):\n",
      " |          self._x = value\n",
      " |      @x.deleter\n",
      " |      def x(self):\n",
      " |          del self._x\n",
      " |  \n",
      " |  Methods defined here:\n",
      " |  \n",
      " |  __delete__(self, instance, /)\n",
      " |      Delete an attribute of instance.\n",
      " |  \n",
      " |  __get__(self, instance, owner, /)\n",
      " |      Return an attribute of instance, which is of type owner.\n",
      " |  \n",
      " |  __getattribute__(self, name, /)\n",
      " |      Return getattr(self, name).\n",
      " |  \n",
      " |  __init__(self, /, *args, **kwargs)\n",
      " |      Initialize self.  See help(type(self)) for accurate signature.\n",
      " |  \n",
      " |  __set__(self, instance, value, /)\n",
      " |      Set an attribute of instance to value.\n",
      " |  \n",
      " |  deleter(...)\n",
      " |      Descriptor to change the deleter on a property.\n",
      " |  \n",
      " |  getter(...)\n",
      " |      Descriptor to change the getter on a property.\n",
      " |  \n",
      " |  setter(...)\n",
      " |      Descriptor to change the setter on a property.\n",
      " |  \n",
      " |  ----------------------------------------------------------------------\n",
      " |  Static methods defined here:\n",
      " |  \n",
      " |  __new__(*args, **kwargs) from builtins.type\n",
      " |      Create and return a new object.  See help(type) for accurate signature.\n",
      " |  \n",
      " |  ----------------------------------------------------------------------\n",
      " |  Data descriptors defined here:\n",
      " |  \n",
      " |  __isabstractmethod__\n",
      " |  \n",
      " |  fdel\n",
      " |  \n",
      " |  fget\n",
      " |  \n",
      " |  fset\n",
      "\n"
     ]
    }
   ],
   "source": [
    "help(property)"
   ]
  },
  {
   "cell_type": "code",
   "execution_count": 5,
   "metadata": {},
   "outputs": [
    {
     "name": "stdout",
     "output_type": "stream",
     "text": [
      "{'__module__': '__main__', '__doc__': '\\n    这是一个人\\n    还tm有属性\\n    \\n    ', '__init__': <function Person.__init__ at 0x000001ABE69B9BF8>, 'fget': <function Person.fget at 0x000001ABE69B9AE8>, 'fset': <function Person.fset at 0x000001ABE69B9B70>, 'fdel': <function Person.fdel at 0x000001ABE69B9D08>, 'name': <property object at 0x000001ABE69D3278>, '__dict__': <attribute '__dict__' of 'Person' objects>, '__weakref__': <attribute '__weakref__' of 'Person' objects>}\n"
     ]
    }
   ],
   "source": [
    "# 类的内置属性举例\n",
    "print(Person.__dict__)"
   ]
  },
  {
   "cell_type": "code",
   "execution_count": 6,
   "metadata": {},
   "outputs": [
    {
     "name": "stdout",
     "output_type": "stream",
     "text": [
      "\n",
      "    这是一个人\n",
      "    还tm有属性\n",
      "    \n",
      "    \n"
     ]
    }
   ],
   "source": [
    "print(Person.__doc__)"
   ]
  },
  {
   "cell_type": "code",
   "execution_count": 7,
   "metadata": {},
   "outputs": [
    {
     "name": "stdout",
     "output_type": "stream",
     "text": [
      "Person\n"
     ]
    }
   ],
   "source": [
    "print(Person.__name__)"
   ]
  },
  {
   "cell_type": "code",
   "execution_count": 8,
   "metadata": {},
   "outputs": [
    {
     "name": "stdout",
     "output_type": "stream",
     "text": [
      "(<class 'object'>,)\n"
     ]
    }
   ],
   "source": [
    "print(Person.__bases__)"
   ]
  },
  {
   "cell_type": "code",
   "execution_count": 9,
   "metadata": {},
   "outputs": [
    {
     "name": "stdout",
     "output_type": "stream",
     "text": [
      "我被调用了！\n"
     ]
    }
   ],
   "source": [
    "# 构造函数__init__()举例\n",
    "class A():\n",
    "    def __init__(self,name = 0):\n",
    "        print(\"我被调用了！\")\n",
    "        \n",
    "a = A()"
   ]
  },
  {
   "cell_type": "code",
   "execution_count": 15,
   "metadata": {},
   "outputs": [
    {
     "name": "stdout",
     "output_type": "stream",
     "text": [
      "我被调用了！\n",
      "我被call调用了\n",
      "我再一次被调用了\n"
     ]
    }
   ],
   "source": [
    " # __call__(): 举例\n",
    "class A():\n",
    "    def __init__(self,name = 0):\n",
    "        print(\"我被调用了！\")\n",
    "    def __call__(self):\n",
    "        print(\"我被call调用了\")\n",
    "    def __str__(self):\n",
    "        return \"我再一次被调用了\" \n",
    "        \n",
    "a = A()\n",
    "a() # 把a当函数用 自动调用一个魔法函数__call__()\n",
    "print(a)  # 调用__str__(self) "
   ]
  },
  {
   "cell_type": "code",
   "execution_count": 23,
   "metadata": {},
   "outputs": [
    {
     "ename": "SyntaxError",
     "evalue": "invalid syntax (<ipython-input-23-c7399c036752>, line 6)",
     "output_type": "error",
     "traceback": [
      "\u001b[1;36m  File \u001b[1;32m\"<ipython-input-23-c7399c036752>\"\u001b[1;36m, line \u001b[1;32m6\u001b[0m\n\u001b[1;33m    def __getattr__(self,name,\"1\"):  # 默认返回None 可以设置返回值\u001b[0m\n\u001b[1;37m                                ^\u001b[0m\n\u001b[1;31mSyntaxError\u001b[0m\u001b[1;31m:\u001b[0m invalid syntax\n"
     ]
    }
   ],
   "source": [
    "# __getattr__() 举例\n",
    "class A ():\n",
    "    name = \"徐孟楠\"\n",
    "    age = 18\n",
    "    \n",
    "    def __getattr__(self,name,\"1\"):  # 默认返回None 可以设置返回值\n",
    "        print(\"没找到属性{}\".format(name))\n",
    "    \n",
    "a = A()\n",
    "print(a.name)\n",
    "print(a.hobby)"
   ]
  },
  {
   "cell_type": "code",
   "execution_count": 5,
   "metadata": {},
   "outputs": [
    {
     "name": "stdout",
     "output_type": "stream",
     "text": [
      "设置属性： age\n",
      "19\n",
      "17\n"
     ]
    }
   ],
   "source": [
    "# __setattr__() 案例\n",
    "class Person():\n",
    "    age = 19\n",
    "    def __init__(self):\n",
    "        pass\n",
    "    def __setattr__(self,name,value):\n",
    "        print(\"设置属性： {}\".format(name))\n",
    "        # self.name = value\n",
    "        # 此种情况 为了避免死循环，规定统一调用父类魔法函数\n",
    "        super().__setattr__(name,value)\n",
    "a = Person()\n",
    "a.age = 17\n",
    "print(Person.age)\n",
    "print(a.age)"
   ]
  },
  {
   "cell_type": "code",
   "execution_count": 11,
   "metadata": {},
   "outputs": [
    {
     "name": "stdout",
     "output_type": "stream",
     "text": [
      "haha one比two大么？\n",
      "False\n"
     ]
    }
   ],
   "source": [
    "# __get__举例\n",
    "class Student():\n",
    "    def __init__(self,name):\n",
    "        self._name = name\n",
    "        \n",
    "    def __gt__(self,obj):\n",
    "        print(\"haha {0}比{1}大么？\".format(self._name,obj._name))\n",
    "        return self._name > obj._name\n",
    "    \n",
    "stu1 = Student(\"one\")\n",
    "stu2 = Student(\"two\")\n",
    "print(stu1 > stu2)"
   ]
  },
  {
   "cell_type": "code",
   "execution_count": 15,
   "metadata": {},
   "outputs": [
    {
     "name": "stdout",
     "output_type": "stream",
     "text": [
      "<__main__.Person object at 0x00000187C34F84E0>\n",
      "eating.....\n",
      "<class '__main__.Person'>\n",
      "playing....\n",
      "<class '__main__.Person'>\n",
      "playing....\n",
      "saying....\n",
      "saying....\n"
     ]
    }
   ],
   "source": [
    "# 三种方法案例\n",
    "class Person():\n",
    "    # 实例方法\n",
    "    def eat(self):\n",
    "        print(self)\n",
    "        print(\"eating.....\")\n",
    "    # 类方法\n",
    "    # 类方法的第一个参数一般命名为cls，为了个self区别\n",
    "    @classmethod\n",
    "    def play(cls):\n",
    "        print(cls)\n",
    "        print(\"playing....\")\n",
    "        \n",
    "    # 静态方法\n",
    "    # 不需要用第一个参数表示自身或类\n",
    "    @staticmethod\n",
    "    def say():\n",
    "        print(\"saying....\")\n",
    "        \n",
    "p = Person()\n",
    "\n",
    "# 实例方法\n",
    "p.eat()\n",
    "\n",
    "# 类方法\n",
    "Person.play()\n",
    "p.play()  # 实例也可以调用\n",
    "#静态方法\n",
    "Person.say()\n",
    "p.say()"
   ]
  },
  {
   "cell_type": "code",
   "execution_count": 24,
   "metadata": {},
   "outputs": [
    {
     "name": "stdout",
     "output_type": "stream",
     "text": [
      "挥挥手\n"
     ]
    }
   ],
   "source": [
    "# 抽象\n",
    "# 不同的子类方法名字相同，但是操作可能不同\n",
    "#只是定义一个接口，具体实现在子类中\n",
    "# 说明了父类应该具有的功能，子类也应该具有，也必须实现\n",
    "class Animal():          \n",
    "    def sayHello(self):  \n",
    "        pass              \n",
    "        \n",
    "class Dog(Animal):\n",
    "    def sayHello(self):\n",
    "        print(\"闻一闻\")\n",
    "\n",
    "class Person(Animal):\n",
    "    def sayHello(self):\n",
    "        print(\"挥挥手\")\n",
    "\n",
    "d = Dog()\n",
    "d.sayHello()\n",
    "p = Person()\n",
    "p.sayHello()"
   ]
  },
  {
   "cell_type": "code",
   "execution_count": null,
   "metadata": {},
   "outputs": [],
   "source": [
    "# 抽象类的实现\n",
    "import abc\n",
    "# 声明一个类并且制定当前类的元类\n",
    "class Human(metaclass = abc.ABCMeta):\n",
    "    # 定义一个抽象\n",
    "    "
   ]
  }
 ],
 "metadata": {
  "kernelspec": {
   "display_name": "Python 3",
   "language": "python",
   "name": "python3"
  },
  "language_info": {
   "codemirror_mode": {
    "name": "ipython",
    "version": 3
   },
   "file_extension": ".py",
   "mimetype": "text/x-python",
   "name": "python",
   "nbconvert_exporter": "python",
   "pygments_lexer": "ipython3",
   "version": "3.7.0"
  }
 },
 "nbformat": 4,
 "nbformat_minor": 2
}
