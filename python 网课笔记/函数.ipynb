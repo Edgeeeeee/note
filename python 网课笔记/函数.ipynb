{
 "cells": [
  {
   "cell_type": "markdown",
   "metadata": {},
   "source": [
    "# 函数"
   ]
  },
  {
   "cell_type": "code",
   "execution_count": 2,
   "metadata": {},
   "outputs": [],
   "source": [
    "def func():- \n",
    "    print(\"我爱python\")\n",
    "    print(\"woyaoxue python\")\n",
    "    return None"
   ]
  },
  {
   "cell_type": "code",
   "execution_count": 3,
   "metadata": {},
   "outputs": [
    {
     "name": "stdout",
     "output_type": "stream",
     "text": [
      "我爱python\n",
      "woyaoxue python\n"
     ]
    }
   ],
   "source": [
    "func()"
   ]
  },
  {
   "cell_type": "markdown",
   "metadata": {},
   "source": [
    "# 函数的参数和返回值\n",
    "- 参数：负责给函数传递一些必要的数据和信息\n",
    "    - 形式参数: 在函数定义时用到的参数，没有具体值，只是一个展位符号\n",
    "    - 实际参数: 在调用时输入的值\n",
    "- 返回值: 调用函数时候的一个执行结果\n",
    "    - 使用return返回结果\n",
    "    - 如果没有返回值，推荐使用 return None表示函数结束\n",
    "    - 函数一旦返回，则函数立即结束\n",
    "    - 没写默认返回None"
   ]
  },
  {
   "cell_type": "code",
   "execution_count": 7,
   "metadata": {},
   "outputs": [
    {
     "name": "stdout",
     "output_type": "stream",
     "text": [
      "小明,你好么\n",
      "小明,你看见我家狗狗了么?\n"
     ]
    }
   ],
   "source": [
    "#案例\n",
    "#参数person只是一个符号\n",
    "#调用的时候用另一个\n",
    "def hello(person):\n",
    "    print(\"{0},你好么\".format(person))\n",
    "    print(\"{},你看见我家狗狗了么?\".format(person))\n",
    "    return None\n",
    "    \n",
    "    \n",
    "p = \"小明\"\n",
    "#调用函数，需需要把p作为实际参数传入\n",
    "hello(p)"
   ]
  },
  {
   "cell_type": "code",
   "execution_count": 4,
   "metadata": {},
   "outputs": [
    {
     "name": "stdout",
     "output_type": "stream",
     "text": [
      "Help on built-in function print in module builtins:\n",
      "\n",
      "print(...)\n",
      "    print(value, ..., sep=' ', end='\\n', file=sys.stdout, flush=False)\n",
      "    \n",
      "    Prints the values to a stream, or to sys.stdout by default.\n",
      "    Optional keyword arguments:\n",
      "    file:  a file-like object (stream); defaults to the current sys.stdout.\n",
      "    sep:   string inserted between values, default a space.\n",
      "    end:   string appended after the last value, default a newline.\n",
      "    flush: whether to forcibly flush the stream.\n",
      "\n"
     ]
    }
   ],
   "source": [
    "help(print)"
   ]
  },
  {
   "cell_type": "code",
   "execution_count": 1,
   "metadata": {},
   "outputs": [
    {
     "name": "stdout",
     "output_type": "stream",
     "text": [
      "1 \n",
      "2 4 \n",
      "3 6 9 \n",
      "4 8 12 16 \n",
      "5 10 15 20 25 \n",
      "6 12 18 24 30 36 \n",
      "7 14 21 28 35 42 49 \n",
      "8 16 24 32 40 48 56 64 \n",
      "9 18 27 36 45 54 63 72 81 \n",
      "10 20 30 40 50 60 70 80 90 100 \n"
     ]
    }
   ],
   "source": [
    "#打印九九乘法表\n",
    "for row in range(1,11):\n",
    "    for col in range(1,row + 1):\n",
    "        # print打印后自动加换行符\n",
    "        print(col * row , end = ' ') # 结束输出一个空格\n",
    "    print(\"\") # 默认结束输出一个换行"
   ]
  },
  {
   "cell_type": "markdown",
   "metadata": {
    "collapsed": true
   },
   "source": [
    "# 函数参数\n",
    "- 默认参数:形参带有默认值\n",
    "- 如果没有对相应的形参赋值，则为默认值\n",
    "\n",
    "        def func_name(v1 = p1,v2 = p2,.....):\n",
    "            语句\n",
    "            \n",
    "- 关键字参数\n",
    "            \n",
    "            \n",
    "        def func_name(v1 = p1,v2 = p2,.....):\n",
    "            语句\n",
    "        - 函数调用\n",
    "            func_name(v1 = value1,v2 = value2 ......):\n",
    "        - 比较麻烦，但是也有好处，不容易混淆\n",
    "        - 正常调用时候形参和实参一一对应，使用关键字参数可以不考虑位置"
   ]
  },
  {
   "cell_type": "code",
   "execution_count": 23,
   "metadata": {},
   "outputs": [
    {
     "name": "stdout",
     "output_type": "stream",
     "text": [
      "i am a student\n",
      "我叫xmn,我15岁，我住在学校。\n"
     ]
    }
   ],
   "source": [
    "# 正常调用函数\n",
    "def stu_1(name,age,addr):\n",
    "    print('i am a student')\n",
    "    print(\"我叫{},我{}岁，我住在{}。\".format(name,age,addr))\n",
    "\n",
    "n = 'xmn'\n",
    "a = 15\n",
    "addr = '学校'\n",
    "\n",
    "stu_1(n,a,addr)"
   ]
  },
  {
   "cell_type": "code",
   "execution_count": 24,
   "metadata": {},
   "outputs": [
    {
     "name": "stdout",
     "output_type": "stream",
     "text": [
      "i am a student\n",
      "我叫xmn,我15岁，我住在学校。\n"
     ]
    }
   ],
   "source": [
    "# 关键字参数\n",
    "def stu_2(name,age,addr):\n",
    "    print('i am a student')\n",
    "    print(\"我叫{},我{}岁，我住在{}。\".format(name,age,addr))\n",
    "\n",
    "n = 'xmn'\n",
    "a = 15\n",
    "add = '学校'\n",
    "\n",
    "stu_2(addr = add, age = a, name = n)"
   ]
  },
  {
   "cell_type": "markdown",
   "metadata": {},
   "source": [
    "## 收集参数\n",
    "- 把没有位置，不能和定义时对应参数位置相对应的参数，放入一个特定的数据结构中\n",
    "- 语法\n",
    "            def func(*args):\n",
    "                func_body\n",
    "                \n",
    "                \n",
    "            - 调用\n",
    "            func(p1,p2,p3.....)\n",
    "- 参数名前面的*号表明这是一个收集参数\n",
    "- 收集参数和其他参数可以并存\n",
    "- 可按照list的使用方式访问得到传入的参数\n",
    "- 收集参数可以没有参数，得到一个空tuple"
   ]
  },
  {
   "cell_type": "code",
   "execution_count": 30,
   "metadata": {},
   "outputs": [
    {
     "name": "stdout",
     "output_type": "stream",
     "text": [
      "hello everyone, i want to say some things about me!\n",
      "<class 'tuple'>\n",
      "xmn\n",
      "2017061122\n",
      "man\n",
      "student\n",
      "hello everyone, i want to say some things about me!\n",
      "<class 'tuple'>\n",
      "master xu\n",
      "hello everyone, i want to say some things about me!\n",
      "<class 'tuple'>\n"
     ]
    }
   ],
   "source": [
    "# 收集参数代码\n",
    "# 函数模拟一个学生自我介绍，但具体内容不清楚\n",
    "def student(*args):\n",
    "    print(\"hello everyone, i want to say some things about me!\")\n",
    "    print(type(args))\n",
    "    for items in args:\n",
    "        print(items)\n",
    "\n",
    "student('xmn',2017061122,'man','student')\n",
    "student('master xu')\n",
    "student()\n"
   ]
  },
  {
   "cell_type": "code",
   "execution_count": 31,
   "metadata": {},
   "outputs": [
    {
     "ename": "TypeError",
     "evalue": "student() got an unexpected keyword argument 'name'",
     "output_type": "error",
     "traceback": [
      "\u001b[1;31m---------------------------------------------------------------------------\u001b[0m",
      "\u001b[1;31mTypeError\u001b[0m                                 Traceback (most recent call last)",
      "\u001b[1;32m<ipython-input-31-7e75a68647ca>\u001b[0m in \u001b[0;36m<module>\u001b[1;34m()\u001b[0m\n\u001b[1;32m----> 1\u001b[1;33m \u001b[0mstudent\u001b[0m\u001b[1;33m(\u001b[0m\u001b[0mname\u001b[0m \u001b[1;33m=\u001b[0m \u001b[1;34m\"xmn\"\u001b[0m\u001b[1;33m)\u001b[0m\u001b[1;33m\u001b[0m\u001b[0m\n\u001b[0m",
      "\u001b[1;31mTypeError\u001b[0m: student() got an unexpected keyword argument 'name'"
     ]
    }
   ],
   "source": [
    "student(name = \"xmn\")"
   ]
  },
  {
   "cell_type": "markdown",
   "metadata": {},
   "source": [
    "\n",
    "### 收集参数之关键字收集参数\n",
    "- 把关键字参数案子典的格式存入收集参数\n",
    "- 语法\n",
    "            def func_name( **kwargs):\n",
    "                func_body\n",
    "                \n",
    "            - 调用\n",
    "            func(v1 = p1, v2 = p2 , .....)\n",
    "        \n",
    "        - kwargs 一般约定俗成\n",
    "        - 调用的时候把多余的参数放进kwargs中\n",
    "        - 访问kwargs时要按照字典去访问\n",
    "        - 参数可以为空"
   ]
  },
  {
   "cell_type": "code",
   "execution_count": 37,
   "metadata": {},
   "outputs": [
    {
     "name": "stdout",
     "output_type": "stream",
     "text": [
      "hello 大家好，做一个自我介绍\n",
      "name ---- xmn\n",
      "age ---- 20\n",
      "gender ---- man\n",
      "addr ---- 哈尔滨工程大学\n",
      "<class 'dict'>\n",
      "**************************************************\n"
     ]
    }
   ],
   "source": [
    "# 收集参数之关键字参数案例\n",
    "# 自我介绍\n",
    "# 调用时用关键字参数\n",
    "def stu(**kwargs):\n",
    "    print(\"hello 大家好，做一个自我介绍\")\n",
    "    for k,v in kwargs.items():\n",
    "        print(k,'----',v)\n",
    "    print(type(kwargs))\n",
    "    print('*' * 50)\n",
    "stu(name = \"xmn\",age = 20 ,gender = \"man\",addr = \"哈尔滨工程大学\")\n"
   ]
  },
  {
   "cell_type": "markdown",
   "metadata": {},
   "source": [
    "### 收集参数混合调用的顺序问题\n",
    "- 收集参数，关键字参数，普通参数可以混合使用\n",
    "- 使用规则就是关键字参数和普通参数优先\n",
    "- 定义的时候顺序：普通参数，收集参数tuple，关键字参数，收集参数dict\n",
    "- 调用顺序相同"
   ]
  },
  {
   "cell_type": "code",
   "execution_count": 58,
   "metadata": {},
   "outputs": [
    {
     "name": "stdout",
     "output_type": "stream",
     "text": [
      "大家好，我叫徐孟楠，今年20岁\n",
      "我的爱好是游泳\n",
      "我喜欢学习python\n",
      "我是个小白\n",
      "我要变成大佬\n",
      "xxxxxxxxxxxxxxxxxxxxx\n",
      "xxxxxxxxxxxxxxxx\n",
      "hobby1 ---- reading\n",
      "hobby2 ---- cooking\n",
      "leearning ---- python\n"
     ]
    }
   ],
   "source": [
    "# 收集参数混合调用案例\n",
    "# stu模拟学生的自我介绍\n",
    "def stu(name,age,*args,hobby = \"没有\",**kwargs):\n",
    "    print(\"大家好，我叫{0}，今年{1}岁\".format(name,age))\n",
    "    if hobby == \"没有\":\n",
    "        print(\"我没啥爱好\")\n",
    "    else:\n",
    "        print(\"我的爱好是{0}\".format(hobby))\n",
    "    for i in args:\n",
    "        print(i)\n",
    "    for k,v in kwargs.items():\n",
    "        print(k,\"----\",v)\n",
    "\n",
    "        \n",
    "n = \"徐孟楠\"\n",
    "a = 20\n",
    "h = \"游泳\"\n",
    "stu(n,a,\"我喜欢学习python\",\"我是个小白\",\"我要变成大佬\",\"xxxxxxxxxxxxxxxxxxxxx\\nxxxxxxxxxxxxxxxx\",hobby = h,hobby1 = \"reading\" , hobby2 = \"cooking\",leearning = \"python\")"
   ]
  },
  {
   "cell_type": "markdown",
   "metadata": {},
   "source": [
    "### 收集参数的解包问题\n",
    "- 把参数放入list或者字典中，直接把list/dict的值放入收集参数中"
   ]
  },
  {
   "cell_type": "code",
   "execution_count": 74,
   "metadata": {},
   "outputs": [
    {
     "name": "stdout",
     "output_type": "stream",
     "text": [
      "start\n",
      "1 hahahah <class 'str'>\n",
      "2 learn <class 'str'>\n",
      "3 python <class 'str'>\n",
      "******************************\n",
      "start\n",
      "1 ['xmn', 20, '喜欢python'] <class 'list'>\n",
      "******************************\n",
      "start\n",
      "1 ['what', 'happen', '?'] <class 'list'>\n",
      "******************************\n",
      "start\n",
      "1 xmn <class 'str'>\n",
      "2 20 <class 'int'>\n",
      "3 喜欢python <class 'str'>\n",
      "******************************\n",
      "start\n",
      "1 what <class 'str'>\n",
      "2 happen <class 'str'>\n",
      "3 ? <class 'str'>\n",
      "******************************\n"
     ]
    }
   ],
   "source": [
    "# 收集参数的解包问题\n",
    "def stu(*args ):\n",
    "    n = 1\n",
    "    print(\"start\")\n",
    "    \n",
    "    for i in args:\n",
    "        print(n,end = \" \")\n",
    "        print(i,end = \" \")\n",
    "        print(type(i))\n",
    "        n += 1\n",
    "    print(\"*\" * 30)\n",
    "        \n",
    "stu(\"hahahah\",\"learn\",\"python\")\n",
    "l = list()\n",
    "l.append(\"xmn\")\n",
    "l.append(20)\n",
    "l.append(\"喜欢python\")\n",
    "stu(l)\n",
    "# 此时args表示一个类型的元素\n",
    "o = [\"what\",\"happen\",\"?\"]\n",
    "stu(o)\n",
    "\n",
    "# 此时，调用我们需要解包，方法是在前面加一个*\n",
    "stu(*l)\n",
    "stu(*o)"
   ]
  },
  {
   "cell_type": "markdown",
   "metadata": {},
   "source": [
    "# 函数文档\n",
    "- 函数文档的作用是对当前函数提供使用相关的参考信息\n",
    "- 文档的写法\n",
    "    - 在函数内部开始的第一行使用三引号定义符\n",
    "    - 一般具有特定格式\n",
    "    - 参看案例\n",
    "- 文档查看\n",
    "    - 使用help函数，形如help(func)\n",
    "    - 使用S._doc_"
   ]
  },
  {
   "cell_type": "code",
   "execution_count": 80,
   "metadata": {},
   "outputs": [
    {
     "data": {
      "text/plain": [
       "'\\n    这是第一行\\n    这是第二行\\n    这是第三行\\n    '"
      ]
     },
     "execution_count": 80,
     "metadata": {},
     "output_type": "execute_result"
    }
   ],
   "source": [
    "# 文档案例\n",
    "def func1(a,b,c):\n",
    "    '''\n",
    "    这是第一行\n",
    "    这是第二行\n",
    "    这是第三行\n",
    "    '''\n",
    "    pass\n",
    "\n",
    "func1.__doc__"
   ]
  },
  {
   "cell_type": "markdown",
   "metadata": {},
   "source": [
    "# 传值传址问题\n",
    "- 对于简单的数值，采用传值操作，即对在函数内的参数操作不影响外面的变量\n",
    "- 对于复杂的变量，采用传地址操作，此时函数内的参数和外部变量是同一份内容，任何地方对此内容的更改都影响另外的变量和参数的使用"
   ]
  },
  {
   "cell_type": "code",
   "execution_count": 3,
   "metadata": {},
   "outputs": [
    {
     "name": "stdout",
     "output_type": "stream",
     "text": [
      "[1, 2, 3, 4, 5]\n",
      "[1, 2, 300, 4, 5]\n",
      "[1, 2, 300, 4, 5]\n",
      "9\n",
      "109\n",
      "9\n"
     ]
    }
   ],
   "source": [
    "def a(n):\n",
    "    n[2] = 300 \n",
    "    print(n)\n",
    "    return None\n",
    "\n",
    "def b(n):\n",
    "    n += 100 \n",
    "    print(n)\n",
    "    return None\n",
    "\n",
    "an = [1,2,3,4,5] #复杂变量\n",
    "bn = 9  #简单数值\n",
    " \n",
    "print(an)\n",
    "a(an)\n",
    "print(an)\n",
    "\n",
    "print(bn)\n",
    "b(bn)\n",
    "print(bn)"
   ]
  },
  {
   "cell_type": "code",
   "execution_count": null,
   "metadata": {},
   "outputs": [],
   "source": []
  }
 ],
 "metadata": {
  "kernelspec": {
   "display_name": "Python 3",
   "language": "python",
   "name": "python3"
  },
  "language_info": {
   "codemirror_mode": {
    "name": "ipython",
    "version": 3
   },
   "file_extension": ".py",
   "mimetype": "text/x-python",
   "name": "python",
   "nbconvert_exporter": "python",
   "pygments_lexer": "ipython3",
   "version": "3.7.0"
  }
 },
 "nbformat": 4,
 "nbformat_minor": 2
}
