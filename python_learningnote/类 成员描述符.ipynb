{
 "cells": [
  {
   "cell_type": "markdown",
   "metadata": {},
   "source": [
    "### 属性的三种用法\n",
    "- 赋值\n",
    "- 读取\n",
    "- 删除 "
   ]
  },
  {
   "cell_type": "code",
   "execution_count": 6,
   "metadata": {},
   "outputs": [
    {
     "name": "stdout",
     "output_type": "stream",
     "text": [
      "None\n",
      "********************\n",
      "我被读取了！\n",
      "None\n",
      "我被写入了，还可以有其他功能\n",
      "xmn\n",
      "我被读取了！\n",
      "xmn\n"
     ]
    }
   ],
   "source": [
    "# 类属性 property\n",
    "# 应用场景\n",
    "# 对变量除了普通的三种操作，还想增加一些附加的操作，那么可以通过property完成\n",
    "\n",
    "class A():\n",
    "    def __init__(self):\n",
    "        self.name = \"None\"\n",
    "        self.age = 20\n",
    "        \n",
    "    def fget(self):   # 此功能是对类变量进行读取操作时侯应该执行的函数功能\n",
    "        print(\"我被读取了！\")\n",
    "        return self.name\n",
    "    def fset(self,name):  # 模拟对变量进行写操作\n",
    "        print(\"我被写入了，还可以有其他功能\")\n",
    "        self.name = \"xmn\"\n",
    "        \n",
    "    def fdel(self):   # 模拟删除变量的时候进行的操作\n",
    "        pass\n",
    "    \n",
    "    name2 = property(fget,fset,fdel,\"这只是一个举例\")\n",
    "        \n",
    "a = A()\n",
    "print(a.name)\n",
    "print(\"*\"*20)\n",
    "print(a.name2)\n",
    "a.name2 = \"xmn1\"\n",
    "print(a.name)\n",
    "print(a.name2)"
   ]
  },
  {
   "cell_type": "code",
   "execution_count": null,
   "metadata": {},
   "outputs": [],
   "source": []
  }
 ],
 "metadata": {
  "kernelspec": {
   "display_name": "Python 3",
   "language": "python",
   "name": "python3"
  },
  "language_info": {
   "codemirror_mode": {
    "name": "ipython",
    "version": 3
   },
   "file_extension": ".py",
   "mimetype": "text/x-python",
   "name": "python",
   "nbconvert_exporter": "python",
   "pygments_lexer": "ipython3",
   "version": "3.7.0"
  }
 },
 "nbformat": 4,
 "nbformat_minor": 2
}
