{
 "cells": [
  {
   "cell_type": "markdown",
   "metadata": {},
   "source": [
    "# 数据链路层\n",
    "- 使用点对点信道的数据链路层\n",
    "- 点对点协议PPP\n",
    "- 使用广播信道的数据链路层\n",
    "- 扩展的以太网\n",
    "- 高速以太网"
   ]
  },
  {
   "cell_type": "markdown",
   "metadata": {},
   "source": [
    "### 数据链路层使用的信道\n",
    "- 点对点信道。这种使用一对一的点对点通信方式\n",
    "- 广播信道。这种信道使用一对多的广播通信方式，因此过程比较复杂。广播信道上连接的主机很多，ui那次必须使用转哟个的贡献信道协议来协调这些主机的数据发送"
   ]
  },
  {
   "cell_type": "markdown",
   "metadata": {},
   "source": [
    "## 使用点对点的信道的数据链路层\n",
    "- 数据链路和帧\n",
    "- 三个基本问题"
   ]
  },
  {
   "cell_type": "markdown",
   "metadata": {},
   "source": [
    "### 数据链路和帧\n",
    "- 链路是一条无源的点到点的物理线路段，中间没有任何其他交换结点\n",
    "    - 一条链路只是一条通路的一个组成部分\n",
    "- 数据链路除了物理线路外，还必须有通信协议控制这些数据的传输。若把这些协议的硬件和软件加到链路上，就构成了数据链路\n",
    "    - 现在最常用的方法是使用适配器来实现这些协议的硬件和软件。(即网卡)\n",
    "    - 一般的适配器都包括了数据链路层和物理层这两层的功能。"
   ]
  },
  {
   "cell_type": "markdown",
   "metadata": {},
   "source": [
    "### 三个基本问题\n",
    "#### 封装成帧\n",
    "    - 就是在一段数据的 前后分别添加首部和尾部，然后就构成了一个帧。确定帧的界限\n",
    "    - 首部和尾部的一个重要作用就是帧定界\n",
    "    - 当数据室友可打印的ASCII码组成的文本文件时，帧定界可以使用特殊的帧定界符\n",
    "    - 控制字符SOH放在一帧的最前面表示帧的首部的开始，另一个控制字符EOF表示帧的结束\n",
    "#### 透明传输\n",
    "    - 如果数据中的某个字节的二进制代码恰好和 SOH 或 EOT 一样，数据链路层就会错误的找到边界\n",
    "    - 解决方法:__字节填充__ 或者 __字符填充__\n",
    "    \n",
    "- 差错控制"
   ]
  },
  {
   "cell_type": "code",
   "execution_count": null,
   "metadata": {},
   "outputs": [],
   "source": []
  }
 ],
 "metadata": {
  "kernelspec": {
   "display_name": "Python 3",
   "language": "python",
   "name": "python3"
  },
  "language_info": {
   "codemirror_mode": {
    "name": "ipython",
    "version": 3
   },
   "file_extension": ".py",
   "mimetype": "text/x-python",
   "name": "python",
   "nbconvert_exporter": "python",
   "pygments_lexer": "ipython3",
   "version": "3.7.0"
  }
 },
 "nbformat": 4,
 "nbformat_minor": 2
}
